{
  "nbformat": 4,
  "nbformat_minor": 0,
  "metadata": {
    "colab": {
      "name": "leetcode practice.ipynb",
      "provenance": [],
      "collapsed_sections": [],
      "authorship_tag": "ABX9TyO6U8QSGEZTWvHYkn03J5J5",
      "include_colab_link": true
    },
    "kernelspec": {
      "name": "python3",
      "display_name": "Python 3"
    }
  },
  "cells": [
    {
      "cell_type": "markdown",
      "metadata": {
        "id": "view-in-github",
        "colab_type": "text"
      },
      "source": [
        "<a href=\"https://colab.research.google.com/github/xiaoyaoyang/leetcode/blob/master/leetcode_practice.ipynb\" target=\"_parent\"><img src=\"https://colab.research.google.com/assets/colab-badge.svg\" alt=\"Open In Colab\"/></a>"
      ]
    },
    {
      "cell_type": "markdown",
      "metadata": {
        "id": "em2w0LCS_256",
        "colab_type": "text"
      },
      "source": [
        "Import"
      ]
    },
    {
      "cell_type": "code",
      "metadata": {
        "id": "gtIDIxVWCasD",
        "colab_type": "code",
        "colab": {}
      },
      "source": [
        "# !pip3 install ColabTurtle\n",
        "# import ColabTurtle.Turtle as t"
      ],
      "execution_count": null,
      "outputs": []
    },
    {
      "cell_type": "code",
      "metadata": {
        "id": "vRlyAXXODSlS",
        "colab_type": "code",
        "colab": {}
      },
      "source": [
        "# t.initializeTurtle()\n",
        "# # color('red', 'yellow')\n",
        "# # begin_fill()\n",
        "# while True:\n",
        "#     t.forward(200)\n",
        "#     t.left(170)\n",
        "#     pos = t.turtle_pos\n",
        "#     pos_abs = (pos[0]**2 + pos[1]**2)**(1/2)\n",
        "#     print(pos_abs)\n",
        "#     if pos_abs < 1:\n",
        "#         break\n",
        "# end_fill()\n",
        "# done()"
      ],
      "execution_count": null,
      "outputs": []
    },
    {
      "cell_type": "code",
      "metadata": {
        "id": "R6gTjFCWmKv2",
        "colab_type": "code",
        "colab": {}
      },
      "source": [
        "#import\n",
        "from typing import List\n",
        "import copy\n",
        "from collections import Counter\n",
        "import heapq\n",
        "\n",
        "class TreeNode:\n",
        "    def __init__(self, val, left=None, right=None):\n",
        "        self.val = val\n",
        "        self.left = left\n",
        "        self.right = right\n",
        "    def __repr__(self):\n",
        "        return 'TreeNode({})'.format(self.val)\n",
        "    \n",
        "def deserialize(string):\n",
        "    if string == '{}':\n",
        "        return None\n",
        "    nodes = [None if val == 'null' else TreeNode(int(val))\n",
        "             for val in string.strip('[]{}').split(',')]\n",
        "    kids = nodes[::-1]\n",
        "    root = kids.pop()\n",
        "    for node in nodes:\n",
        "        if node:\n",
        "            if kids: node.left  = kids.pop()\n",
        "            if kids: node.right = kids.pop()\n",
        "    return root\n",
        "\n",
        "def drawtree(root):\n",
        "    def height(root):\n",
        "        return 1 + max(height(root.left), height(root.right)) if root else -1\n",
        "    def jumpto(x, y):\n",
        "        t.penup()\n",
        "        t.goto(x, y)\n",
        "        t.pendown()\n",
        "    def draw(node, x, y, dx):\n",
        "        if node:\n",
        "            t.goto(x, y)\n",
        "            jumpto(x, y-20)\n",
        "            t.write(node.val, align='center', font=('Arial', 12, 'normal'))\n",
        "            draw(node.left, x-dx, y-60, dx/2)\n",
        "            jumpto(x, y-20)\n",
        "            draw(node.right, x+dx, y-60, dx/2)\n",
        "    import turtle \n",
        "    t = turtle.Turtle()\n",
        "    t.speed(0); turtle.delay(0)\n",
        "    h = height(root)\n",
        "    jumpto(0, 30*h)\n",
        "    draw(root, 0, 30*h, 40*h)\n",
        "    t.hideturtle()\n",
        "    turtle.mainloop()\n",
        "    \n",
        "if __name__ == '__main__':\n",
        "    deserialize('[1,2,3,null,null,4,null,null,5]')\n",
        "    # drawtree(deserialize('[2,1,3,0,7,9,1,2,null,1,0,null,null,8,8,null,null,null,null,7]'))\n",
        "t = deserialize('[1,2,3,null,4,null,null,5]')\n",
        "t2 = copy.deepcopy(t)\n",
        "bst = deserialize('[6,2,8,0,4,7,9,null,null,3,5]')\n",
        "t3 = deserialize('[3,5,1,6,2,0,8,null,null,7,4]')\n",
        "bst2 = deserialize('[0,-1]')\n"
      ],
      "execution_count": null,
      "outputs": []
    },
    {
      "cell_type": "markdown",
      "metadata": {
        "id": "if4asHgZ7gt1",
        "colab_type": "text"
      },
      "source": [
        "14. Longest Common Prefix\n"
      ]
    },
    {
      "cell_type": "code",
      "metadata": {
        "id": "CUdncH-_7KaZ",
        "colab_type": "code",
        "colab": {}
      },
      "source": [
        "from typing import List\n",
        "class Solution:\n",
        "    def longestCommonPrefix(self, strs: List[str]) -> str:\n",
        "        if len(strs) == 0: return \"\"\n",
        "        if len(strs) == 1: return strs[0]\n",
        "        word_base = strs[0]\n",
        "        word_base_length = len(word_base)\n",
        "        min_prefix_length = float(\"inf\")\n",
        "        for word in strs[1:]:\n",
        "          word_length = len(word)\n",
        "          search_length = min(word_length,word_base_length)\n",
        "          prefix_length = 0\n",
        "          for i in range(1,search_length+1):\n",
        "            # print(f'compare {word_base[:i]} and { word[:i]}')\n",
        "            # print(prefix_length)\n",
        "            if word_base[:i] == word[:i]:\n",
        "              prefix_length=i\n",
        "            else:\n",
        "              break\n",
        "        #   print(f'prefix len:{prefix_length}')\n",
        "          if prefix_length == 0: return(\"\")\n",
        "          if prefix_length<min_prefix_length:\n",
        "            min_prefix_length = prefix_length\n",
        "\n",
        "        if min_prefix_length>0:\n",
        "          return word_base[:min_prefix_length]\n",
        "        else:\n",
        "          return \"\"\n",
        "\n",
        "        "
      ],
      "execution_count": null,
      "outputs": []
    },
    {
      "cell_type": "code",
      "metadata": {
        "id": "GesfXsxY7dj8",
        "colab_type": "code",
        "colab": {
          "base_uri": "https://localhost:8080/",
          "height": 34
        },
        "outputId": "08df09ec-6950-480e-9a59-9726f5d234c8"
      },
      "source": [
        "test = Solution()\n",
        "test.longestCommonPrefix([\"a\",\"a\",\"b\"])"
      ],
      "execution_count": null,
      "outputs": [
        {
          "output_type": "execute_result",
          "data": {
            "text/plain": [
              "''"
            ]
          },
          "metadata": {
            "tags": []
          },
          "execution_count": 14
        }
      ]
    },
    {
      "cell_type": "code",
      "metadata": {
        "id": "MZFUpexE7q-x",
        "colab_type": "code",
        "colab": {
          "base_uri": "https://localhost:8080/",
          "height": 34
        },
        "outputId": "bdf74ae3-0d85-4650-9533-e5e464c9e5fc"
      },
      "source": [
        "test.longestCommonPrefix([\"flower\",\"flow\",\"flight\"])"
      ],
      "execution_count": null,
      "outputs": [
        {
          "output_type": "execute_result",
          "data": {
            "text/plain": [
              "'fl'"
            ]
          },
          "metadata": {
            "tags": []
          },
          "execution_count": 15
        }
      ]
    },
    {
      "cell_type": "markdown",
      "metadata": {
        "id": "ZRdET1gCEabd",
        "colab_type": "text"
      },
      "source": [
        "15. 3Sum *(need to be optimized)*\n"
      ]
    },
    {
      "cell_type": "code",
      "metadata": {
        "id": "k49tedJqT5UL",
        "colab_type": "code",
        "colab": {}
      },
      "source": [
        "from typing import List\n",
        "import itertools\n",
        "class Solution:\n",
        "    def __init__(self):\n",
        "      self.dict_2 = {}\n",
        "      self.dict_3 = {}\n",
        "      self.result = list()\n",
        "    def twoSum(self, target, lst, index):\n",
        "      self.dict_2 = {}\n",
        "      for i in range(len(lst)):\n",
        "        if lst[i] in self.dict_2:\n",
        "          if self.dict_3.get(target) is None:\n",
        "            self.dict_3[target] = list()\n",
        "            self.dict_3[target].append(list([self.dict_2[lst[i]], i + index]))\n",
        "          else:\n",
        "            self.dict_3[target].append(list([self.dict_2[lst[i]], i + index]))\n",
        "          self.result.append([-target,self.nums[self.dict_2[lst[i]]], self.nums[i+index]])\n",
        "        else:\n",
        "          self.dict_2[target-lst[i]] = i + index  # original nums\n",
        "      return self.dict_3\n",
        "\n",
        "    def threeSum(self, nums: List[int]) -> List[List[int]]:\n",
        "      nums.sort() \n",
        "      self.nums = nums.copy()\n",
        "    #   print(nums)\n",
        "      dict_3 = self.dict_3\n",
        "      i = 0\n",
        "      while len(nums)>0:\n",
        "        pop_value = nums.pop(0)\n",
        "        # if not found in self.dict_3 run \n",
        "        if -pop_value not in self.dict_3:\n",
        "          res = self.twoSum(-pop_value, nums, i+1)\n",
        "        # print(f'{i} {pop_value}:{res} , {nums}')\n",
        "        i = i+ 1\n",
        "      self.result = list(k for k,_ in itertools.groupby(self.result))\n",
        "      return self.result\n",
        "         \n",
        "        "
      ],
      "execution_count": null,
      "outputs": []
    },
    {
      "cell_type": "code",
      "metadata": {
        "id": "rvpcjB6FT6yk",
        "colab_type": "code",
        "colab": {
          "base_uri": "https://localhost:8080/",
          "height": 34
        },
        "outputId": "ea8ffdd9-3bfa-4917-dd89-38fd4125d1d1"
      },
      "source": [
        "test = Solution()\n",
        "test.threeSum([-4,-2,1,-5,-4,-4,4,-2,0,4,0,-2,3,1,-5,0])"
      ],
      "execution_count": null,
      "outputs": [
        {
          "output_type": "execute_result",
          "data": {
            "text/plain": [
              "[[-5, 1, 4], [-4, 1, 3], [-4, 0, 4], [-2, 1, 1], [-2, -2, 4], [0, 0, 0]]"
            ]
          },
          "metadata": {
            "tags": []
          },
          "execution_count": 17
        }
      ]
    },
    {
      "cell_type": "markdown",
      "metadata": {
        "id": "bhsFjhr9eF0W",
        "colab_type": "text"
      },
      "source": [
        "17. Letter Combinations of a Phone Number"
      ]
    },
    {
      "cell_type": "code",
      "metadata": {
        "id": "mpHjpG3Mi6kJ",
        "colab_type": "code",
        "colab": {}
      },
      "source": [
        "from typing import List\n",
        "class Solution:\n",
        "    def __init__(self):\n",
        "        self.map_dict = {\n",
        "            1:\"\",\n",
        "            2:\"abc\",\n",
        "            3:\"def\",\n",
        "            4:\"ghi\",\n",
        "            5:\"jkl\",\n",
        "            6:\"mno\",\n",
        "            7:\"pqrs\",\n",
        "            8:\"tuv\",\n",
        "            9:\"wxyz\",\n",
        "        }       \n",
        "    def helper(self, d):\n",
        "        if len(d) == 1: \n",
        "            return [i for i in self.map_dict.get(int(d))]\n",
        "        return [ans + i for ans in self.helper(d[:-1]) for i in self.map_dict.get(int(d[-1]))]\n",
        "\n",
        "\n",
        "    def letterCombinations(self, digits: str) -> List[str]:\n",
        "        if digits == '': return []\n",
        "        return self.helper(digits)\n",
        "\n",
        "\n",
        "      \n",
        "\n",
        "\n"
      ],
      "execution_count": null,
      "outputs": []
    },
    {
      "cell_type": "code",
      "metadata": {
        "id": "BnbN4hqPjfuG",
        "colab_type": "code",
        "colab": {}
      },
      "source": [
        "test = Solution()"
      ],
      "execution_count": null,
      "outputs": []
    },
    {
      "cell_type": "code",
      "metadata": {
        "id": "CziOSl2IjhIA",
        "colab_type": "code",
        "colab": {
          "base_uri": "https://localhost:8080/",
          "height": 34
        },
        "outputId": "e50ea281-e9f3-441f-8e99-86946362bc65"
      },
      "source": [
        "test.letterCombinations(\"56\")"
      ],
      "execution_count": null,
      "outputs": [
        {
          "output_type": "execute_result",
          "data": {
            "text/plain": [
              "['jm', 'jn', 'jo', 'km', 'kn', 'ko', 'lm', 'ln', 'lo']"
            ]
          },
          "metadata": {
            "tags": []
          },
          "execution_count": 20
        }
      ]
    },
    {
      "cell_type": "markdown",
      "metadata": {
        "id": "kLu-ly3DuG3y",
        "colab_type": "text"
      },
      "source": [
        "20. Valid Parentheses"
      ]
    },
    {
      "cell_type": "code",
      "metadata": {
        "id": "Po2gzPiLuA-D",
        "colab_type": "code",
        "colab": {}
      },
      "source": [
        "class Solution:\n",
        "    def isValid(self, s: str) -> bool:\n",
        "        q = []\n",
        "        mapping = {\"(\":\")\",\"{\":\"}\",\"[\":\"]\"}\n",
        "        for i in s:\n",
        "            if i in list(mapping.keys()):\n",
        "                q.append(mapping.get(i))\n",
        "                continue\n",
        "            if q == []: return False\n",
        "            if i == q[-1]:\n",
        "                q = q[:-1]\n",
        "            else:\n",
        "                return False\n",
        "        if q == []:\n",
        "            return True\n",
        "        else:\n",
        "            return False\n",
        "\n",
        "                "
      ],
      "execution_count": null,
      "outputs": []
    },
    {
      "cell_type": "code",
      "metadata": {
        "id": "9PDv5zFUvQCm",
        "colab_type": "code",
        "colab": {
          "base_uri": "https://localhost:8080/",
          "height": 34
        },
        "outputId": "06b81ec1-e7db-46bf-de8b-dd4388c1c5b0"
      },
      "source": [
        "test = Solution()\n",
        "test.isValid(\"[\")"
      ],
      "execution_count": null,
      "outputs": [
        {
          "output_type": "execute_result",
          "data": {
            "text/plain": [
              "False"
            ]
          },
          "metadata": {
            "tags": []
          },
          "execution_count": 22
        }
      ]
    },
    {
      "cell_type": "markdown",
      "metadata": {
        "id": "it5JqFQn02_a",
        "colab_type": "text"
      },
      "source": [
        "21. Merge Two Sorted Lists\n"
      ]
    },
    {
      "cell_type": "code",
      "metadata": {
        "id": "37EmUN5eyVxG",
        "colab_type": "code",
        "colab": {
          "base_uri": "https://localhost:8080/",
          "height": 129
        },
        "outputId": "e2cc4216-91a0-46f6-ad35-2cbd0f2810af"
      },
      "source": [
        "# Definition for singly-linked list.\n",
        "# class ListNode:\n",
        "#     def __init__(self, x):\n",
        "#         self.val = x\n",
        "#         self.next = None\n",
        "\n",
        "class Solution:\n",
        "    def mergeTwoLists(self, l1: ListNode, l2: ListNode) -> ListNode:\n",
        "        "
      ],
      "execution_count": null,
      "outputs": [
        {
          "output_type": "error",
          "ename": "SyntaxError",
          "evalue": "ignored",
          "traceback": [
            "\u001b[0;36m  File \u001b[0;32m\"<ipython-input-23-bdbb93a1810e>\"\u001b[0;36m, line \u001b[0;32m4\u001b[0m\n\u001b[0;31m    \u001b[0m\n\u001b[0m    ^\u001b[0m\n\u001b[0;31mSyntaxError\u001b[0m\u001b[0;31m:\u001b[0m unexpected EOF while parsing\n"
          ]
        }
      ]
    },
    {
      "cell_type": "markdown",
      "metadata": {
        "id": "mcunevvv2XZw",
        "colab_type": "text"
      },
      "source": [
        "22. Generate Parentheses\n"
      ]
    },
    {
      "cell_type": "code",
      "metadata": {
        "id": "xyygfszu2ZXH",
        "colab_type": "code",
        "colab": {}
      },
      "source": [
        "class Solution:\n",
        "    def helper(self,\n",
        "               n,\n",
        "               final_result,\n",
        "               result = \"(\", \n",
        "               result_length = 1, \n",
        "               valid_index = 1,\n",
        "               ):\n",
        "        # print(f'{valid_index} {result_length}')\n",
        "    # termination condition\n",
        "        if result_length == 2*n-1 and valid_index ==1:\n",
        "            return final_result.append(result + \")\")\n",
        "        if result_length == 2*n-1:\n",
        "            return True\n",
        "        if valid_index ==0:\n",
        "            return  self.helper(n,final_result,result + \"(\" , result_length+1, valid_index+1)\n",
        "        if valid_index>0 and valid_index<n:\n",
        "            return  [self.helper(n,final_result,result + \"(\" , result_length+1, valid_index+1), self.helper(n,final_result,result + \")\" , result_length+1, valid_index-1)]\n",
        "        if valid_index ==n:\n",
        "            return  self.helper(n,final_result,result + \")\" , result_length+1, valid_index-1)\n",
        "        return False\n",
        "\n",
        "    def generateParenthesis(self, n: int) -> List[str]:\n",
        "        final_result = []\n",
        "        self.helper(n,final_result)\n",
        "        return final_result\n",
        "\n",
        "\n",
        "\n",
        "\n",
        "        "
      ],
      "execution_count": null,
      "outputs": []
    },
    {
      "cell_type": "code",
      "metadata": {
        "id": "UvWIk-WC2acq",
        "colab_type": "code",
        "colab": {
          "base_uri": "https://localhost:8080/",
          "height": 34
        },
        "outputId": "2f5fc3c1-9b86-48ab-c34b-9fb86fc46a62"
      },
      "source": [
        "test = Solution()\n",
        "test.generateParenthesis(3)"
      ],
      "execution_count": null,
      "outputs": [
        {
          "output_type": "execute_result",
          "data": {
            "text/plain": [
              "['((()))', '(()())', '(())()', '()(())', '()()()']"
            ]
          },
          "metadata": {
            "tags": []
          },
          "execution_count": 24
        }
      ]
    },
    {
      "cell_type": "markdown",
      "metadata": {
        "id": "6m1fq3rq72FC",
        "colab_type": "text"
      },
      "source": [
        "23. Merge k Sorted Lists"
      ]
    },
    {
      "cell_type": "code",
      "metadata": {
        "id": "NWXVtiVq7z2_",
        "colab_type": "code",
        "colab": {}
      },
      "source": [
        "# Definition for singly-linked list.\n",
        "class ListNode:\n",
        "    def __init__(self, x):\n",
        "        self.val = x\n",
        "        self.next = None\n",
        "\n",
        "# class Solution:\n",
        "#     def mergeKLists(self, lists: List[ListNode]) -> ListNode:\n",
        "#         if lists == [[]]:\n",
        "#             return None\n",
        "#         #initial\n",
        "#         final_result = ListNode(None)\n",
        "#         loop_result = final_result\n",
        "#         current = [i.val if i != None else None for i in lists ]\n",
        "#         print(current)\n",
        "#         i=0\n",
        "#         while not all(v is None for v in current):\n",
        "#             print(i)\n",
        "#             # Find min\n",
        "#             print(current)\n",
        "#             min_value = min([i for i in current if i!=None ])\n",
        "#             min_index = current.index(min_value)\n",
        "#             # action\n",
        "#             lists[min_index] = lists[min_index].next\n",
        "#             loop_result.next = ListNode(min_value)\n",
        "#             loop_result = loop_result.next\n",
        "#             # update\n",
        "#             current = [i.val if i != None else None for i in lists ]\n",
        "#             i = i+1\n",
        "#         return final_result.next\n",
        "\n",
        "# TIME LIMIT EXCEED\n",
        "        "
      ],
      "execution_count": null,
      "outputs": []
    },
    {
      "cell_type": "code",
      "metadata": {
        "id": "lC2QmN5lBX6x",
        "colab_type": "code",
        "colab": {}
      },
      "source": [
        "class Solution:\n",
        "    def mergeKLists(self, lists: List[ListNode]) -> ListNode:\n",
        "        if lists == [[]]:\n",
        "            return None\n",
        "        res = []\n",
        "        for i in lists:\n",
        "            while i is not None:\n",
        "                res.append(i.val)\n",
        "                i = i.next\n",
        "        res.sort()\n",
        "        result = ListNode()\n",
        "        tmp = result\n",
        "        for i in res:\n",
        "            tmp.next = ListNode(i)\n",
        "            tmp = tmp.next\n",
        "        return result.next"
      ],
      "execution_count": null,
      "outputs": []
    },
    {
      "cell_type": "code",
      "metadata": {
        "id": "CGUSm5OXDaPp",
        "colab_type": "code",
        "colab": {}
      },
      "source": [
        "from Queue import PriorityQueue\n",
        "\n",
        "class Solution(object):\n",
        "    def mergeKLists(self, lists):\n",
        "        \"\"\"\n",
        "        :type lists: List[ListNode]\n",
        "        :rtype: ListNode\n",
        "        \"\"\"\n",
        "        head = point = ListNode(0)\n",
        "        q = PriorityQueue()\n",
        "        for l in lists:\n",
        "            if l:\n",
        "                q.put((l.val, l))\n",
        "        while not q.empty():\n",
        "            val, node = q.get()\n",
        "            point.next = ListNode(val)\n",
        "            point = point.next\n",
        "            node = node.next\n",
        "            if node:\n",
        "                q.put((node.val, node))\n",
        "        return head.next\n",
        "\n",
        "        "
      ],
      "execution_count": null,
      "outputs": []
    },
    {
      "cell_type": "code",
      "metadata": {
        "id": "DQDOwsNxD4Cf",
        "colab_type": "code",
        "colab": {}
      },
      "source": [
        "import heapq\n",
        "class Solution(object):\n",
        "    def mergeKLists(self, lists):\n",
        "        point = ListNode(0)\n",
        "        head = point\n",
        "        q=[]\n",
        "        for l in lists:\n",
        "            if l:\n",
        "                heapq.heappush(q, (l.val,l))\n",
        "        print(q)\n",
        "        while q:\n",
        "            val, node = heapq.heappop(q)\n",
        "            point.next = ListNode(val)\n",
        "            point = point.next\n",
        "            node = node.next\n",
        "            if node:\n",
        "                heapq.heappush(q, (node.val,node))\n",
        "        return head.next"
      ],
      "execution_count": null,
      "outputs": []
    },
    {
      "cell_type": "code",
      "metadata": {
        "id": "jCfopOpvB5EB",
        "colab_type": "code",
        "colab": {
          "base_uri": "https://localhost:8080/",
          "height": 35
        },
        "outputId": "e4aca003-f6c8-4430-a3ae-e69bb7ede3cb"
      },
      "source": [
        "test = Solution()\n",
        "r = test.mergeKLists([a,b])"
      ],
      "execution_count": null,
      "outputs": [
        {
          "output_type": "stream",
          "text": [
            "[(1, <__main__.ListNode object at 0x7f84ffe6dd68>), (10, <__main__.ListNode object at 0x7f84ffe6de10>)]\n"
          ],
          "name": "stdout"
        }
      ]
    },
    {
      "cell_type": "code",
      "metadata": {
        "id": "r3MoHq71Fkjv",
        "colab_type": "code",
        "colab": {
          "base_uri": "https://localhost:8080/",
          "height": 35
        },
        "outputId": "9bde1518-423b-4b6e-f8df-8292c695e661"
      },
      "source": [
        "r"
      ],
      "execution_count": null,
      "outputs": [
        {
          "output_type": "execute_result",
          "data": {
            "text/plain": [
              "<__main__.ListNode at 0x7f84ffde56d8>"
            ]
          },
          "metadata": {
            "tags": []
          },
          "execution_count": 25
        }
      ]
    },
    {
      "cell_type": "code",
      "metadata": {
        "id": "hEaJ78rS9mvm",
        "colab_type": "code",
        "colab": {}
      },
      "source": [
        "a = ListNode(1)\n",
        "a.next = ListNode(2)\n",
        "a.next.next = ListNode(-1)\n",
        "b = ListNode(10)\n",
        "b.next = ListNode(3)\n",
        "b.next.next = ListNode(5)"
      ],
      "execution_count": null,
      "outputs": []
    },
    {
      "cell_type": "code",
      "metadata": {
        "id": "JUHjT9oV9udM",
        "colab_type": "code",
        "colab": {}
      },
      "source": [
        ""
      ],
      "execution_count": null,
      "outputs": []
    },
    {
      "cell_type": "markdown",
      "metadata": {
        "id": "PkygsQ_Q_Om_",
        "colab_type": "text"
      },
      "source": [
        "29. Divide Two Integers"
      ]
    },
    {
      "cell_type": "markdown",
      "metadata": {
        "id": "9xmvZzNmLaHS",
        "colab_type": "text"
      },
      "source": [
        "use BitwiseOoperators to replace *2 /2"
      ]
    },
    {
      "cell_type": "code",
      "metadata": {
        "id": "Yy0BOaX6JSwR",
        "colab_type": "code",
        "colab": {}
      },
      "source": [
        "class Solution:\n",
        "# @return an integer\n",
        "    def divide(self, dividend, divisor):\n",
        "        positive = (dividend < 0) is (divisor < 0)\n",
        "        dividend, divisor = abs(dividend), abs(divisor)\n",
        "        res = 0\n",
        "        while dividend >= divisor:\n",
        "            temp, i = divisor, 1\n",
        "            while dividend >= temp:\n",
        "                dividend -= temp\n",
        "                res += i\n",
        "                i <<= 1 # i = i*2\n",
        "                temp <<= 1 # temp = temp*2\n",
        "        if not positive:\n",
        "            res = -res\n",
        "        return min(max(-2147483648, res), 2147483647)"
      ],
      "execution_count": null,
      "outputs": []
    },
    {
      "cell_type": "code",
      "metadata": {
        "id": "hXXnpz6BLhRZ",
        "colab_type": "code",
        "colab": {}
      },
      "source": [
        "class Solution:\n",
        "# @return an integer\n",
        "    def divide(self, dividend, divisor):\n",
        "        positive = (dividend < 0) is (divisor < 0)\n",
        "        dividend, divisor = abs(dividend), abs(divisor)\n",
        "        res = 0\n",
        "        while dividend >= divisor:\n",
        "            temp, i = divisor, 1\n",
        "            while dividend >= temp:\n",
        "                dividend -= temp\n",
        "                res += i\n",
        "                i = i*2\n",
        "                temp = temp*2\n",
        "        if not positive:\n",
        "            res = -res\n",
        "        return min(max(-2147483648, res), 2147483647)"
      ],
      "execution_count": null,
      "outputs": []
    },
    {
      "cell_type": "code",
      "metadata": {
        "id": "Gdh9kGStL3q0",
        "colab_type": "code",
        "colab": {}
      },
      "source": [
        "test = Solution()"
      ],
      "execution_count": null,
      "outputs": []
    },
    {
      "cell_type": "code",
      "metadata": {
        "id": "RtIm-Mp6L5Oa",
        "colab_type": "code",
        "colab": {
          "base_uri": "https://localhost:8080/",
          "height": 34
        },
        "outputId": "c42a9fed-5398-48d6-e76b-4b81cfac2099"
      },
      "source": [
        "test.divide(6,2)"
      ],
      "execution_count": null,
      "outputs": [
        {
          "output_type": "execute_result",
          "data": {
            "text/plain": [
              "3"
            ]
          },
          "metadata": {
            "tags": []
          },
          "execution_count": 38
        }
      ]
    },
    {
      "cell_type": "markdown",
      "metadata": {
        "id": "4A-hRmCelZjy",
        "colab_type": "text"
      },
      "source": [
        "31. Next Permutation"
      ]
    },
    {
      "cell_type": "code",
      "metadata": {
        "id": "D3Rd50gKleVP",
        "colab_type": "code",
        "colab": {}
      },
      "source": [
        ""
      ],
      "execution_count": null,
      "outputs": []
    },
    {
      "cell_type": "markdown",
      "metadata": {
        "id": "xFSdC03tlXSV",
        "colab_type": "text"
      },
      "source": [
        "33. Search in Rotated Sorted Array\n"
      ]
    },
    {
      "cell_type": "code",
      "metadata": {
        "id": "JVDYwqZ3lYXY",
        "colab_type": "code",
        "colab": {}
      },
      "source": [
        "class Solution:\n",
        "    def search(self, nums: List[int], target: int) -> int:\n",
        "        if nums == []: return -1\n",
        "        first = nums[0]\n",
        "        last = nums[-1]\n",
        "        l = 0\n",
        "        r = len(nums)-1\n",
        "        if target < first and target > last:\n",
        "            return -1\n",
        "        if target < first and target <=last:\n",
        "            # search smaller than last\n",
        "            while l<r-1:\n",
        "                c = int((l+r)/2)\n",
        "                if nums[c]==target: return c\n",
        "                if nums[c]>last:\n",
        "                    l = c\n",
        "                    continue\n",
        "                if nums[c]>target:\n",
        "                    r = c\n",
        "                else:\n",
        "                    l = c\n",
        "        if target >= first:  #  and target >last \n",
        "        # why target can <=last, need to be rotated??\n",
        "            # search larger than first\n",
        "            while l<r-1:\n",
        "                c = int((l+r)/2)\n",
        "                if nums[c]==target: return c\n",
        "                if nums[c]<first:\n",
        "                    r = c\n",
        "                    continue\n",
        "                if nums[c]>target:\n",
        "                    r = c\n",
        "                else:\n",
        "                    l = c\n",
        "\n",
        "        if nums[l] == target:\n",
        "            return l\n",
        "        if nums[r] == target:\n",
        "            return r\n",
        "        return -1\n"
      ],
      "execution_count": null,
      "outputs": []
    },
    {
      "cell_type": "code",
      "metadata": {
        "id": "HWsJSmzgl-_p",
        "colab_type": "code",
        "colab": {
          "base_uri": "https://localhost:8080/",
          "height": 34
        },
        "outputId": "39b27618-bd5c-4895-b523-f27549dd5e39"
      },
      "source": [
        "test = Solution()\n",
        "test.search([1,3,5],3)"
      ],
      "execution_count": null,
      "outputs": [
        {
          "output_type": "execute_result",
          "data": {
            "text/plain": [
              "1"
            ]
          },
          "metadata": {
            "tags": []
          },
          "execution_count": 3
        }
      ]
    },
    {
      "cell_type": "markdown",
      "metadata": {
        "id": "-izeWPdwmFWQ",
        "colab_type": "text"
      },
      "source": [
        "38. Count and Say\n"
      ]
    },
    {
      "cell_type": "code",
      "metadata": {
        "id": "FOfwMhBXN8jF",
        "colab_type": "code",
        "colab": {}
      },
      "source": [
        "class Solution:\n",
        "    def countAndSay(self, n: int) -> str:\n",
        "        return str(self.helper(n))\n",
        "    def helper(self,n):\n",
        "        if n==1 : \n",
        "            return 1\n",
        "        input = self.helper(n-1)\n",
        "        if len(str(input)) ==1:\n",
        "            return 10*input+input\n",
        "        output = \"\"\n",
        "        continue_count = 0\n",
        "        previous_val = None\n",
        "        for i,val in enumerate(str(input)):\n",
        "            if i==0:\n",
        "                continue_count = continue_count +1\n",
        "                previous_val = val\n",
        "                continue\n",
        "            if i >0:\n",
        "                if val == previous_val:\n",
        "                    continue_count = continue_count +1\n",
        "                else:\n",
        "                    output = output + str(continue_count)\n",
        "                    output = output + previous_val\n",
        "                    previous_val = val\n",
        "                    continue_count = 1\n",
        "                if i<len(str(input))-1:\n",
        "                    continue\n",
        "                else:\n",
        "                    output = output + str(continue_count)\n",
        "                    output = output + previous_val\n",
        "        return int(output)\n",
        "\n",
        "\n"
      ],
      "execution_count": null,
      "outputs": []
    },
    {
      "cell_type": "code",
      "metadata": {
        "id": "YjMTIhxZ9yYo",
        "colab_type": "code",
        "colab": {
          "base_uri": "https://localhost:8080/",
          "height": 34
        },
        "outputId": "2dc93274-e370-4708-b87b-f732c7f59a5e"
      },
      "source": [
        "test = Solution()\n",
        "test.countAndSay(6)"
      ],
      "execution_count": null,
      "outputs": [
        {
          "output_type": "execute_result",
          "data": {
            "text/plain": [
              "'312211'"
            ]
          },
          "metadata": {
            "tags": []
          },
          "execution_count": 91
        }
      ]
    },
    {
      "cell_type": "markdown",
      "metadata": {
        "id": "Wq98EnxIQc9h",
        "colab_type": "text"
      },
      "source": [
        "41. First Missing Positive\n"
      ]
    },
    {
      "cell_type": "code",
      "metadata": {
        "id": "J7dRs6o1bD4e",
        "colab_type": "code",
        "colab": {}
      },
      "source": [
        "class Solution:\n",
        "    def firstMissingPositive(self, nums: List[int]) -> int:\n",
        "        nums_set = set(nums)\n",
        "        i=1\n",
        "        while True:\n",
        "            if i in nums_set:\n",
        "                i = i+1\n",
        "            else:\n",
        "                return i"
      ],
      "execution_count": null,
      "outputs": []
    },
    {
      "cell_type": "code",
      "metadata": {
        "id": "X15zwwEQcDgY",
        "colab_type": "code",
        "colab": {
          "base_uri": "https://localhost:8080/",
          "height": 34
        },
        "outputId": "ffc1064c-a9ba-4dcf-a184-308203a96bfe"
      },
      "source": [
        "test = Solution()\n",
        "test.firstMissingPositive([1,2,3])"
      ],
      "execution_count": null,
      "outputs": [
        {
          "output_type": "execute_result",
          "data": {
            "text/plain": [
              "1"
            ]
          },
          "metadata": {
            "tags": []
          },
          "execution_count": 5
        }
      ]
    },
    {
      "cell_type": "markdown",
      "metadata": {
        "id": "tW4hgOPHcK0m",
        "colab_type": "text"
      },
      "source": [
        "43. Multiply Strings\n"
      ]
    },
    {
      "cell_type": "code",
      "metadata": {
        "id": "a_eTz75xcnQn",
        "colab_type": "code",
        "colab": {}
      },
      "source": [
        "class Solution:\n",
        "    def multiply(self, num1, num2):\n",
        "        product = [0] * (len(num1) + len(num2))\n",
        "        pos = len(product)-1\n",
        "        \n",
        "        for n1 in reversed(num1):\n",
        "            tempPos = pos\n",
        "            for n2 in reversed(num2):\n",
        "                print(product,tempPos)\n",
        "                product[tempPos] += int(n1) * int(n2)\n",
        "                product[tempPos-1] += product[tempPos]//10\n",
        "                product[tempPos] %= 10\n",
        "                tempPos -= 1\n",
        "            pos -= 1\n",
        "            \n",
        "        pt = 0\n",
        "        while pt < len(product)-1 and product[pt] == 0:\n",
        "            pt += 1\n",
        "\n",
        "        return ''.join(map(str, product[pt:]))"
      ],
      "execution_count": null,
      "outputs": []
    },
    {
      "cell_type": "code",
      "metadata": {
        "id": "7z9VZzXGt101",
        "colab_type": "code",
        "colab": {
          "base_uri": "https://localhost:8080/",
          "height": 170
        },
        "outputId": "f6cad1e0-74f2-4576-8253-0b4a55c19137"
      },
      "source": [
        "num1 = \"23\"; num2 = \"3444\"\n",
        "test = Solution()\n",
        "test.multiply(num1, num2)"
      ],
      "execution_count": null,
      "outputs": [
        {
          "output_type": "stream",
          "text": [
            "[0, 0, 0, 0, 0, 0] 5\n",
            "[0, 0, 0, 0, 1, 2] 4\n",
            "[0, 0, 0, 1, 3, 2] 3\n",
            "[0, 0, 1, 3, 3, 2] 2\n",
            "[0, 1, 0, 3, 3, 2] 4\n",
            "[0, 1, 0, 4, 1, 2] 3\n",
            "[0, 1, 1, 2, 1, 2] 2\n",
            "[0, 1, 9, 2, 1, 2] 1\n"
          ],
          "name": "stdout"
        },
        {
          "output_type": "execute_result",
          "data": {
            "text/plain": [
              "'79212'"
            ]
          },
          "metadata": {
            "tags": []
          },
          "execution_count": 177
        }
      ]
    },
    {
      "cell_type": "markdown",
      "metadata": {
        "id": "W7m2yt6mhdjP",
        "colab_type": "text"
      },
      "source": [
        "49. Group Anagrams\n",
        "2 methods, count(distribution) or unique sorted list."
      ]
    },
    {
      "cell_type": "code",
      "metadata": {
        "id": "Ye-vmboLhg3C",
        "colab_type": "code",
        "colab": {}
      },
      "source": [
        "import collections\n",
        "class Solution:\n",
        "    def groupAnagrams(self,strs):\n",
        "        ans = collections.defaultdict(list)\n",
        "        for s in strs:\n",
        "            count = [0] * 26\n",
        "            for c in s:\n",
        "                count[ord(c) - ord('a')] += 1 # 0-23 map to 24 letters\n",
        "            ans[tuple(count)].append(s) # tuple(count) is distribution, s is the string\n",
        "        return ans.values()"
      ],
      "execution_count": null,
      "outputs": []
    },
    {
      "cell_type": "code",
      "metadata": {
        "id": "rtuhH3sLhhVd",
        "colab_type": "code",
        "colab": {
          "base_uri": "https://localhost:8080/",
          "height": 34
        },
        "outputId": "6854ade4-43a1-4c2f-b5dd-0d2eb43d27fc"
      },
      "source": [
        "test = Solution()\n",
        "test.groupAnagrams([\"eat\", \"tea\", \"tan\", \"ate\", \"nat\", \"bat\"])"
      ],
      "execution_count": null,
      "outputs": [
        {
          "output_type": "execute_result",
          "data": {
            "text/plain": [
              "dict_values([['eat', 'tea', 'ate'], ['tan', 'nat'], ['bat']])"
            ]
          },
          "metadata": {
            "tags": []
          },
          "execution_count": 19
        }
      ]
    },
    {
      "cell_type": "code",
      "metadata": {
        "id": "YDod0f1qhmJS",
        "colab_type": "code",
        "colab": {
          "base_uri": "https://localhost:8080/",
          "height": 34
        },
        "outputId": "5b3b873e-f373-4c5d-f104-2e78eb25766f"
      },
      "source": [
        "collections.defaultdict(list)"
      ],
      "execution_count": null,
      "outputs": [
        {
          "output_type": "execute_result",
          "data": {
            "text/plain": [
              "defaultdict(list, {})"
            ]
          },
          "metadata": {
            "tags": []
          },
          "execution_count": 20
        }
      ]
    },
    {
      "cell_type": "markdown",
      "metadata": {
        "id": "6a0fAiXHio3d",
        "colab_type": "text"
      },
      "source": [
        "53. Maximum Subarray\n"
      ]
    },
    {
      "cell_type": "code",
      "metadata": {
        "id": "TvSnsz-_h3wl",
        "colab_type": "code",
        "colab": {}
      },
      "source": [
        "class Solution:\n",
        "    def maxSubArray(self, nums: List[int]) -> int:\n",
        "        if nums == []: return []\n",
        "        if len(nums) == 1: return nums[0]\n",
        "        l=0\n",
        "        r=0\n",
        "        l_max = 0\n",
        "        r_max = 0\n",
        "        current_sum = nums[0]\n",
        "        current_max = nums[0]\n",
        "        for i in range(1,len(nums)):\n",
        "            print(f'iter {i}')\n",
        "            if current_sum + nums[i] <= nums[i]: # changer left\n",
        "                l=i\n",
        "                r=i\n",
        "                current_sum = nums[i]\n",
        "                if current_max <current_sum:\n",
        "                    l_max = l\n",
        "            else:\n",
        "                current_sum = current_sum + nums[i]\n",
        "            if current_max <current_sum:\n",
        "                r=i\n",
        "                r_max = i\n",
        "                current_max = current_sum\n",
        "            print(f'{l_max} {r_max} {current_sum} {current_max}')\n",
        "        return current_max\n",
        "\n",
        "            \n"
      ],
      "execution_count": null,
      "outputs": []
    },
    {
      "cell_type": "code",
      "metadata": {
        "id": "zdUv2oelrEKf",
        "colab_type": "code",
        "colab": {}
      },
      "source": [
        "class Solution:\n",
        "    def maxSubArray(self, nums: List[int]) -> int:\n",
        "        if nums == []: return []\n",
        "        if len(nums) == 1: return nums[0]\n",
        "        current_sum = nums[0]\n",
        "        current_max = nums[0]\n",
        "        for i in range(1,len(nums)):\n",
        "            if current_sum + nums[i] <= nums[i]: # changer left\n",
        "                current_sum = nums[i]\n",
        "            else:\n",
        "                current_sum = current_sum + nums[i]\n",
        "            if current_max <current_sum:\n",
        "                current_max = current_sum\n",
        "        return current_max\n",
        "\n",
        "            \n"
      ],
      "execution_count": null,
      "outputs": []
    },
    {
      "cell_type": "code",
      "metadata": {
        "id": "NhMv_P8qiuop",
        "colab_type": "code",
        "colab": {
          "base_uri": "https://localhost:8080/",
          "height": 34
        },
        "outputId": "de5d233b-8f63-4b04-e1dd-3de1d052e7ad"
      },
      "source": [
        "test = Solution()\n",
        "nums = [1,-3,-3]\n",
        "test.maxSubArray(nums)"
      ],
      "execution_count": null,
      "outputs": [
        {
          "output_type": "execute_result",
          "data": {
            "text/plain": [
              "1"
            ]
          },
          "metadata": {
            "tags": []
          },
          "execution_count": 74
        }
      ]
    },
    {
      "cell_type": "code",
      "metadata": {
        "id": "yz0rjMh2jrcT",
        "colab_type": "code",
        "colab": {
          "base_uri": "https://localhost:8080/",
          "height": 170
        },
        "outputId": "dd4cf425-0f95-48b9-b98e-cdedec76bbae"
      },
      "source": [
        "for i in range(len(nums)):\n",
        "    print(i)"
      ],
      "execution_count": null,
      "outputs": [
        {
          "output_type": "stream",
          "text": [
            "0\n",
            "1\n",
            "2\n",
            "3\n",
            "4\n",
            "5\n",
            "6\n",
            "7\n",
            "8\n"
          ],
          "name": "stdout"
        }
      ]
    },
    {
      "cell_type": "markdown",
      "metadata": {
        "id": "JPfdAAfes0q_",
        "colab_type": "text"
      },
      "source": [
        "54. Spiral Matrix\n"
      ]
    },
    {
      "cell_type": "code",
      "metadata": {
        "id": "BMzDZbq0s1FW",
        "colab_type": "code",
        "colab": {}
      },
      "source": [
        "class Solution:\n",
        "    def spiralOrder(self, matrix: List[List[int]]) -> List[int]:\n",
        "        if matrix == []:\n",
        "            return []\n",
        "        n_r = len(matrix) -1\n",
        "        n_c = len(matrix[0]) -1\n",
        "        c_ttl = (n_r+1)*(n_c+1)\n",
        "        c_left = c_ttl\n",
        "        r = 0\n",
        "        result_lst = []\n",
        "        while c_left>0:\n",
        "            # print(f'r:{r} {n_c}')\n",
        "            # print(f\"left {c_left}\")\n",
        "            for j in range(r,n_c-r+1):\n",
        "                result_lst.append(matrix[r][j])\n",
        "            c_left = c_left -(n_c-2*r+1)\n",
        "            if c_left==0:\n",
        "                break\n",
        "            for i in range(r+1,n_r-r+1):\n",
        "                result_lst.append(matrix[i][n_c-r])\n",
        "            c_left = c_left -(n_r-2*r)\n",
        "            if c_left==0:\n",
        "                break\n",
        "            for j in range(n_c-r-1,r-1,-1):\n",
        "                print(j)\n",
        "                result_lst.append(matrix[n_r-r][j])\n",
        "            c_left = c_left -(n_c-2*r)\n",
        "            if c_left==0:\n",
        "                break\n",
        "            for i in range(n_r-r-1,r,-1):\n",
        "                result_lst.append(matrix[i][r])\n",
        "            r = r +1\n",
        "            if (n_c-2*r+1) <=0 or (n_r-2*r+1) <=0:\n",
        "                c_left=0\n",
        "                break\n",
        "            else:\n",
        "                c_left = (n_c-2*r+1) * (n_r-2*r+1)\n",
        "        return result_lst\n"
      ],
      "execution_count": null,
      "outputs": []
    },
    {
      "cell_type": "code",
      "metadata": {
        "id": "EUfG04OYs4zQ",
        "colab_type": "code",
        "colab": {}
      },
      "source": [
        "matrix = [\n",
        "  [],\n",
        "\n",
        "]\n",
        "n_r = len(matrix) -1\n",
        "n_c = len(matrix[0]) -1"
      ],
      "execution_count": null,
      "outputs": []
    },
    {
      "cell_type": "code",
      "metadata": {
        "id": "FLp034kJs5Kv",
        "colab_type": "code",
        "colab": {
          "base_uri": "https://localhost:8080/",
          "height": 34
        },
        "outputId": "c17598a5-8940-4adf-a15a-8775f9efd156"
      },
      "source": [
        "test = Solution()\n",
        "test.spiralOrder(matrix)"
      ],
      "execution_count": null,
      "outputs": [
        {
          "output_type": "execute_result",
          "data": {
            "text/plain": [
              "[]"
            ]
          },
          "metadata": {
            "tags": []
          },
          "execution_count": 130
        }
      ]
    },
    {
      "cell_type": "code",
      "metadata": {
        "id": "TTPpfwZR9TmG",
        "colab_type": "code",
        "colab": {}
      },
      "source": [
        ""
      ],
      "execution_count": null,
      "outputs": []
    },
    {
      "cell_type": "markdown",
      "metadata": {
        "id": "NegS-vWCAtt_",
        "colab_type": "text"
      },
      "source": [
        "55. Jump Game\n"
      ]
    },
    {
      "cell_type": "code",
      "metadata": {
        "id": "W311DurNB0nA",
        "colab_type": "code",
        "colab": {}
      },
      "source": [
        "class Solution:\n",
        "    def canJump(self, nums: List[int]) -> bool:\n",
        "        current_pos = len(nums)-2\n",
        "        min_good_pos = len(nums)-1\n",
        "        while current_pos >=0:\n",
        "            if nums[current_pos] + current_pos >= min_good_pos :\n",
        "                min_good_pos = current_pos\n",
        "                current_pos = current_pos -1\n",
        "                continue\n",
        "            else:\n",
        "                current_pos = current_pos -1\n",
        "                continue\n",
        "\n",
        "            \n",
        "        if min_good_pos == 0:\n",
        "            return True\n",
        "        else:\n",
        "            return False"
      ],
      "execution_count": null,
      "outputs": []
    },
    {
      "cell_type": "code",
      "metadata": {
        "id": "ICF6cxVFB1qm",
        "colab_type": "code",
        "colab": {
          "base_uri": "https://localhost:8080/",
          "height": 34
        },
        "outputId": "e745a2bd-dce4-41bc-f40c-7b9590c5a803"
      },
      "source": [
        "test = Solution()\n",
        "test.canJump([2,1,0,1])"
      ],
      "execution_count": null,
      "outputs": [
        {
          "output_type": "execute_result",
          "data": {
            "text/plain": [
              "False"
            ]
          },
          "metadata": {
            "tags": []
          },
          "execution_count": 10
        }
      ]
    },
    {
      "cell_type": "code",
      "metadata": {
        "id": "gIcOylKjG_M7",
        "colab_type": "code",
        "colab": {}
      },
      "source": [
        ""
      ],
      "execution_count": null,
      "outputs": []
    },
    {
      "cell_type": "markdown",
      "metadata": {
        "id": "PSTkTJJzKEwd",
        "colab_type": "text"
      },
      "source": [
        "56. Merge Intervals"
      ]
    },
    {
      "cell_type": "code",
      "metadata": {
        "id": "E2qoUCu4KGXC",
        "colab_type": "code",
        "colab": {}
      },
      "source": [
        "class Solution:\n",
        "    def merge(self, intervals: List[List[int]]) -> List[List[int]]:\n",
        "        intervals.sort()\n",
        "        result = []\n",
        "        for interval in intervals:\n",
        "            if not result or (interval[0]>result[-1][1]):\n",
        "                result.append(interval)\n",
        "            else:\n",
        "                result[-1] = [result[-1][0], max(result[-1][1],interval[1])]\n",
        "        return result\n",
        "\n",
        "# class Solution:\n",
        "#     def merge(self, intervals: List[List[int]]) -> List[List[int]]:\n",
        "#         # if intervals == []: return []\n",
        "#         # if len(intervals) ==1: return intervals\n",
        "#         intervals.sort()\n",
        "#         intervals.append([float(\"inf\"),float(\"inf\")]) # for triggering the merge!\n",
        "#         results = []\n",
        "#         l, r = intervals[0][0], intervals[0][1]\n",
        "#         for i in range(1,len(intervals)):\n",
        "#             interval = intervals[i]\n",
        "#             if interval[0]<=r:\n",
        "#                 r = max(r,interval[1])\n",
        "#                 continue\n",
        "#             else:\n",
        "#                 results.append([l,r])\n",
        "#                 l, r = interval[0], interval[1]\n",
        "#         return results\n"
      ],
      "execution_count": null,
      "outputs": []
    },
    {
      "cell_type": "code",
      "metadata": {
        "id": "2kL1-W8qK6R6",
        "colab_type": "code",
        "colab": {}
      },
      "source": [
        "test_lst = [[1,3],[1,2],[2,6],[15,18],[8,10],]"
      ],
      "execution_count": null,
      "outputs": []
    },
    {
      "cell_type": "code",
      "metadata": {
        "id": "ZcQ7WFk0LDkY",
        "colab_type": "code",
        "colab": {
          "base_uri": "https://localhost:8080/",
          "height": 34
        },
        "outputId": "19fd61aa-8052-4c92-fcc8-98204f2bd69d"
      },
      "source": [
        "test = Solution()\n",
        "test.merge(test_lst)"
      ],
      "execution_count": null,
      "outputs": [
        {
          "output_type": "execute_result",
          "data": {
            "text/plain": [
              "[[1, 6], [8, 10], [15, 18]]"
            ]
          },
          "metadata": {
            "tags": []
          },
          "execution_count": 27
        }
      ]
    },
    {
      "cell_type": "markdown",
      "metadata": {
        "id": "Rl7jdUD6PF57",
        "colab_type": "text"
      },
      "source": [
        "62. Unique Paths\n"
      ]
    },
    {
      "cell_type": "code",
      "metadata": {
        "id": "R-J5G0tXPFGj",
        "colab_type": "code",
        "colab": {}
      },
      "source": [
        "class Solution:\n",
        "    def __init__(self):\n",
        "        self.count = 0\n",
        "    def helper(self, m,n):\n",
        "        if m ==0 and n==0:\n",
        "            self.count = self.count +1\n",
        "            return True\n",
        "        if m>0:\n",
        "            # print(f'{m} {n}')\n",
        "            self.helper(m-1,n)\n",
        "        if n>0:\n",
        "            # print(f'{m} {n}')\n",
        "            self.helper(m,n-1)\n",
        "    def uniquePaths(self, m: int, n: int) -> int:\n",
        "        # m = col, n = row\n",
        "        self.helper(m-1,n-1)\n",
        "        return self.count\n",
        "\n",
        "# Too slow\n",
        "        "
      ],
      "execution_count": null,
      "outputs": []
    },
    {
      "cell_type": "code",
      "metadata": {
        "id": "kb3w3rWUPKsR",
        "colab_type": "code",
        "colab": {
          "base_uri": "https://localhost:8080/",
          "height": 34
        },
        "outputId": "0e038cf3-74d4-4f35-941a-7ac0f5d6cf5e"
      },
      "source": [
        "test = Solution()\n",
        "test.uniquePaths(23,12)"
      ],
      "execution_count": null,
      "outputs": [
        {
          "output_type": "execute_result",
          "data": {
            "text/plain": [
              "193536720"
            ]
          },
          "metadata": {
            "tags": []
          },
          "execution_count": 55
        }
      ]
    },
    {
      "cell_type": "code",
      "metadata": {
        "id": "gd7LzkYlRqH5",
        "colab_type": "code",
        "colab": {}
      },
      "source": [
        "class Solution:\n",
        "    def __init__(self):\n",
        "        self.visited = None\n",
        "    def helper(self, m,n):\n",
        "        # print(f'{m} {n}')\n",
        "        if m <=0 or n<=0:\n",
        "            return 0\n",
        "        if m==1 or n ==1:\n",
        "            return 1\n",
        "        if self.visited[m][n]>0:\n",
        "            return self.visited[m][n]\n",
        "        left = self.helper(m-1,n)\n",
        "        right = self.helper(m,n-1)\n",
        "        self.visited[m][n] = left + right\n",
        "        # print(self.visited)\n",
        "        return self.visited[m][n]\n",
        "    def uniquePaths(self, m: int, n: int) -> int:\n",
        "        # m = col, n = row\n",
        "        self.visited = [[0 for i in range(n+1)] for j in range(m+1)]\n",
        "        return self.helper(m,n)\n",
        "\n",
        "# Too slow, use memory\n",
        "        "
      ],
      "execution_count": null,
      "outputs": []
    },
    {
      "cell_type": "code",
      "metadata": {
        "id": "IfYPfAI9WgpH",
        "colab_type": "code",
        "colab": {
          "base_uri": "https://localhost:8080/",
          "height": 34
        },
        "outputId": "8b3a72b6-c6b1-4773-8729-4c5e50ae3e0a"
      },
      "source": [
        "test = Solution()\n",
        "test.uniquePaths(23,12)"
      ],
      "execution_count": null,
      "outputs": [
        {
          "output_type": "execute_result",
          "data": {
            "text/plain": [
              "193536720"
            ]
          },
          "metadata": {
            "tags": []
          },
          "execution_count": 177
        }
      ]
    },
    {
      "cell_type": "markdown",
      "metadata": {
        "id": "PY31B36MZelQ",
        "colab_type": "text"
      },
      "source": [
        "67. Add Binary\n",
        "\n",
        "recursion....?"
      ]
    },
    {
      "cell_type": "code",
      "metadata": {
        "id": "kMDvDqekPw5T",
        "colab_type": "code",
        "colab": {}
      },
      "source": [
        "class Solution:\n",
        "    def addBinary(self, a: str, b: str) -> str:\n",
        "        ans = ''\n",
        "        def helper(a,b,r=0):\n",
        "            nonlocal ans\n",
        "            if not a and not b:\n",
        "                ans = ans if r==0 else str(r) + ans\n",
        "                return\n",
        "            if not a:\n",
        "                if r >0:\n",
        "                    while b:\n",
        "                        if b[-1]=='1':\n",
        "                            ans = '0' + ans\n",
        "                            b = b[:-1]\n",
        "                        else:\n",
        "                            break\n",
        "                    ans = '1' + ans if b =='' else b[:-1] + '1' + ans\n",
        "                else:\n",
        "                    ans = b + ans\n",
        "                return \n",
        "            if not b:\n",
        "                if r >0:\n",
        "                    while a:\n",
        "                        if a[-1]=='1':\n",
        "                            ans = '0' + ans\n",
        "                            a = a[:-1]\n",
        "                        else:\n",
        "                            break\n",
        "                    ans = '1' + ans if a =='' else a[:-1] + '1' + ans\n",
        "                else:\n",
        "                    ans = a + ans\n",
        "                return \n",
        "            l_a = a[-1]\n",
        "            l_b = b[-1]\n",
        "            curr = int(l_a)+int(l_b)+int(r)\n",
        "            curr_ans = str(curr%2) if curr>=2 else str(curr)\n",
        "            r = 1 if curr>=2 else 0\n",
        "            ans = curr_ans + ans\n",
        "            return helper(a[:-1],b[:-1],r)\n",
        "        helper(a,b)\n",
        "        return ans\n",
        "\n",
        "            \n",
        "\n",
        "\n",
        "\n",
        "\n",
        "\n",
        "        "
      ],
      "execution_count": null,
      "outputs": []
    },
    {
      "cell_type": "code",
      "metadata": {
        "id": "W3WFlRXDUX_7",
        "colab_type": "code",
        "colab": {}
      },
      "source": [
        "class Solution:\n",
        "    def addBinary(self, a, b) -> str:\n",
        "        n = max(len(a), len(b))\n",
        "        a, b = a.zfill(n), b.zfill(n) # fill zero, ljust rjust etc\n",
        "        \n",
        "        carry = 0\n",
        "        answer = []\n",
        "        for i in range(n - 1, -1, -1):\n",
        "            sums = ord(a[i]) - ord('0') + ord(b[i]) - ord('0') + carry\n",
        "            current_digit = sums % 2\n",
        "            carry =  sums // 2\n",
        "            answer.append(str(current_digit))\n",
        "        \n",
        "        if carry == 1:\n",
        "            answer.append('1')\n",
        "        answer.reverse()\n",
        "        \n",
        "        return ''.join(answer)"
      ],
      "execution_count": null,
      "outputs": []
    },
    {
      "cell_type": "code",
      "metadata": {
        "id": "kpuIs70MTWz9",
        "colab_type": "code",
        "colab": {
          "base_uri": "https://localhost:8080/",
          "height": 34
        },
        "outputId": "9be55c30-fa4b-4f90-a2c0-08d35b80cd4f"
      },
      "source": [
        "a = \"100\"; b = \"110010\"\n",
        "test = Solution() #\n",
        "test.addBinary(a,b)"
      ],
      "execution_count": null,
      "outputs": [
        {
          "output_type": "execute_result",
          "data": {
            "text/plain": [
              "'110110'"
            ]
          },
          "metadata": {
            "tags": []
          },
          "execution_count": 150
        }
      ]
    },
    {
      "cell_type": "markdown",
      "metadata": {
        "id": "teGAWFLfjIUy",
        "colab_type": "text"
      },
      "source": [
        "70. Climbing Stairs\n",
        "By storing result, it reduce complexity  from 2^n roughly to n^*2*"
      ]
    },
    {
      "cell_type": "code",
      "metadata": {
        "id": "o6mEiyu5hje6",
        "colab_type": "code",
        "colab": {}
      },
      "source": [
        "class Solution:\n",
        "    def climbStairs(self, n: int) -> int:\n",
        "        results = [None for i in range(n)]\n",
        "        def helper(n):\n",
        "            if n ==1:\n",
        "                return 1\n",
        "            if n<=0 :\n",
        "                return 0\n",
        "            if n ==2:\n",
        "                return 2\n",
        "            if results[n-1] is None:\n",
        "                results[n-1] = helper(n-1) + helper(n-2)\n",
        "            return results[n-1]\n",
        "        return helper(n)"
      ],
      "execution_count": null,
      "outputs": []
    },
    {
      "cell_type": "code",
      "metadata": {
        "id": "5kGx8IRP4GYq",
        "colab_type": "code",
        "colab": {
          "base_uri": "https://localhost:8080/",
          "height": 34
        },
        "outputId": "cbefb625-ef17-4828-af58-9d0be39a98b8"
      },
      "source": [
        "test = Solution()\n",
        "test.climbStairs(10)"
      ],
      "execution_count": null,
      "outputs": [
        {
          "output_type": "execute_result",
          "data": {
            "text/plain": [
              "89"
            ]
          },
          "metadata": {
            "tags": []
          },
          "execution_count": 8
        }
      ]
    },
    {
      "cell_type": "code",
      "metadata": {
        "id": "p9wW3Gjtlm47",
        "colab_type": "code",
        "colab": {}
      },
      "source": [
        "# root = {}\n",
        "node = root\n",
        "node = node.setdefault('s', {})\n",
        "# node = node.setdefault('w', {})"
      ],
      "execution_count": null,
      "outputs": []
    },
    {
      "cell_type": "code",
      "metadata": {
        "id": "UZkfcaW4lrfN",
        "colab_type": "code",
        "colab": {
          "base_uri": "https://localhost:8080/",
          "height": 35
        },
        "outputId": "7f8df073-3959-477b-aabf-d759a8d1cea1"
      },
      "source": [
        "node"
      ],
      "execution_count": null,
      "outputs": [
        {
          "output_type": "execute_result",
          "data": {
            "text/plain": [
              "{'w': {}}"
            ]
          },
          "metadata": {
            "tags": []
          },
          "execution_count": 21
        }
      ]
    },
    {
      "cell_type": "markdown",
      "metadata": {
        "id": "dE-8efhxnuVR",
        "colab_type": "text"
      },
      "source": [
        "72. Edit Distance\n"
      ]
    },
    {
      "cell_type": "code",
      "metadata": {
        "id": "bQBDuatR4hul",
        "colab_type": "code",
        "colab": {}
      },
      "source": [
        "class Solution:\n",
        "    def minDistance(self, word1: str, word2: str) -> int:\n",
        "        l1 = len(word1)\n",
        "        l2 = len(word2)\n",
        "        m = [[None for j in range(l2+1)] for i in range(l1+1)]\n",
        "        return self.helper(word1,word2,m)\n",
        "    \n",
        "    def helper(self, word1, word2, m):\n",
        "        l1 = len(word1)\n",
        "        l2 = len(word2)\n",
        "        if l1 == 0: return l2\n",
        "        if l2 == 0: return l1\n",
        "        if m[l1][l2] is not None: return m[l1][l2]\n",
        "        # check if word is the same index = l1-1 since it start from 0\n",
        "        if word1[l1-1]==word2[l2-1]:\n",
        "            m[l1][l2] = self.helper(word1[:-1],word2[:-1],m)\n",
        "        else:\n",
        "            m[l1][l2] = min(self.helper(word1[:-1],word2[:-1],m),\n",
        "                            self.helper(word1,word2[:-1],m),\n",
        "                            self.helper(word1[:-1],word2,m)\n",
        "            ) +1\n",
        "        return m[l1][l2]\n",
        "\n",
        "\n",
        "\n"
      ],
      "execution_count": null,
      "outputs": []
    },
    {
      "cell_type": "code",
      "metadata": {
        "id": "QNU76wpptirz",
        "colab_type": "code",
        "colab": {}
      },
      "source": [
        "word1 = 'aecd'\n",
        "word2 = 'bcdp'"
      ],
      "execution_count": null,
      "outputs": []
    },
    {
      "cell_type": "code",
      "metadata": {
        "id": "kBB__L_Knz4V",
        "colab_type": "code",
        "colab": {
          "base_uri": "https://localhost:8080/",
          "height": 34
        },
        "outputId": "2207885a-7563-43ac-e488-b5721c20242b"
      },
      "source": [
        "test = Solution()\n",
        "test.minDistance(word1,word2)"
      ],
      "execution_count": null,
      "outputs": [
        {
          "output_type": "execute_result",
          "data": {
            "text/plain": [
              "3"
            ]
          },
          "metadata": {
            "tags": []
          },
          "execution_count": 17
        }
      ]
    },
    {
      "cell_type": "markdown",
      "metadata": {
        "id": "Br7LUQSoOG0J",
        "colab_type": "text"
      },
      "source": [
        "76. Minimum Window Substring\n"
      ]
    },
    {
      "cell_type": "code",
      "metadata": {
        "id": "92C0bwV1WqzT",
        "colab_type": "code",
        "colab": {}
      },
      "source": [
        "from collections import Counter"
      ],
      "execution_count": null,
      "outputs": []
    },
    {
      "cell_type": "code",
      "metadata": {
        "id": "AmtYCqrZwdGL",
        "colab_type": "code",
        "colab": {}
      },
      "source": [
        "class Solution:\n",
        "    def minWindow(self, s: str, t: str) -> str:\n",
        "        if not s or not t : return \"\"\n",
        "        l, r = 0, 0\n",
        "        len_s = len(s)\n",
        "        dict_t, dict_s = Counter(t), {}\n",
        "        required, current = len(dict_t), 0\n",
        "        # save result, window len, left, right\n",
        "        ans = float(\"inf\"), None, None\n",
        "        while l < len_s:\n",
        "            # the window s[l:r+1] not contain full t\n",
        "            while current<required and r<len_s:\n",
        "                r_str = s[l:r+1][-1]\n",
        "                dict_s[r_str] = dict_s.get(r_str,0) +1\n",
        "                if dict_s.get(r_str) == dict_t.get(r_str):\n",
        "                    current = current+1\n",
        "                r = r+1\n",
        "                # print(dict_s,l,r-1,current,required,\"f\")\n",
        "                continue\n",
        "            # s[l:r+1] still contain full t or right index to the end\n",
        "            while (current == required or r>=len_s) and l<r:\n",
        "                # save result\n",
        "                if (r-l) < ans[0] and current == required:\n",
        "                    ans = (r-l,l,r-1)\n",
        "                    # print(ans)\n",
        "                l_str = s[l]\n",
        "                dict_s[l_str] = dict_s.get(l_str) -1\n",
        "                if dict_t.get(l_str) and dict_s.get(l_str) < dict_t.get(l_str):\n",
        "                    current = current - 1\n",
        "                l = l + 1\n",
        "                # print(l_str,l,r,current,required,\"s\")\n",
        "        return \"\" if ans[0] == float(\"inf\") else s[ans[1] : ans[2] + 1]"
      ],
      "execution_count": null,
      "outputs": []
    },
    {
      "cell_type": "code",
      "metadata": {
        "id": "fh3MUfupOQQ9",
        "colab_type": "code",
        "colab": {
          "base_uri": "https://localhost:8080/",
          "height": 34
        },
        "outputId": "b342eda6-1aaa-4efa-9197-6ef734877dcd"
      },
      "source": [
        "test = Solution()\n",
        "test.minWindow(\"a\", \"a\")"
      ],
      "execution_count": null,
      "outputs": [
        {
          "output_type": "execute_result",
          "data": {
            "text/plain": [
              "'a'"
            ]
          },
          "metadata": {
            "tags": []
          },
          "execution_count": 152
        }
      ]
    },
    {
      "cell_type": "code",
      "metadata": {
        "id": "wDh7X0qsTBjA",
        "colab_type": "code",
        "colab": {}
      },
      "source": [
        "def minWindow(self, s, t):\n",
        "    \"\"\"\n",
        "    :type s: str\n",
        "    :type t: str\n",
        "    :rtype: str\n",
        "    \"\"\"\n",
        "\n",
        "    if not t or not s:\n",
        "        return \"\"\n",
        "\n",
        "    # Dictionary which keeps a count of all the unique characters in t.\n",
        "    dict_t = Counter(t)\n",
        "\n",
        "    # Number of unique characters in t, which need to be present in the desired window.\n",
        "    required = len(dict_t)\n",
        "\n",
        "    # left and right pointer\n",
        "    l, r = 0, 0\n",
        "\n",
        "    # formed is used to keep track of how many unique characters in t are present in the current window in its desired frequency.\n",
        "    # e.g. if t is \"AABC\" then the window must have two A's, one B and one C. Thus formed would be = 3 when all these conditions are met.\n",
        "    formed = 0\n",
        "\n",
        "    # Dictionary which keeps a count of all the unique characters in the current window.\n",
        "    window_counts = {}\n",
        "\n",
        "    # ans tuple of the form (window length, left, right)\n",
        "    ans = float(\"inf\"), None, None\n",
        "\n",
        "    while r < len(s):\n",
        "\n",
        "        # Add one character from the right to the window\n",
        "        character = s[r]\n",
        "        window_counts[character] = window_counts.get(character, 0) + 1\n",
        "\n",
        "        # If the frequency of the current character added equals to the desired count in t then increment the formed count by 1.\n",
        "        if character in dict_t and window_counts[character] == dict_t[character]:\n",
        "            formed += 1\n",
        "\n",
        "        # Try and contract the window till the point where it ceases to be 'desirable'.\n",
        "        while l <= r and formed == required:\n",
        "            character = s[l]\n",
        "\n",
        "            # Save the smallest window until now.\n",
        "            if r - l + 1 < ans[0]:\n",
        "                ans = (r - l + 1, l, r)\n",
        "\n",
        "            # The character at the position pointed by the `left` pointer is no longer a part of the window.\n",
        "            window_counts[character] -= 1\n",
        "            if character in dict_t and window_counts[character] < dict_t[character]:\n",
        "                formed -= 1\n",
        "\n",
        "            # Move the left pointer ahead, this would help to look for a new window.\n",
        "            l += 1    \n",
        "\n",
        "        # Keep expanding the window once we are done contracting.\n",
        "        r += 1    \n",
        "    return \"\" if ans[0] == float(\"inf\") else s[ans[1] : ans[2] + 1]"
      ],
      "execution_count": null,
      "outputs": []
    },
    {
      "cell_type": "markdown",
      "metadata": {
        "id": "-f5Z9JdpQpuh",
        "colab_type": "text"
      },
      "source": [
        "84. Largest Rectangle in Histogram\n",
        "(stack!)"
      ]
    },
    {
      "cell_type": "code",
      "metadata": {
        "id": "V2j9gGdLQsDE",
        "colab_type": "code",
        "colab": {}
      },
      "source": [
        "class Solution:\n",
        "    def largestRectangleArea(self, heights: List[int]) -> int:\n",
        "        s = [-1]\n",
        "        heights.append(0)\n",
        "        h_len = len(heights)\n",
        "        ans = 0\n",
        "        for i in range(h_len):\n",
        "            while heights[s[-1]] > heights[i]:\n",
        "                h = heights[s.pop()]\n",
        "                w = i - s[-1] -1\n",
        "                ans = max(ans, h*w)\n",
        "            s.append(i)\n",
        "        return ans\n"
      ],
      "execution_count": null,
      "outputs": []
    },
    {
      "cell_type": "code",
      "metadata": {
        "id": "OAVm-cTyQtQd",
        "colab_type": "code",
        "colab": {
          "base_uri": "https://localhost:8080/",
          "height": 34
        },
        "outputId": "47c1e855-25d7-4483-a423-694c479b044f"
      },
      "source": [
        "test = Solution()\n",
        "test.largestRectangleArea([1,2,4,3,2,3,5])"
      ],
      "execution_count": null,
      "outputs": [
        {
          "output_type": "execute_result",
          "data": {
            "text/plain": [
              "12"
            ]
          },
          "metadata": {
            "tags": []
          },
          "execution_count": 13
        }
      ]
    },
    {
      "cell_type": "markdown",
      "metadata": {
        "id": "pGg7j_SPx1al",
        "colab_type": "text"
      },
      "source": [
        "88. Merge Sorted Array\n"
      ]
    },
    {
      "cell_type": "code",
      "metadata": {
        "id": "w3E1cQehkm23",
        "colab_type": "code",
        "colab": {}
      },
      "source": [
        "class Solution:\n",
        "    def merge(self, nums1: List[int], m: int, nums2: List[int], n: int) -> None:\n",
        "        \"\"\"\n",
        "        Do not return anything, modify nums1 in-place instead.\n",
        "        \"\"\"\n",
        "        i =0\n",
        "        while nums2:\n",
        "            m1_valid_len = len(nums1)-len(nums2)-1\n",
        "            if i ==m+n:\n",
        "                break\n",
        "            if i>m1_valid_len:\n",
        "                nums1.insert(i,nums2[0])\n",
        "                nums1.pop()\n",
        "                nums2.pop(0)\n",
        "                continue\n",
        "            if nums2[0]>nums1[i]:\n",
        "                i +=1\n",
        "            else:\n",
        "                nums1.insert(i,nums2[0])\n",
        "                nums1.pop()\n",
        "                nums2.pop(0)\n",
        "            # print(i,nums1,nums2)\n",
        "            \n",
        "            \n",
        "            "
      ],
      "execution_count": null,
      "outputs": []
    },
    {
      "cell_type": "code",
      "metadata": {
        "id": "-4AkHCD6yDSX",
        "colab_type": "code",
        "colab": {}
      },
      "source": [
        "nums1 = [4,0,0,0,0,0]\n",
        "m = 1\n",
        "nums2 = [1,2,3,5,6]\n",
        "n = 5"
      ],
      "execution_count": null,
      "outputs": []
    },
    {
      "cell_type": "code",
      "metadata": {
        "id": "Np9SVYzSx3c0",
        "colab_type": "code",
        "colab": {}
      },
      "source": [
        "test = Solution()\n",
        "test.merge(nums1,m,nums2,n)"
      ],
      "execution_count": null,
      "outputs": []
    },
    {
      "cell_type": "markdown",
      "metadata": {
        "id": "YntiTYAB7jJZ",
        "colab_type": "text"
      },
      "source": [
        "91. Decode Ways\n",
        "?????\n"
      ]
    },
    {
      "cell_type": "code",
      "metadata": {
        "id": "gXBSognG7jzk",
        "colab_type": "code",
        "colab": {}
      },
      "source": [
        "class Solution:\n",
        "    def numDecodings(self, s: str) -> int:\n",
        "        stored = {}\n",
        "        ans = self.helper(s,stored)\n",
        "        return ans\n",
        "    \n",
        "    def helper(self,s,stored):\n",
        "        # print(stored,s)\n",
        "        if s in stored:\n",
        "            return stored[s]\n",
        "        # this part is a little bit tricky, s = \"\" means we reach the end and the base case combination is 1\n",
        "        if s == \"\":\n",
        "            return 1\n",
        "        # 0 means the previous step is invalid, return 0 so that the 0 branch contribute 0 count!\n",
        "        if s[0]=='0':\n",
        "            return 0\n",
        "        # either stop at 1 digit, or the 2 steps need a more require where >=10\n",
        "        # if len(s)==1:\n",
        "        #     return 1\n",
        "        # One step\n",
        "        ans = self.helper(s[1:],stored) \n",
        "        # Two step\n",
        "        ans += self.helper(s[2:],stored) if int(s[0:2])<=26 and int(s[0:2])>=10 else 0\n",
        "        stored[s] = ans\n",
        "        return ans\n",
        "        \n",
        "# what to return? depend on what do you want to pass between recursive call. here we want to pass the combination number. Base case is the bottom, with 1 and 0. We want to recursively go up from the base to build up the whole word\n",
        "# Also, since each problems could be divided to sub-problems, it's like S_n = f( S_(n-1), S_(n-2) ), or binary tree structure?\n",
        "        \n",
        "\n",
        "        "
      ],
      "execution_count": null,
      "outputs": []
    },
    {
      "cell_type": "code",
      "metadata": {
        "id": "nf5y7jwO7lIX",
        "colab_type": "code",
        "colab": {
          "base_uri": "https://localhost:8080/",
          "height": 35
        },
        "outputId": "ae6afc50-eccf-4cc5-8251-2e0c8401f771"
      },
      "source": [
        "test = Solution()\n",
        "test.numDecodings('2619')"
      ],
      "execution_count": null,
      "outputs": [
        {
          "output_type": "execute_result",
          "data": {
            "text/plain": [
              "4"
            ]
          },
          "metadata": {
            "tags": []
          },
          "execution_count": 5
        }
      ]
    },
    {
      "cell_type": "markdown",
      "metadata": {
        "id": "VHP2SYhEmxDe",
        "colab_type": "text"
      },
      "source": [
        "94. Binary Tree Inorder Traversal\n"
      ]
    },
    {
      "cell_type": "code",
      "metadata": {
        "id": "ZKFOe54bnCTX",
        "colab_type": "code",
        "colab": {}
      },
      "source": [
        "# Definition for a binary tree node.\n",
        "# class TreeNode:\n",
        "#     def __init__(self, val=0, left=None, right=None):\n",
        "#         self.val = val\n",
        "#         self.left = left\n",
        "#         self.right = right\n",
        "\n",
        "# Recursive\n",
        "class Solution:\n",
        "    def inorderTraversal(self, root: TreeNode) -> List[int]:\n",
        "        if root is None: return []\n",
        "        ans = []\n",
        "        def helper(root,ans):\n",
        "            if root is None:\n",
        "                return True\n",
        "            helper(root.left,ans)\n",
        "            ans.append(root.val)\n",
        "            helper(root.right,ans)\n",
        "            return ans\n",
        "        return helper(root,ans)"
      ],
      "execution_count": null,
      "outputs": []
    },
    {
      "cell_type": "code",
      "metadata": {
        "id": "c6wTH53dqxSH",
        "colab_type": "code",
        "colab": {
          "base_uri": "https://localhost:8080/",
          "height": 34
        },
        "outputId": "51573ef8-2834-4213-e04e-909e963eac7f"
      },
      "source": [
        "test = Solution()\n",
        "test.inorderTraversal(t)"
      ],
      "execution_count": null,
      "outputs": [
        {
          "output_type": "execute_result",
          "data": {
            "text/plain": [
              "[2, 5, 4, 1, 3]"
            ]
          },
          "metadata": {
            "tags": []
          },
          "execution_count": 7
        }
      ]
    },
    {
      "cell_type": "code",
      "metadata": {
        "id": "uE2RhuUrrKqJ",
        "colab_type": "code",
        "colab": {}
      },
      "source": [
        "# Iterative\n",
        "class Solution:\n",
        "    def inorderTraversal(self, root: TreeNode) -> List[int]:\n",
        "        if root is None: return []\n",
        "        n = root\n",
        "        s = list()\n",
        "        ans = list()\n",
        "        while True:\n",
        "            if n:\n",
        "                s.append(n)\n",
        "            #break condition\n",
        "            if not s:\n",
        "                break\n",
        "            if  n is None or n.left is None:\n",
        "                n = s.pop()\n",
        "                ans.append(n.val)\n",
        "                n = n.right\n",
        "            else:\n",
        "                n = n.left\n",
        "        return ans\n",
        "\n",
        "# the key is how to backward track tree with stack\n"
      ],
      "execution_count": null,
      "outputs": []
    },
    {
      "cell_type": "code",
      "metadata": {
        "id": "4wSuLMLYrLSL",
        "colab_type": "code",
        "colab": {
          "base_uri": "https://localhost:8080/",
          "height": 34
        },
        "outputId": "fae53de8-b853-4856-b6cf-f1cd69e801aa"
      },
      "source": [
        "test = Solution()\n",
        "test.inorderTraversal(t)"
      ],
      "execution_count": null,
      "outputs": [
        {
          "output_type": "execute_result",
          "data": {
            "text/plain": [
              "[2, 5, 4, 1, 3]"
            ]
          },
          "metadata": {
            "tags": []
          },
          "execution_count": 9
        }
      ]
    },
    {
      "cell_type": "markdown",
      "metadata": {
        "id": "1ger0kYjzrHd",
        "colab_type": "text"
      },
      "source": [
        "98. Validate Binary Search Tree\n"
      ]
    },
    {
      "cell_type": "code",
      "metadata": {
        "id": "nkSxeFqMzruD",
        "colab_type": "code",
        "colab": {}
      },
      "source": [
        "# Definition for a binary tree node.\n",
        "# class TreeNode:\n",
        "#     def __init__(self, val=0, left=None, right=None):\n",
        "#         self.val = val\n",
        "#         self.left = left\n",
        "#         self.right = right\n",
        "class Solution:\n",
        "    def isValidBST(self, root: TreeNode) -> bool:\n",
        "        if not root:\n",
        "            return True\n",
        "        def helper(root):\n",
        "            if not root: \n",
        "                return True, float(\"inf\"), float('-inf')\n",
        "            if not root.left and not root.right:\n",
        "                return True, root.val, root.val\n",
        "            left, left_min, left_max = helper(root.left)\n",
        "            right, right_min, right_max = helper(root.right)\n",
        "            if root.val <= left_max or root.val >=right_min or not left or not right:\n",
        "                return False, min(root.val,left_min,right_min), max(root.val, right_max, left_max)\n",
        "            return True, min(root.val,left_min,right_min), max(root.val, right_max, left_max)\n",
        "        return helper(root)[0]\n",
        "        "
      ],
      "execution_count": null,
      "outputs": []
    },
    {
      "cell_type": "code",
      "metadata": {
        "id": "jlm_FsxT5SaW",
        "colab_type": "code",
        "colab": {}
      },
      "source": [
        "bst2.right"
      ],
      "execution_count": null,
      "outputs": []
    },
    {
      "cell_type": "code",
      "metadata": {
        "id": "UvAp-GbAzrxH",
        "colab_type": "code",
        "colab": {
          "base_uri": "https://localhost:8080/",
          "height": 34
        },
        "outputId": "041bfc82-5d8d-4817-961d-af0cd0968b42"
      },
      "source": [
        "test = Solution()\n",
        "test.isValidBST(bst2)"
      ],
      "execution_count": null,
      "outputs": [
        {
          "output_type": "execute_result",
          "data": {
            "text/plain": [
              "True"
            ]
          },
          "metadata": {
            "tags": []
          },
          "execution_count": 190
        }
      ]
    },
    {
      "cell_type": "markdown",
      "metadata": {
        "id": "Rl-honj5QpoZ",
        "colab_type": "text"
      },
      "source": [
        "102. Binary Tree Level Order Traversal\n"
      ]
    },
    {
      "cell_type": "code",
      "metadata": {
        "id": "57__oi3IQI6f",
        "colab_type": "code",
        "colab": {}
      },
      "source": [
        "# Definition for a binary tree node.\n",
        "# class TreeNode:\n",
        "#     def __init__(self, val=0, left=None, right=None):\n",
        "#         self.val = val\n",
        "#         self.left = left\n",
        "#         self.right = right\n",
        "\n",
        "# Recursive\n",
        "# class Solution:\n",
        "#     def levelOrder(self, root: TreeNode) -> List[List[int]]:\n",
        "#         if root is None: return []\n",
        "#         ans_dict = {}\n",
        "#         def helper(root,ans_dict,depth):\n",
        "#             if root is None:\n",
        "#                 return True\n",
        "#             helper(root.left,ans_dict,depth+1)\n",
        "#             if ans_dict.get(depth):\n",
        "#                 ans_dict[depth].append(root.val)\n",
        "#             else:\n",
        "#                 ans_dict[depth] = [root.val]\n",
        "#             helper(root.right,ans_dict,depth+1)\n",
        "#             return ans_dict\n",
        "#         ans = helper(root,ans_dict,0)\n",
        "#         return [v for k, v in sorted(ans.items())] \n",
        "\n",
        "# BFS with queue\n",
        "from collections import deque\n",
        "class Solution:\n",
        "    def levelOrder(self, root: TreeNode) -> List[List[int]]:\n",
        "        if root is None: return []\n",
        "        q, ans = deque([root]), []\n",
        "        while q:\n",
        "            current_level = []\n",
        "            current_length = len(q)\n",
        "            # since we need one level in a list\n",
        "            for i in range(current_length):\n",
        "                node = q.popleft()\n",
        "                current_level.append(node.val)\n",
        "                if node.left:\n",
        "                    q.append(node.left)\n",
        "                if node.right:\n",
        "                    q.append(node.right)\n",
        "            ans.append(current_level)\n",
        "        return ans\n",
        "\n"
      ],
      "execution_count": null,
      "outputs": []
    },
    {
      "cell_type": "code",
      "metadata": {
        "id": "5d8Oqe6AQyuV",
        "colab_type": "code",
        "colab": {
          "base_uri": "https://localhost:8080/",
          "height": 34
        },
        "outputId": "3ea5641b-43c1-4efe-e4b7-13adcc96fa7e"
      },
      "source": [
        "test = Solution()\n",
        "test.levelOrder(t)"
      ],
      "execution_count": null,
      "outputs": [
        {
          "output_type": "execute_result",
          "data": {
            "text/plain": [
              "[[1], [2, 3], [4], [5]]"
            ]
          },
          "metadata": {
            "tags": []
          },
          "execution_count": 11
        }
      ]
    },
    {
      "cell_type": "markdown",
      "metadata": {
        "id": "QefaWbO0bEO3",
        "colab_type": "text"
      },
      "source": [
        "103. Binary Tree Zigzag Level Order Traversal\n"
      ]
    },
    {
      "cell_type": "code",
      "metadata": {
        "id": "CkUkyQKcY-4_",
        "colab_type": "code",
        "colab": {}
      },
      "source": [
        "# Definition for a binary tree node.\n",
        "# class TreeNode:\n",
        "#     def __init__(self, val=0, left=None, right=None):\n",
        "#         self.val = val\n",
        "#         self.left = left\n",
        "#         self.right = right\n",
        "\n",
        "# based on inorder traversal\n",
        "class Solution:\n",
        "    def zigzagLevelOrder(self, root: TreeNode) -> List[List[int]]:\n",
        "        if root is None: return []\n",
        "        ans_dict = {}\n",
        "        def helper(root,ans_dict,depth):\n",
        "            if root is None:\n",
        "                return True\n",
        "            helper(root.left,ans_dict,depth+1)\n",
        "            # this position = in order\n",
        "            if ans_dict.get(depth):\n",
        "                ans_dict[depth].append(root.val)\n",
        "            else:\n",
        "                ans_dict[depth] = [root.val] \n",
        "            helper(root.right,ans_dict,depth+1)\n",
        "            return ans_dict\n",
        "        ans = helper(root,ans_dict,0)\n",
        "        return [v if k%2==0 else v[::-1] for k, v in sorted(ans.items())] \n",
        "        "
      ],
      "execution_count": null,
      "outputs": []
    },
    {
      "cell_type": "code",
      "metadata": {
        "id": "4nfEhnXbY_j0",
        "colab_type": "code",
        "colab": {
          "base_uri": "https://localhost:8080/",
          "height": 34
        },
        "outputId": "92d40307-bca7-44f2-ebc3-36903c35b1f3"
      },
      "source": [
        "test = Solution()\n",
        "test.zigzagLevelOrder(t)"
      ],
      "execution_count": null,
      "outputs": [
        {
          "output_type": "execute_result",
          "data": {
            "text/plain": [
              "[[1], [3, 2], [4], [5]]"
            ]
          },
          "metadata": {
            "tags": []
          },
          "execution_count": 13
        }
      ]
    },
    {
      "cell_type": "markdown",
      "metadata": {
        "id": "H82y_AouWXIv",
        "colab_type": "text"
      },
      "source": [
        "104. Maximum Depth of Binary Tree\n"
      ]
    },
    {
      "cell_type": "code",
      "metadata": {
        "id": "qVYnJqLHVxAB",
        "colab_type": "code",
        "colab": {}
      },
      "source": [
        "# Definition for a binary tree node.\n",
        "# class TreeNode:\n",
        "#     def __init__(self, val=0, left=None, right=None):\n",
        "#         self.val = val\n",
        "#         self.left = left\n",
        "#         self.right = right\n",
        "\n",
        "\n",
        "# BFS with queue\n",
        "from collections import deque\n",
        "class Solution:\n",
        "    def maxDepth(self, root: TreeNode) -> int:\n",
        "        max_depth = 0\n",
        "        if root is None: return 0\n",
        "        q, ans = deque([root]), []\n",
        "        while q:\n",
        "            max_depth +=1\n",
        "            current_length = len(q)\n",
        "            for i in range(current_length):\n",
        "                node = q.popleft()\n",
        "                if node.left:\n",
        "                    q.append(node.left)\n",
        "                if node.right:\n",
        "                    q.append(node.right)\n",
        "        return max_depth\n",
        "        "
      ],
      "execution_count": null,
      "outputs": []
    },
    {
      "cell_type": "code",
      "metadata": {
        "id": "1OcIpg_f9FGJ",
        "colab_type": "code",
        "colab": {
          "base_uri": "https://localhost:8080/",
          "height": 34
        },
        "outputId": "e4e15361-b2c6-4edc-e1da-7123c5c5be30"
      },
      "source": [
        "test = Solution()\n",
        "test.maxDepth(t)"
      ],
      "execution_count": null,
      "outputs": [
        {
          "output_type": "execute_result",
          "data": {
            "text/plain": [
              "4"
            ]
          },
          "metadata": {
            "tags": []
          },
          "execution_count": 41
        }
      ]
    },
    {
      "cell_type": "markdown",
      "metadata": {
        "id": "mmP0ui28FICn",
        "colab_type": "text"
      },
      "source": [
        "105. Construct Binary Tree from Preorder and Inorder Traversal\n"
      ]
    },
    {
      "cell_type": "code",
      "metadata": {
        "id": "IGotx6DtFHTt",
        "colab_type": "code",
        "colab": {}
      },
      "source": [
        "# Definition for a binary tree node.\n",
        "# class TreeNode:\n",
        "#     def __init__(self, val=0, left=None, right=None):\n",
        "#         self.val = val\n",
        "#         self.left = left\n",
        "#         self.right = right\n",
        "class Solution:\n",
        "    def buildTree(self, preorder: List[int], inorder: List[int]) -> TreeNode:\n",
        "        if preorder == []: return None\n",
        "        def helper(preorder,inorder):\n",
        "            if len(preorder) ==0 or len(inorder) ==0:\n",
        "                return None\n",
        "            # calculate root value\n",
        "            root = TreeNode(preorder.pop(0))\n",
        "            index = inorder.index(root.val)\n",
        "            # why left -> right? bc preorder node -> left -> right, so the next pop element must be in left tree\n",
        "            root.left = helper(preorder,inorder[:index])\n",
        "            root.right = helper(preorder,inorder[index+1:])\n",
        "            return root\n",
        "        return helper(preorder,inorder)\n",
        "\n",
        "preorder = [3,9,20,15,7]\n",
        "inorder = [9,3,15,20,7]"
      ],
      "execution_count": null,
      "outputs": []
    },
    {
      "cell_type": "code",
      "metadata": {
        "id": "EoNrr5Zem3W_",
        "colab_type": "code",
        "colab": {}
      },
      "source": [
        "# Solution..\n",
        "class Solution:\n",
        "    def buildTree(self, preorder, inorder):\n",
        "        \"\"\"\n",
        "        :type preorder: List[int]\n",
        "        :type inorder: List[int]\n",
        "        :rtype: TreeNode\n",
        "        \"\"\"\n",
        "        def helper(in_left = 0, in_right = len(inorder)):\n",
        "            nonlocal pre_idx\n",
        "            # if there is no elements to construct subtrees\n",
        "            if in_left == in_right:\n",
        "                return None\n",
        "            \n",
        "            # pick up pre_idx element as a root\n",
        "            root_val = preorder[pre_idx]\n",
        "            root = TreeNode(root_val)\n",
        "            print(root_val)\n",
        "\n",
        "            # root splits inorder list\n",
        "            # into left and right subtrees\n",
        "            index = idx_map[root_val]\n",
        "\n",
        "            # recursion \n",
        "            pre_idx += 1  # same as Pop.. this solution will go pre order!\n",
        "            # build left subtree\n",
        "            root.left = helper(in_left, index)\n",
        "            # build right subtree\n",
        "            root.right = helper(index + 1, in_right)\n",
        "            return root\n",
        "        \n",
        "        # start from first preorder element\n",
        "        pre_idx = 0\n",
        "        # build a hashmap value -> its index\n",
        "        idx_map = {val:idx for idx, val in enumerate(inorder)} \n",
        "        return helper()"
      ],
      "execution_count": null,
      "outputs": []
    },
    {
      "cell_type": "code",
      "metadata": {
        "id": "LvGL4J6SDKHj",
        "colab_type": "code",
        "colab": {
          "base_uri": "https://localhost:8080/",
          "height": 102
        },
        "outputId": "ea9444fc-282c-47e9-b321-4ecd434b121e"
      },
      "source": [
        "test = Solution()\n",
        "r = test.buildTree(preorder,inorder)"
      ],
      "execution_count": null,
      "outputs": [
        {
          "output_type": "stream",
          "text": [
            "3\n",
            "9\n",
            "20\n",
            "15\n",
            "7\n"
          ],
          "name": "stdout"
        }
      ]
    },
    {
      "cell_type": "markdown",
      "metadata": {
        "id": "qsSTqXkikctP",
        "colab_type": "text"
      },
      "source": [
        "***106***. Construct Binary Tree from Inorder and Postorder Traversal\n"
      ]
    },
    {
      "cell_type": "code",
      "metadata": {
        "id": "B0N-wAyrXR4B",
        "colab_type": "code",
        "colab": {}
      },
      "source": [
        "# Definition for a binary tree node.\n",
        "# class TreeNode:\n",
        "#     def __init__(self, val=0, left=None, right=None):\n",
        "#         self.val = val\n",
        "#         self.left = left\n",
        "#         self.right = right\n",
        "class Solution:\n",
        "    def buildTree(self, inorder: List[int], postorder: List[int]) -> TreeNode:\n",
        "        if postorder == []: return None\n",
        "        def helper(postorder,inorder):\n",
        "            if len(postorder) ==0 or len(inorder) ==0:\n",
        "                return None\n",
        "            # calculate root value\n",
        "            root = TreeNode(postorder.pop()) # reverse post order!\n",
        "            index = inorder.index(root.val)\n",
        "            print(root.val)\n",
        "            # post order is left->right->node so the reverse is node -> right -> left\n",
        "            \n",
        "            root.right = helper(postorder,inorder[index+1:])\n",
        "            root.left = helper(postorder,inorder[:index])\n",
        "            return root\n",
        "        return helper(postorder,inorder)\n",
        "\n",
        "inorder = [9,3,15,20,7]\n",
        "postorder = [9,15,7,20,3]\n",
        "        \n",
        "\n"
      ],
      "execution_count": null,
      "outputs": []
    },
    {
      "cell_type": "code",
      "metadata": {
        "id": "f2m4zrYrkmL1",
        "colab_type": "code",
        "colab": {}
      },
      "source": [
        "test = Solution() # This solution go backward post order!\n",
        "r = test.buildTree(inorder,postorder)"
      ],
      "execution_count": null,
      "outputs": []
    },
    {
      "cell_type": "markdown",
      "metadata": {
        "id": "_i6OWSNmn0fy",
        "colab_type": "text"
      },
      "source": [
        "108. Convert Sorted Array to Binary Search Tree\n"
      ]
    },
    {
      "cell_type": "code",
      "metadata": {
        "id": "cWEghl-ylJQz",
        "colab_type": "code",
        "colab": {}
      },
      "source": [
        "# Definition for a binary tree node.\n",
        "# class TreeNode:\n",
        "#     def __init__(self, val=0, left=None, right=None):\n",
        "#         self.val = val\n",
        "#         self.left = left\n",
        "#         self.right = right\n",
        "class Solution:\n",
        "    def sortedArrayToBST(self, nums: List[int]) -> TreeNode:\n",
        "        def helper(nums):\n",
        "            if nums == []:\n",
        "                return None\n",
        "            i = int(len(nums)/2)\n",
        "            root = TreeNode(nums[i])\n",
        "            print(root.val)\n",
        "            root.left = helper(nums[:i])\n",
        "            root.right = helper(nums[i+1:])\n",
        "            return root\n",
        "        return helper(nums)\n",
        "\n"
      ],
      "execution_count": null,
      "outputs": []
    },
    {
      "cell_type": "code",
      "metadata": {
        "id": "aZxebuq-ppod",
        "colab_type": "code",
        "colab": {
          "base_uri": "https://localhost:8080/",
          "height": 102
        },
        "outputId": "3ce5c6a3-be75-44b1-ed62-9eaf6018e341"
      },
      "source": [
        "test = Solution() # This solution go backward post order!\n",
        "r = test.sortedArrayToBST([-10,-3,0,5,9])"
      ],
      "execution_count": null,
      "outputs": [
        {
          "output_type": "stream",
          "text": [
            "0\n",
            "-3\n",
            "-10\n",
            "9\n",
            "5\n"
          ],
          "name": "stdout"
        }
      ]
    },
    {
      "cell_type": "markdown",
      "metadata": {
        "id": "_bH7QDxCr5ub",
        "colab_type": "text"
      },
      "source": [
        "114. Flatten Binary Tree to Linked List\n"
      ]
    },
    {
      "cell_type": "code",
      "metadata": {
        "id": "2e2JQkf3pu69",
        "colab_type": "code",
        "colab": {}
      },
      "source": [
        "# Definition for a binary tree node.\n",
        "# class TreeNode:\n",
        "#     def __init__(self, val=0, left=None, right=None):\n",
        "#         self.val = val\n",
        "#         self.left = left\n",
        "#         self.right = right\n",
        "class Solution:\n",
        "    def flatten(self, root: TreeNode) -> None:\n",
        "        \"\"\"\n",
        "        Do not return anything, modify root in-place instead.\n",
        "        \"\"\"\n",
        "        def helper(node):\n",
        "            if not node:\n",
        "                return None\n",
        "            if not node.left and not node.right:\n",
        "                return node\n",
        "            left_tail = helper(node.left)\n",
        "            right_tail = helper(node.right)\n",
        "            if left_tail:\n",
        "                left_tail.right = node.right\n",
        "                node.right = node.left\n",
        "                node.left = None\n",
        "\n",
        "            return right_tail if right_tail else left_tail\n",
        "        helper(root)\n",
        "\n",
        "        \n"
      ],
      "execution_count": null,
      "outputs": []
    },
    {
      "cell_type": "code",
      "metadata": {
        "id": "GPYW1jFqr61j",
        "colab_type": "code",
        "colab": {}
      },
      "source": [
        "# Definition for a binary tree node.\n",
        "# class TreeNode:\n",
        "#     def __init__(self, x):\n",
        "#         self.val = x\n",
        "#         self.left = None\n",
        "#         self.right = None\n",
        "\n",
        "class Solution:\n",
        "    \n",
        "    def flattenTree(self, node):\n",
        "        \n",
        "        # Handle the null scenario\n",
        "        if not node:\n",
        "            return None\n",
        "        \n",
        "        # For a leaf node, we simply return the\n",
        "        # node as is.\n",
        "        if not node.left and not node.right:\n",
        "            return node\n",
        "        \n",
        "        # Recursively flatten the left subtree\n",
        "        leftTail = self.flattenTree(node.left)\n",
        "        \n",
        "        # Recursively flatten the right subtree\n",
        "        rightTail = self.flattenTree(node.right)\n",
        "        \n",
        "        # If there was a left subtree, we shuffle the connections\n",
        "        # around so that there is nothing on the left side\n",
        "        # anymore.\n",
        "        if leftTail:\n",
        "            leftTail.right = node.right\n",
        "            node.right = node.left\n",
        "            node.left = None\n",
        "        \n",
        "        # We need to return the \"rightmost\" node after we are\n",
        "        # done wiring the new connections. \n",
        "        return rightTail if rightTail else leftTail\n",
        "    \n",
        "    def flatten(self, root: TreeNode) -> None:\n",
        "        \"\"\"\n",
        "        Do not return anything, modify root in-place instead.\n",
        "        \"\"\"\n",
        "        \n",
        "        self.flattenTree(root)"
      ],
      "execution_count": null,
      "outputs": []
    },
    {
      "cell_type": "code",
      "metadata": {
        "id": "iVrAyP0f_Dit",
        "colab_type": "code",
        "colab": {}
      },
      "source": [
        "test = Solution() # This solution go backward post order!\n",
        "test.flatten(t2)"
      ],
      "execution_count": null,
      "outputs": []
    },
    {
      "cell_type": "markdown",
      "metadata": {
        "id": "eFV4ytQGJrfn",
        "colab_type": "text"
      },
      "source": [
        "124. Binary Tree Maximum Path Sum\n"
      ]
    },
    {
      "cell_type": "code",
      "metadata": {
        "id": "TE9M5lIa_Sen",
        "colab_type": "code",
        "colab": {}
      },
      "source": [
        "# Definition for a binary tree node.\n",
        "# class TreeNode:\n",
        "#     def __init__(self, val=0, left=None, right=None):\n",
        "#         self.val = val\n",
        "#         self.left = left\n",
        "#         self.right = right\n",
        "class Solution:\n",
        "    def maxPathSum(self, root: TreeNode) -> int:\n",
        "        def max_sub_tree(root):\n",
        "            nonlocal ans\n",
        "            # Termination\n",
        "            if not root:\n",
        "                return 0\n",
        "            # if negative just prune the tree..\n",
        "            max_left = max(0, max_sub_tree(root.left))\n",
        "            max_right = max(0, max_sub_tree(root.right))\n",
        "            # return this for recursion\n",
        "            max_single_path = root.val + max(max_left,max_right)\n",
        "            \n",
        "            # Store max subtree path\n",
        "            ans = max(ans,(max_left+max_right+root.val)) # don't need to worry if root.val is negative and max_left is large, since max_sub_tree(root.left) (further recursion) will update the ans to its max..\n",
        "\n",
        "            return max_single_path\n",
        "        ans = float(\"-inf\")\n",
        "        max_sub_tree(root)\n",
        "        return ans\n",
        "        "
      ],
      "execution_count": null,
      "outputs": []
    },
    {
      "cell_type": "code",
      "metadata": {
        "id": "__BIOufSJ4pC",
        "colab_type": "code",
        "colab": {
          "base_uri": "https://localhost:8080/",
          "height": 35
        },
        "outputId": "af73b22d-13c2-433a-9ba2-53fb38012bf4"
      },
      "source": [
        "test = Solution() # This solution go backward post order!\n",
        "test.maxPathSum(t)"
      ],
      "execution_count": null,
      "outputs": [
        {
          "output_type": "execute_result",
          "data": {
            "text/plain": [
              "15"
            ]
          },
          "metadata": {
            "tags": []
          },
          "execution_count": 47
        }
      ]
    },
    {
      "cell_type": "markdown",
      "metadata": {
        "id": "c1YrRbGdnrVg",
        "colab_type": "text"
      },
      "source": [
        "128. Longest Consecutive Sequence\n"
      ]
    },
    {
      "cell_type": "code",
      "metadata": {
        "id": "kdE_V74kv36R",
        "colab_type": "code",
        "colab": {}
      },
      "source": [
        "class Solution:\n",
        "    def longestConsecutive(self, nums: List[int]) -> int:\n",
        "        if not nums: return 0\n",
        "        nums_set = set(nums)\n",
        "        max_len = 1\n",
        "        for num in nums:\n",
        "            if num-1 in nums_set:\n",
        "                continue\n",
        "            cur_len = 1\n",
        "            next_num = num+1\n",
        "            while next_num in nums_set:\n",
        "                cur_len +=1\n",
        "                next_num +=1\n",
        "            max_len = max(max_len,cur_len)\n",
        "        return max_len\n",
        "\n",
        "        "
      ],
      "execution_count": null,
      "outputs": []
    },
    {
      "cell_type": "code",
      "metadata": {
        "id": "DW467CD-nwnH",
        "colab_type": "code",
        "colab": {
          "base_uri": "https://localhost:8080/",
          "height": 34
        },
        "outputId": "051989c0-ff52-4756-b167-3bcfed6e2d13"
      },
      "source": [
        "test = Solution() # This solution go backward post order!\n",
        "test.longestConsecutive([100, 4, 200, 1, 3, 2])"
      ],
      "execution_count": null,
      "outputs": [
        {
          "output_type": "execute_result",
          "data": {
            "text/plain": [
              "4"
            ]
          },
          "metadata": {
            "tags": []
          },
          "execution_count": 11
        }
      ]
    },
    {
      "cell_type": "markdown",
      "metadata": {
        "id": "XAYQk_xIyqSG",
        "colab_type": "text"
      },
      "source": [
        "133. Clone Graph"
      ]
    },
    {
      "cell_type": "code",
      "metadata": {
        "id": "GWfVQj4YyrNQ",
        "colab_type": "code",
        "colab": {}
      },
      "source": [
        "\n",
        "# Definition for a Node.\n",
        "class Node:\n",
        "    def __init__(self, val = 0, neighbors = None):\n",
        "        self.val = val\n",
        "        self.neighbors = neighbors if neighbors is not None else []\n",
        "\n",
        "\n",
        "class Solution:\n",
        "    def cloneGraph(self, node: 'Node') -> 'Node':\n",
        "        if not node: return\n",
        "        node_clone = Node(node.val,[])\n",
        "        self.hash_table = {node.val:node_clone}\n",
        "        q = collections.deque([node])\n",
        "        while q:\n",
        "            node = q.popleft()\n",
        "            for neighbor in node.neighbors:\n",
        "                if neighbor.val not in self.hash_table.keys():\n",
        "                    clone = Node(neighbor.val)\n",
        "                    self.hash_table[neighbor.val] = clone\n",
        "                    self.hash_table[node.val].neighbors.append(clone)\n",
        "                    q.append(neighbor)\n",
        "                else:\n",
        "                    # self.hash_table[neighbor.val] was created so link those together\n",
        "                    self.hash_table[node.val].neighbors.append(self.hash_table[neighbor.val])\n",
        "        return node_clone\n",
        "\n",
        "# def cloneGraph1(self, node):\n",
        "#     if not node:\n",
        "#         return \n",
        "#     nodeCopy = UndirectedGraphNode(node.label)\n",
        "#     dic = {node: nodeCopy}\n",
        "#     queue = collections.deque([node])\n",
        "#     while queue:\n",
        "#         node = queue.popleft()\n",
        "#         for neighbor in node.neighbors:\n",
        "#             if neighbor not in dic: # neighbor is not visited\n",
        "#                 neighborCopy = UndirectedGraphNode(neighbor.label)\n",
        "#                 dic[neighbor] = neighborCopy\n",
        "#                 dic[node].neighbors.append(neighborCopy)\n",
        "#                 queue.append(neighbor)\n",
        "#             else:\n",
        "#                 dic[node].neighbors.append(dic[neighbor])\n",
        "#     return nodeCopy"
      ],
      "execution_count": null,
      "outputs": []
    },
    {
      "cell_type": "code",
      "metadata": {
        "id": "WwxhFnA91zFS",
        "colab_type": "code",
        "colab": {}
      },
      "source": [
        "test = Solution() # This solution go backward post order!\n",
        "test.cloneGraph([100, 4, 200, 1, 3, 2])"
      ],
      "execution_count": null,
      "outputs": []
    },
    {
      "cell_type": "markdown",
      "metadata": {
        "id": "VXyw5ejZLfC7",
        "colab_type": "text"
      },
      "source": [
        "134. Gas Station\n"
      ]
    },
    {
      "cell_type": "code",
      "metadata": {
        "id": "J1VP6k-PLgWY",
        "colab_type": "code",
        "colab": {}
      },
      "source": [
        "class Solution:\n",
        "    def canCompleteCircuit(self, gas: List[int], cost: List[int]) -> int:\n",
        "        if sum(gas)<sum(cost):\n",
        "            return -1\n",
        "        n = len(gas)\n",
        "        curr_tank = 0\n",
        "        start_index = 0\n",
        "        for i in range(n):\n",
        "            curr_tank = curr_tank + gas[i]\n",
        "            if curr_tank>=cost[i]:\n",
        "                curr_tank = curr_tank - cost[i]\n",
        "            else:\n",
        "                curr_tank = 0\n",
        "                start_index = i+1\n",
        "        return start_index if start_index<n else -1"
      ],
      "execution_count": null,
      "outputs": []
    },
    {
      "cell_type": "code",
      "metadata": {
        "id": "_BU_meA3RmBi",
        "colab_type": "code",
        "colab": {
          "base_uri": "https://localhost:8080/",
          "height": 34
        },
        "outputId": "cf4ccb12-9d0b-47b9-fff4-161a4b777a52"
      },
      "source": [
        "gas  = [1,2,3,4,5]\n",
        "cost = [3,4,5,1,2]\n",
        "test = Solution()\n",
        "test.canCompleteCircuit(gas,cost)"
      ],
      "execution_count": null,
      "outputs": [
        {
          "output_type": "execute_result",
          "data": {
            "text/plain": [
              "3"
            ]
          },
          "metadata": {
            "tags": []
          },
          "execution_count": 20
        }
      ]
    },
    {
      "cell_type": "markdown",
      "metadata": {
        "id": "leXjD3qbXWmt",
        "colab_type": "text"
      },
      "source": [
        "138. Copy List with Random Pointer\n"
      ]
    },
    {
      "cell_type": "code",
      "metadata": {
        "id": "gihHc5NFXhR6",
        "colab_type": "code",
        "colab": {}
      },
      "source": [
        "\"\"\"\n",
        "# Definition for a Node.\n",
        "class Node:\n",
        "    def __init__(self, x: int, next: 'Node' = None, random: 'Node' = None):\n",
        "        self.val = int(x)\n",
        "        self.next = next\n",
        "        self.random = random\n",
        "\"\"\"\n",
        "class Node:\n",
        "    def __init__(self, x: int, next: 'Node' = None, random: 'Node' = None):\n",
        "        self.val = int(x)\n",
        "        self.next = next\n",
        "        self.random = random\n",
        "\n",
        "class Solution:\n",
        "    def copyRandomList(self, head: 'Node') -> 'Node':\n",
        "        visited = {}\n",
        "        def helper(node):\n",
        "            nonlocal visited\n",
        "            # termination\n",
        "            if not node:\n",
        "                return None\n",
        "            if visited.get(node):\n",
        "                return visited.get(node)\n",
        "\n",
        "            # recursive\n",
        "            new_node = Node(node.val)\n",
        "            visited[node] = new_node\n",
        "\n",
        "            new_node.next = helper(node.next)\n",
        "            new_node.random = helper(node.random)\n",
        "            # return\n",
        "            return new_node\n",
        "        return helper(head)\n",
        "\n",
        "\n",
        "            \n",
        "\n",
        "\n",
        "\n",
        "# class Solution(object):\n",
        "#     \"\"\"\n",
        "#     :type head: Node\n",
        "#     :rtype: Node\n",
        "#     \"\"\"\n",
        "#     def __init__(self):\n",
        "#         # Dictionary which holds old nodes as keys and new nodes as its values.\n",
        "#         self.visitedHash = {}\n",
        "\n",
        "#     def copyRandomList(self, head):\n",
        "\n",
        "#         if head == None:\n",
        "#             return None\n",
        "\n",
        "#         # If we have already processed the current node, then we simply return the cloned version of it.\n",
        "#         if head in self.visitedHash:\n",
        "#             return self.visitedHash[head]\n",
        "\n",
        "#         # create a new node\n",
        "#         # with the value same as old node.\n",
        "#         node = Node(head.val, None, None)\n",
        "\n",
        "#         # Save this value in the hash map. This is needed since there might be\n",
        "#         # loops during traversal due to randomness of random pointers and this would help us avoid them.\n",
        "#         self.visitedHash[head] = node\n",
        "\n",
        "#         # Recursively copy the remaining linked list starting once from the next pointer and then from the random pointer.\n",
        "#         # Thus we have two independent recursive calls.\n",
        "#         # Finally we update the next and random pointers for the new node created.\n",
        "#         node.next = self.copyRandomList(head.next)\n",
        "#         node.random = self.copyRandomList(head.random)\n",
        "\n",
        "#         return node\n",
        "\n",
        "# the most important thing in this recursive is: what to return?? Tree, graph, linked list could be visited by recursive, but we do not want to print, we want create a node and create the edge!~\n",
        "        "
      ],
      "execution_count": null,
      "outputs": []
    },
    {
      "cell_type": "markdown",
      "metadata": {
        "id": "bHwsrJQ2DkSX",
        "colab_type": "text"
      },
      "source": [
        "139. Word Break\n"
      ]
    },
    {
      "cell_type": "code",
      "metadata": {
        "id": "wXEO2GHiXjYM",
        "colab_type": "code",
        "colab": {}
      },
      "source": [
        "class Solution:\n",
        "    def wordBreak(self, s: str, wordDict: List[str]) -> bool:\n",
        "        q = [s]\n",
        "        d = {}\n",
        "        while q:\n",
        "            current_str = q.pop(0)\n",
        "            for w in wordDict:\n",
        "                if current_str[len(w):] in d:\n",
        "                    continue\n",
        "                if w == current_str[:len(w)]:\n",
        "                    d[current_str[len(w):]] = 1\n",
        "                    q.append(current_str[len(w):])\n",
        "            print(q)\n",
        "            if \"\" in q:\n",
        "                return True\n",
        "        return False\n",
        "\n",
        "        "
      ],
      "execution_count": null,
      "outputs": []
    },
    {
      "cell_type": "code",
      "metadata": {
        "id": "0PuecYVnDowQ",
        "colab_type": "code",
        "colab": {
          "base_uri": "https://localhost:8080/",
          "height": 90
        },
        "outputId": "5b83a781-21e2-4e09-f17d-642d85b1a721"
      },
      "source": [
        "s = \"applepenapple\"; wordDict = [\"apple\", \"pen\"]\n",
        "test = Solution()\n",
        "test.wordBreak(s, wordDict)"
      ],
      "execution_count": null,
      "outputs": [
        {
          "output_type": "stream",
          "text": [
            "['penapple']\n",
            "['apple']\n",
            "['']\n"
          ],
          "name": "stdout"
        },
        {
          "output_type": "execute_result",
          "data": {
            "text/plain": [
              "True"
            ]
          },
          "metadata": {
            "tags": []
          },
          "execution_count": 17
        }
      ]
    },
    {
      "cell_type": "markdown",
      "metadata": {
        "id": "sMbpcPI8PeO7",
        "colab_type": "text"
      },
      "source": [
        "145. Binary Tree Postorder Traversal\n"
      ]
    },
    {
      "cell_type": "code",
      "metadata": {
        "id": "HeoNrNdGMkqE",
        "colab_type": "code",
        "colab": {}
      },
      "source": [
        "# Definition for a binary tree node.\n",
        "# class TreeNode:\n",
        "#     def __init__(self, val=0, left=None, right=None):\n",
        "#         self.val = val\n",
        "#         self.left = left\n",
        "#         self.right = right\n",
        "\n",
        "# recursive\n",
        "class Solution:\n",
        "    def postorderTraversal(self, root: TreeNode) -> List[int]:\n",
        "        ans = []\n",
        "        def helper(root):\n",
        "            nonlocal ans\n",
        "            if not root: return None\n",
        "            helper(root.left)\n",
        "            helper(root.right)\n",
        "            ans.append(root.val)\n",
        "        helper(root)\n",
        "        return ans\n",
        "    \n",
        "        "
      ],
      "execution_count": null,
      "outputs": []
    },
    {
      "cell_type": "code",
      "metadata": {
        "id": "GtH0RJqdn7Uo",
        "colab_type": "code",
        "colab": {}
      },
      "source": [
        "# Definition for a binary tree node.\n",
        "# class TreeNode:\n",
        "#     def __init__(self, val=0, left=None, right=None):\n",
        "#         self.val = val\n",
        "#         self.left = left\n",
        "#         self.right = right\n",
        "\n",
        "# iterative\n",
        "class Solution:\n",
        "    def postorderTraversal(self, root: TreeNode) -> List[int]:\n",
        "        if not root: return []\n",
        "        s = [root]\n",
        "        ans = []\n",
        "        while s:\n",
        "            node = s.pop()\n",
        "            if node:\n",
        "                ans.insert(0,node.val)\n",
        "                s.append(node.left)\n",
        "                s.append(node.right)\n",
        "                # print(s)\n",
        "        return ans\n",
        "\n",
        "# Can not use queue, since it is DFS, queue is for BFS\n",
        "        "
      ],
      "execution_count": null,
      "outputs": []
    },
    {
      "cell_type": "code",
      "metadata": {
        "id": "Xf8cSZlmoZ0N",
        "colab_type": "code",
        "colab": {
          "base_uri": "https://localhost:8080/",
          "height": 34
        },
        "outputId": "212036e8-8870-41c8-e586-4a2f2e951f2b"
      },
      "source": [
        "test = Solution() # This solution go backward post order!\n",
        "test.postorderTraversal(t)"
      ],
      "execution_count": null,
      "outputs": [
        {
          "output_type": "execute_result",
          "data": {
            "text/plain": [
              "[5, 4, 2, 3, 1]"
            ]
          },
          "metadata": {
            "tags": []
          },
          "execution_count": 50
        }
      ]
    },
    {
      "cell_type": "markdown",
      "metadata": {
        "id": "ozQjvKtnMekA",
        "colab_type": "text"
      },
      "source": [
        "146. LRU Cache\n"
      ]
    },
    {
      "cell_type": "code",
      "metadata": {
        "id": "la-_KBO5Me5s",
        "colab_type": "code",
        "colab": {}
      },
      "source": [
        "from collections import OrderedDict\n",
        "class LRUCache(OrderedDict): # inherit orderedDict class! self = OrderedDict()\n",
        "\n",
        "    def __init__(self, capacity: int):\n",
        "        self.capacity = capacity\n",
        "\n",
        "    def get(self, key: int) -> int:\n",
        "        if key not in self:\n",
        "            return -1\n",
        "        self.move_to_end(key, last=True)\n",
        "        return self[key]\n",
        "\n",
        "    def put(self, key: int, value: int) -> None:\n",
        "        if key in self:\n",
        "            self.move_to_end(key, last=True)\n",
        "        self[key] = value\n",
        "        if len(self)>self.capacity:\n",
        "            self.popitem(last=False)\n",
        "\n",
        "        \n",
        "\n",
        "\n",
        "# Your LRUCache object will be instantiated and called as such:\n",
        "# obj = LRUCache(capacity)\n",
        "# param_1 = obj.get(key)\n",
        "# obj.put(key,value)"
      ],
      "execution_count": null,
      "outputs": []
    },
    {
      "cell_type": "markdown",
      "metadata": {
        "id": "2A-AffC-yyPg",
        "colab_type": "text"
      },
      "source": [
        "152. Maximum Product Subarray\n"
      ]
    },
    {
      "cell_type": "code",
      "metadata": {
        "id": "0DR1qypJyxwW",
        "colab_type": "code",
        "colab": {}
      },
      "source": [
        " class Solution():\n",
        "    def maxProduct(self, A):\n",
        "        B = A[::-1]\n",
        "        for i in range(1, len(A)):\n",
        "            A[i] *= A[i - 1] or 1\n",
        "            B[i] *= B[i - 1] or 1\n",
        "        return max(A + B)"
      ],
      "execution_count": null,
      "outputs": []
    },
    {
      "cell_type": "code",
      "metadata": {
        "id": "g5sEBUYNy5U0",
        "colab_type": "code",
        "colab": {
          "base_uri": "https://localhost:8080/",
          "height": 51
        },
        "outputId": "ea5b877b-e5cf-4844-e263-43907d522984"
      },
      "source": [
        "test = Solution()\n",
        "test.maxProduct([-1,2,3,1])"
      ],
      "execution_count": null,
      "outputs": [
        {
          "output_type": "stream",
          "text": [
            "[-1, -2, -6, -6] [1, 3, 6, -6]\n"
          ],
          "name": "stdout"
        },
        {
          "output_type": "execute_result",
          "data": {
            "text/plain": [
              "6"
            ]
          },
          "metadata": {
            "tags": []
          },
          "execution_count": 124
        }
      ]
    },
    {
      "cell_type": "markdown",
      "metadata": {
        "id": "lwZM7-adLU1V",
        "colab_type": "text"
      },
      "source": [
        "173. Binary Search Tree Iterator\n"
      ]
    },
    {
      "cell_type": "code",
      "metadata": {
        "id": "V6SWJqaFLVi_",
        "colab_type": "code",
        "colab": {}
      },
      "source": [
        "# Definition for a binary tree node.\n",
        "# class TreeNode:\n",
        "#     def __init__(self, val=0, left=None, right=None):\n",
        "#         self.val = val\n",
        "#         self.left = left\n",
        "#         self.right = right\n",
        "class BSTIterator:\n",
        "\n",
        "    def __init__(self, root: TreeNode):\n",
        "        self.nodes_lst = []\n",
        "        self.index = -1\n",
        "        self._inorder(root)\n",
        "        \n",
        "    def _inorder(self, root):\n",
        "        if not root: return None\n",
        "        self._inorder(root.left)\n",
        "        self.nodes_lst.append(root.val)\n",
        "        self._inorder(root.right)\n",
        "        return \n",
        "\n",
        "    def next(self) -> int:\n",
        "        \"\"\"\n",
        "        @return the next smallest number\n",
        "        \"\"\"\n",
        "        self.index += 1\n",
        "        if self.index <= len(self.nodes_lst)-1:\n",
        "            return self.nodes_lst[self.index]\n",
        "        else:\n",
        "            return None\n",
        "        \n",
        "\n",
        "    def hasNext(self) -> bool:\n",
        "        \"\"\"\n",
        "        @return whether we have a next smallest number\n",
        "        \"\"\"\n",
        "        if self.index+1 <= len(self.nodes_lst)-1:\n",
        "            return True\n",
        "        else:\n",
        "            return False\n",
        "        \n",
        "\n",
        "\n",
        "# Your BSTIterator object will be instantiated and called as such:\n",
        "# obj = BSTIterator(root)\n",
        "# param_1 = obj.next()\n",
        "# param_2 = obj.hasNext()"
      ],
      "execution_count": null,
      "outputs": []
    },
    {
      "cell_type": "code",
      "metadata": {
        "id": "uV2X8BvFLYx3",
        "colab_type": "code",
        "colab": {}
      },
      "source": [
        "# the key here is use inorder to flaten the tree and then it is straightforward!"
      ],
      "execution_count": null,
      "outputs": []
    },
    {
      "cell_type": "markdown",
      "metadata": {
        "id": "yvJW27ojE2Cn",
        "colab_type": "text"
      },
      "source": [
        "200. Number of Islands\n"
      ]
    },
    {
      "cell_type": "code",
      "metadata": {
        "id": "kHulV-5jE2Yp",
        "colab_type": "code",
        "colab": {}
      },
      "source": [
        "class Solution:\n",
        "    def numIslands(self, grid: List[List[str]]) -> int:\n",
        "        m = len(grid)\n",
        "        if m==0: return 0\n",
        "        n = len(grid[0])\n",
        "        num_islands = 0\n",
        "        for i in range(m):\n",
        "            for j in range(n):\n",
        "                if grid[i][j] == '1':\n",
        "                    num_islands +=1\n",
        "                    self._dfs(i,j,grid)\n",
        "        return num_islands\n",
        "\n",
        "\n",
        "    def _dfs(self, x, y, grid):\n",
        "        m = len(grid)\n",
        "        n = len(grid[0])\n",
        "        if x>m-1 or y>n-1 or x<0 or y<0 or grid[x][y] =='0':\n",
        "            return\n",
        "        # print(x,y,m,n)\n",
        "        grid[x][y] = '0'\n",
        "        self._dfs(x, y+1, grid)\n",
        "        self._dfs(x, y-1, grid)\n",
        "        self._dfs(x+1, y, grid)\n",
        "        self._dfs(x-1, y, grid)\n",
        "        \n",
        "        \n",
        "\n",
        "        "
      ],
      "execution_count": null,
      "outputs": []
    },
    {
      "cell_type": "code",
      "metadata": {
        "id": "pqYFrLzbIrYU",
        "colab_type": "code",
        "colab": {}
      },
      "source": [
        "# 0表示海，1表示海岛，2表示城市。找出至少含有一个城市的海岛数目\n",
        "# [[\"1\",\"2\",\"0\",\"0\",\"0\"],[\"1\",\"1\",\"0\",\"0\",\"0\"],[\"0\",\"0\",\"2\",\"0\",\"0\"],[\"0\",\"0\",\"0\",\"1\",\"1\"]]\n",
        "\n",
        "class Solution:\n",
        "    def __init__(self):\n",
        "        self.city_flag = 0\n",
        "\n",
        "    def numIslands(self, grid: List[List[str]]) -> int:\n",
        "        m = len(grid)\n",
        "        if m==0: return 0\n",
        "        n = len(grid[0])\n",
        "        num_islands = 0\n",
        "        num_islands_w_city = 0\n",
        "        for i in range(m):\n",
        "            for j in range(n):\n",
        "                if grid[i][j] == '1' or grid[i][j] == '2':\n",
        "                    num_islands +=1\n",
        "                    self.city_flag = 0\n",
        "                    self._dfs(i,j,grid)\n",
        "                    num_islands_w_city += self.city_flag\n",
        "\n",
        "        return num_islands_w_city\n",
        "\n",
        "\n",
        "    def _dfs(self, x, y, grid):\n",
        "        m = len(grid)\n",
        "        n = len(grid[0])\n",
        "        if x>m-1 or y>n-1 or x<0 or y<0 or grid[x][y] =='0':\n",
        "            return\n",
        "        if grid[x][y] == '2':\n",
        "            self.city_flag = 1\n",
        "        # print(grid[x][y])\n",
        "        grid[x][y] = '0'\n",
        "        self._dfs(x, y+1, grid)\n",
        "        self._dfs(x, y-1, grid)\n",
        "        self._dfs(x+1, y, grid)\n",
        "        self._dfs(x-1, y, grid)\n",
        "        \n",
        "        \n",
        "\n",
        "        \n",
        "\n",
        "\n"
      ],
      "execution_count": null,
      "outputs": []
    },
    {
      "cell_type": "code",
      "metadata": {
        "id": "LbIz2d6GHRpJ",
        "colab_type": "code",
        "colab": {
          "base_uri": "https://localhost:8080/",
          "height": 35
        },
        "outputId": "c6a9c0c9-fa22-4eed-83e9-9e25c988f297"
      },
      "source": [
        "test = Solution()\n",
        "test.numIslands([[\"1\",\"2\",\"0\",\"0\",\"0\"],[\"1\",\"1\",\"0\",\"0\",\"0\"],[\"0\",\"0\",\"2\",\"0\",\"0\"],[\"0\",\"0\",\"0\",\"1\",\"1\"]])"
      ],
      "execution_count": null,
      "outputs": [
        {
          "output_type": "execute_result",
          "data": {
            "text/plain": [
              "2"
            ]
          },
          "metadata": {
            "tags": []
          },
          "execution_count": 70
        }
      ]
    },
    {
      "cell_type": "markdown",
      "metadata": {
        "id": "WgvUDua3P-WJ",
        "colab_type": "text"
      },
      "source": [
        "208. Implement Trie (Prefix Tree)\n"
      ]
    },
    {
      "cell_type": "code",
      "metadata": {
        "id": "66ZKufqnP-wZ",
        "colab_type": "code",
        "colab": {}
      },
      "source": [
        "class Trie:\n",
        "    def __init__(self):\n",
        "        \"\"\"\n",
        "        Initialize your data structure here.\n",
        "        \"\"\"\n",
        "        self.root = {}\n",
        "        \n",
        "\n",
        "    def insert(self, word: str) -> None:\n",
        "        \"\"\"\n",
        "        Inserts a word into the trie.\n",
        "        \"\"\"\n",
        "        p = self.root\n",
        "        for w in word:\n",
        "            if w not in p:\n",
        "                p[w]={}\n",
        "            p = p[w]\n",
        "        p['$'] = True\n",
        "        return None\n",
        "\n",
        "    def search(self, word: str) -> bool:\n",
        "        \"\"\"\n",
        "        Returns if the word is in the trie.\n",
        "        \"\"\"\n",
        "        p = self.root\n",
        "        for w in word:\n",
        "            if w not in p:\n",
        "                return False\n",
        "            p = p[w]\n",
        "        else:\n",
        "            return '$' in p\n",
        "\n",
        "        \n",
        "\n",
        "    def startsWith(self, prefix: str) -> bool:\n",
        "        \"\"\"\n",
        "        Returns if there is any word in the trie that starts with the given prefix.\n",
        "        \"\"\"\n",
        "        p = self.root\n",
        "        for pre in prefix:\n",
        "            if pre not in p:\n",
        "                return False\n",
        "            p = p[pre]\n",
        "        else:\n",
        "            return True\n",
        "        \n",
        "\n",
        "\n",
        "# Your Trie object will be instantiated and called as such:\n",
        "# obj = Trie()\n",
        "# obj.insert(word)\n",
        "# param_2 = obj.search(word)\n",
        "# param_3 = obj.startsWith(prefix)\n",
        "\n",
        "# class Trie(object):            \n",
        "#     def __init__(self):\n",
        "#         self.root = {}\n",
        "        \n",
        " \n",
        "#     def insert(self, word):\n",
        "#         p = self.root\n",
        "#         for c in word:            \n",
        "#             if c not in p: \n",
        "#                 p[c] = {}\n",
        "#             p = p[c]\n",
        "#         p['#'] = True\n",
        " \n",
        "#     def search(self, word):\n",
        "#         node = self.find(word)\n",
        "#         return node is not None and '#' in node\n",
        "        \n",
        " \n",
        "#     def startsWith(self, prefix):\n",
        "#         return self.find(prefix) is not None\n",
        "    \n",
        "#     def find(self, prefix):\n",
        "#         p = self.root\n",
        "#         for c in prefix:            \n",
        "#             if c not in p: return None\n",
        "#             p = p[c]\n",
        "#         return p\n",
        " "
      ],
      "execution_count": null,
      "outputs": []
    },
    {
      "cell_type": "code",
      "metadata": {
        "id": "7dx8ay3sTZu_",
        "colab_type": "code",
        "colab": {}
      },
      "source": [
        "trie = Trie();\n",
        "\n",
        "trie.insert(\"apple\");\n",
        "# trie.search(\"apple\");   // returns true\n",
        "# trie.search(\"app\");     // returns false\n",
        "# trie.startsWith(\"app\"); // returns true\n",
        "# trie.insert(\"app\");   \n",
        "# trie.search(\"app\");     // returns true"
      ],
      "execution_count": null,
      "outputs": []
    },
    {
      "cell_type": "markdown",
      "metadata": {
        "id": "LTDMynvcUb-i",
        "colab_type": "text"
      },
      "source": [
        "211. Add and Search Word - Data structure design\n"
      ]
    },
    {
      "cell_type": "code",
      "metadata": {
        "id": "YucLTH47h5RE",
        "colab_type": "code",
        "colab": {}
      },
      "source": [
        "import collections\n",
        "class TrieNode():\n",
        "    def __init__(self):\n",
        "        self.children = collections.defaultdict(TrieNode)\n",
        "        self.isWord = False\n",
        "    \n",
        "class WordDictionary(object):\n",
        "    def __init__(self):\n",
        "        self.root = TrieNode()\n",
        "\n",
        "    def addWord(self, word):\n",
        "        node = self.root\n",
        "        for w in word:\n",
        "            node = node.children[w]\n",
        "        node.isWord = True\n",
        "\n",
        "    def search(self, word):\n",
        "        node = self.root\n",
        "        self.res = False\n",
        "        self.dfs(node, word)\n",
        "        return self.res\n",
        "    \n",
        "    def dfs(self, node, word):\n",
        "        if not word:\n",
        "            if node.isWord:\n",
        "                self.res = True\n",
        "            return \n",
        "        if word[0] == \".\":\n",
        "            for n in node.children.values():\n",
        "                self.dfs(n, word[1:])\n",
        "        else:\n",
        "            node = node.children.get(word[0])\n",
        "            if not node:\n",
        "                return \n",
        "            self.dfs(node, word[1:])"
      ],
      "execution_count": null,
      "outputs": []
    },
    {
      "cell_type": "code",
      "metadata": {
        "id": "tq1GqnbkUd5o",
        "colab_type": "code",
        "colab": {}
      },
      "source": [
        "\n",
        "    # def search(self, word: str) -> bool:\n",
        "    #     \"\"\"\n",
        "    #     Returns if the word is in the data structure. A word could contain the dot character '.' to represent any one letter.\n",
        "    #     \"\"\"\n",
        "    #     # BFS with Queue\n",
        "    #     q = [self.root]\n",
        "    #     w = word[0]\n",
        "    #     n = len(word)\n",
        "    #     w_i = 0\n",
        "    #     while q and w_i<=n-1:\n",
        "    #         w = word[w_i]\n",
        "    #         p = q.pop(0)\n",
        "    #         print(p,w)\n",
        "    #         if w == '.':\n",
        "    #             for k, v in p.items():\n",
        "    #                 if k != '$':\n",
        "    #                     q.append(v)\n",
        "    #             w_i +=1\n",
        "    #         else:\n",
        "    #             if w in p:\n",
        "    #                 q = [p[w]]\n",
        "    #                 w_i +=1\n",
        "    #     if w_i <n:\n",
        "    #         return False\n",
        "    #     print(p,q,w_i)\n",
        "    #     if not q:\n",
        "    #         return False\n",
        "    #     p = q.pop(0)\n",
        "    #     if not isinstance(p,dict):\n",
        "    #         return False       \n",
        "    #     return True if p.get('$') else False\n",
        "\n",
        "class WordDictionary:\n",
        "\n",
        "    def __init__(self):\n",
        "        \"\"\"\n",
        "        Initialize your data structure here.\n",
        "        \"\"\"\n",
        "        self.root = {}\n",
        "        \n",
        "\n",
        "    def addWord(self, word: str) -> None:\n",
        "        \"\"\"\n",
        "        Adds a word into the data structure.\n",
        "        \"\"\"\n",
        "        node = self.root\n",
        "        for w in word:\n",
        "            node = node.setdefault(w, {})\n",
        "        node['$'] = True\n",
        "        return None\n",
        "\n",
        "    def search(self, word):\n",
        "        nodes = [self.root]\n",
        "        for char in word:\n",
        "            # nodes = [kid\n",
        "            #          for node in nodes\n",
        "            #          for key, kid in node.items()\n",
        "            #          if char in (key, '.') and kid]\n",
        "            nodes_new = []\n",
        "            for node in nodes:\n",
        "                for key, kid in node.items():\n",
        "                    if char in (key,'.') and key != '$': # kid is a flag for the word node.\n",
        "                        nodes_new.append(kid)\n",
        "            nodes = nodes_new\n",
        "        return any('$' in node for node in nodes)\n",
        "\n",
        "\n",
        "\n",
        "\n",
        "\n",
        "# Your WordDictionary object will be instantiated and called as such:\n",
        "# obj = WordDictionary()\n",
        "# obj.addWord(word)\n",
        "# param_2 = obj.search(word)"
      ],
      "execution_count": null,
      "outputs": []
    },
    {
      "cell_type": "code",
      "metadata": {
        "id": "YPm8bB0kUeR8",
        "colab_type": "code",
        "colab": {}
      },
      "source": [
        "wd = WordDictionary();\n",
        "wd.addWord(\"bad\")\n",
        "wd.addWord(\"dad\")\n",
        "wd.addWord(\"bd\")\n",
        "# search(\"pad\") -> false\n",
        "# search(\"bad\") -> true\n",
        "# search(\".ad\") -> true\n",
        "# search(\"b..\") -> true"
      ],
      "execution_count": null,
      "outputs": []
    },
    {
      "cell_type": "code",
      "metadata": {
        "id": "-kZvooVqbHuD",
        "colab_type": "code",
        "colab": {
          "base_uri": "https://localhost:8080/",
          "height": 102
        },
        "outputId": "4f437c83-19cb-4093-8c52-4a879aefdb91"
      },
      "source": [
        "wd.search('b.d')"
      ],
      "execution_count": null,
      "outputs": [
        {
          "output_type": "stream",
          "text": [
            "b [{'a': {'d': {'$': True}}, 'd': {'$': True}}]\n",
            ". [{'d': {'$': True}}, {'$': True}]\n",
            "d [{'$': True}]\n",
            "[{'$': True}]\n"
          ],
          "name": "stdout"
        },
        {
          "output_type": "execute_result",
          "data": {
            "text/plain": [
              "True"
            ]
          },
          "metadata": {
            "tags": []
          },
          "execution_count": 301
        }
      ]
    },
    {
      "cell_type": "markdown",
      "metadata": {
        "id": "I5JOuk6Vbemr",
        "colab_type": "text"
      },
      "source": [
        "215. Kth Largest Element in an Array\n"
      ]
    },
    {
      "cell_type": "code",
      "metadata": {
        "id": "AWlEMn0Bbd-T",
        "colab_type": "code",
        "colab": {}
      },
      "source": [
        "class Solution:\n",
        "    def findKthLargest(self, nums: List[int], k: int) -> int:\n",
        "        nums.sort(reverse = True)\n",
        "        return nums[k-1]\n",
        "        "
      ],
      "execution_count": null,
      "outputs": []
    },
    {
      "cell_type": "code",
      "metadata": {
        "id": "sjyrFQergW_d",
        "colab_type": "code",
        "colab": {}
      },
      "source": [
        "class Solution:\n",
        "    def findKthLargest(self, nums, k):\n",
        "        \"\"\"\n",
        "        :type nums: List[int]\n",
        "        :type k: int\n",
        "        :rtype: int\n",
        "        \"\"\"\n",
        "        def partition(left, right, pivot_index):\n",
        "            pivot = nums[pivot_index]\n",
        "            # 1. move pivot to end\n",
        "            nums[pivot_index], nums[right] = nums[right], nums[pivot_index]  \n",
        "            \n",
        "            # 2. move all smaller elements to the left\n",
        "            store_index = left\n",
        "            for i in range(left, right):\n",
        "                if nums[i] < pivot:\n",
        "                    nums[store_index], nums[i] = nums[i], nums[store_index]\n",
        "                    store_index += 1\n",
        "\n",
        "            # 3. move pivot to its final place\n",
        "            nums[right], nums[store_index] = nums[store_index], nums[right]  \n",
        "            \n",
        "            return store_index\n",
        "        \n",
        "        def select(left, right, k_smallest):\n",
        "            \"\"\"\n",
        "            Returns the k-th smallest element of list within left..right\n",
        "            \"\"\"\n",
        "            if left == right:       # If the list contains only one element,\n",
        "                return nums[left]   # return that element\n",
        "            \n",
        "            # select a random pivot_index between \n",
        "            pivot_index = random.randint(left, right)     \n",
        "                            \n",
        "            # find the pivot position in a sorted list   \n",
        "            pivot_index = partition(left, right, pivot_index)\n",
        "            \n",
        "            # the pivot is in its final sorted position\n",
        "            if k_smallest == pivot_index:\n",
        "                 return nums[k_smallest]\n",
        "            # go left\n",
        "            elif k_smallest < pivot_index:\n",
        "                return select(left, pivot_index - 1, k_smallest)\n",
        "            # go right\n",
        "            else:\n",
        "                return select(pivot_index + 1, right, k_smallest)\n",
        "\n",
        "        # kth largest is (n - k)th smallest \n",
        "        return select(0, len(nums) - 1, len(nums) - k)"
      ],
      "execution_count": null,
      "outputs": []
    },
    {
      "cell_type": "code",
      "metadata": {
        "id": "rj1kKJpMbhMl",
        "colab_type": "code",
        "colab": {}
      },
      "source": [
        "# Quick select\n",
        "class Solution:\n",
        "    def findKthLargest(self, nums: List[int], k: int) -> int:\n",
        "        target = len(nums) + 1 - k\n",
        "        nums, rank_index = self.partition(nums)\n",
        "        print(f'{nums}, rank: {rank_index}, target: {target}, k: {k}')\n",
        "        if rank_index==target:\n",
        "            return nums[rank_index-1]\n",
        "        if rank_index< target: # go right\n",
        "            return self.findKthLargest(nums[rank_index:], k)\n",
        "        if rank_index >target:\n",
        "            return self.findKthLargest(nums[:rank_index-1], rank_index-target)\n",
        "\n",
        "    def partition(self, nums):\n",
        "        l = 0\n",
        "        r = len(nums)-1\n",
        "        pivot = nums[r]\n",
        "        pivot_rank = 0\n",
        "        left_index = 0\n",
        "        while l<r:\n",
        "            if nums[l]<=pivot:\n",
        "                nums[pivot_rank], nums[l] = nums[l], nums[pivot_rank]\n",
        "                pivot_rank += 1\n",
        "            l += 1\n",
        "        nums[r], nums[pivot_rank] = nums[pivot_rank], nums[r]\n",
        "        return nums, pivot_rank+1\n",
        "            \n",
        "\n",
        "\n",
        "        "
      ],
      "execution_count": null,
      "outputs": []
    },
    {
      "cell_type": "code",
      "metadata": {
        "id": "AyLlIch3gX6l",
        "colab_type": "code",
        "colab": {
          "base_uri": "https://localhost:8080/",
          "height": 102
        },
        "outputId": "cfaeb36f-c242-4f11-82e4-c2206e87e8a6"
      },
      "source": [
        "test = Solution()\n",
        "test.findKthLargest([3,2,3,1,2,4,5,5,6], 4)"
      ],
      "execution_count": null,
      "outputs": [
        {
          "output_type": "stream",
          "text": [
            "[3, 2, 3, 1, 2, 4, 5, 5, 6], rank: 9, target: 6, k: 4\n",
            "[3, 2, 3, 1, 2, 4, 5, 5], rank: 8, target: 6, k: 3\n",
            "[3, 2, 3, 1, 2, 4, 5], rank: 7, target: 6, k: 2\n",
            "[3, 2, 3, 1, 2, 4], rank: 6, target: 6, k: 1\n"
          ],
          "name": "stdout"
        },
        {
          "output_type": "execute_result",
          "data": {
            "text/plain": [
              "4"
            ]
          },
          "metadata": {
            "tags": []
          },
          "execution_count": 112
        }
      ]
    },
    {
      "cell_type": "code",
      "metadata": {
        "id": "gD6CkrBEdt1I",
        "colab_type": "code",
        "colab": {}
      },
      "source": [
        "ttttt"
      ],
      "execution_count": null,
      "outputs": []
    },
    {
      "cell_type": "markdown",
      "metadata": {
        "id": "nGqs2qjKAj2o",
        "colab_type": "text"
      },
      "source": [
        "235. Lowest Common Ancestor of a Binary Search Tree\n"
      ]
    },
    {
      "cell_type": "code",
      "metadata": {
        "id": "_MbELGSNodl2",
        "colab_type": "code",
        "colab": {}
      },
      "source": [
        "# Definition for a binary tree node.\n",
        "# class TreeNode:\n",
        "#     def __init__(self, x):\n",
        "#         self.val = x\n",
        "#         self.left = None\n",
        "#         self.right = None\n",
        "\n",
        "class Solution:\n",
        "    def lowestCommonAncestor(self, root: 'TreeNode', p: 'TreeNode', q: 'TreeNode') -> 'TreeNode':\n",
        "        if p.val >q.val:\n",
        "            l = q\n",
        "            r = p\n",
        "        else:\n",
        "            l = p\n",
        "            r = q\n",
        "        if root.val >r.val:\n",
        "            print(\"search left trees\")\n",
        "            return self.lowestCommonAncestor(root.left,l,r)\n",
        "        elif root.val <l.val:\n",
        "            print(\"search right trees\")\n",
        "            return self.lowestCommonAncestor(root.right,l,r)\n",
        "        else:\n",
        "            return root"
      ],
      "execution_count": null,
      "outputs": []
    },
    {
      "cell_type": "code",
      "metadata": {
        "id": "4-0c7rQrGBzK",
        "colab_type": "code",
        "colab": {
          "base_uri": "https://localhost:8080/",
          "height": 85
        },
        "outputId": "3009fb76-980f-44aa-ccd1-bae13c5dc1d6"
      },
      "source": [
        "test = Solution() # This solution go backward post order!\n",
        "test.lowestCommonAncestor(bst,TreeNode(2),TreeNode(4))"
      ],
      "execution_count": null,
      "outputs": [
        {
          "output_type": "stream",
          "text": [
            "4 2\n",
            "search left trees\n",
            "4 2\n"
          ],
          "name": "stdout"
        },
        {
          "output_type": "execute_result",
          "data": {
            "text/plain": [
              "TreeNode(2)"
            ]
          },
          "metadata": {
            "tags": []
          },
          "execution_count": 124
        }
      ]
    },
    {
      "cell_type": "markdown",
      "metadata": {
        "id": "SegniJ_EMJlj",
        "colab_type": "text"
      },
      "source": [
        "236. Lowest Common Ancestor of a Binary Tree\n"
      ]
    },
    {
      "cell_type": "code",
      "metadata": {
        "id": "j4OXhbiAG2pm",
        "colab_type": "code",
        "colab": {}
      },
      "source": [
        "# Definition for a binary tree node.\n",
        "# class TreeNode:\n",
        "#     def __init__(self, x):\n",
        "#         self.val = x\n",
        "#         self.left = None\n",
        "#         self.right = None\n",
        "\n",
        "class Solution:\n",
        "    def __init__(self):\n",
        "        self.p_path = ''\n",
        "        self.q_path = ''\n",
        "    def lowestCommonAncestor(self, root: 'TreeNode', p: 'TreeNode', q: 'TreeNode') -> 'TreeNode':\n",
        "        self.dfs(root,p,q)\n",
        "        p_lst = self.p_path.split(',')\n",
        "        q_lst = self.q_path.split(',')\n",
        "        while p_lst and q_lst:\n",
        "            print(f'p: {p_lst} q:{q_lst}')\n",
        "            if p_lst[0]!=q_lst[0]:\n",
        "                break\n",
        "            else:\n",
        "                p_lst.pop(0)\n",
        "                ans = q_lst.pop(0)\n",
        "        return TreeNode(int(ans))\n",
        "\n",
        "    def dfs(self, root, p, q, path = ''):\n",
        "        if not root: return\n",
        "        path += str(root.val)\n",
        "        if root.val == p.val:\n",
        "            self.p_path = path\n",
        "        if root.val == q.val:\n",
        "            self.q_path = path\n",
        "            # return\n",
        "        # print(root.val,path)\n",
        "        path += ','\n",
        "        self.dfs(root.left, p, q, path)\n",
        "        self.dfs(root.right, p, q, path)\n",
        "    \n",
        "        "
      ],
      "execution_count": null,
      "outputs": []
    },
    {
      "cell_type": "code",
      "metadata": {
        "id": "8x-2sCxVYwBQ",
        "colab_type": "code",
        "colab": {}
      },
      "source": [
        "# Definition for a binary tree node.\n",
        "# class TreeNode:\n",
        "#     def __init__(self, x):\n",
        "#         self.val = x\n",
        "#         self.left = None\n",
        "#         self.right = None\n",
        "\n",
        "class Solution:\n",
        "    def lowestCommonAncestor(self, root: 'TreeNode', p: 'TreeNode', q: 'TreeNode') -> 'TreeNode':\n",
        "\n",
        "        def helper(root):\n",
        "            if not root:\n",
        "                return None\n",
        "            print(root,p)\n",
        "            left = helper(root.left)\n",
        "            right = helper(root.right)\n",
        "            if root.val == p.val or root.val == q.val:\n",
        "                    print(\"here\")\n",
        "                    return root\n",
        "            if left and right:\n",
        "                print(f'Found {root.val}')\n",
        "                return root\n",
        "            return root\n",
        "        return helper(root)\n",
        "\n",
        "\n",
        "\n",
        "\n",
        "        "
      ],
      "execution_count": null,
      "outputs": []
    },
    {
      "cell_type": "code",
      "metadata": {
        "id": "TSJVgqe8NKso",
        "colab_type": "code",
        "colab": {
          "base_uri": "https://localhost:8080/",
          "height": 272
        },
        "outputId": "32feaa4a-e49b-4478-a96c-796845e05553"
      },
      "source": [
        "test = Solution() \n",
        "test.lowestCommonAncestor(t3,TreeNode(2),TreeNode(6))"
      ],
      "execution_count": null,
      "outputs": [
        {
          "output_type": "stream",
          "text": [
            "TreeNode(3) TreeNode(2)\n",
            "TreeNode(5) TreeNode(2)\n",
            "TreeNode(6) TreeNode(2)\n",
            "here\n",
            "TreeNode(2) TreeNode(2)\n",
            "TreeNode(7) TreeNode(2)\n",
            "TreeNode(4) TreeNode(2)\n",
            "here\n",
            "Found 5\n",
            "TreeNode(1) TreeNode(2)\n",
            "TreeNode(0) TreeNode(2)\n",
            "TreeNode(8) TreeNode(2)\n",
            "Found 1\n",
            "Found 3\n"
          ],
          "name": "stdout"
        },
        {
          "output_type": "execute_result",
          "data": {
            "text/plain": [
              "TreeNode(3)"
            ]
          },
          "metadata": {
            "tags": []
          },
          "execution_count": 89
        }
      ]
    },
    {
      "cell_type": "markdown",
      "metadata": {
        "id": "fqJMFGz-TG85",
        "colab_type": "text"
      },
      "source": [
        "253. Meeting Rooms II\n"
      ]
    },
    {
      "cell_type": "code",
      "metadata": {
        "id": "vGWL2Xz0TIQT",
        "colab_type": "code",
        "colab": {}
      },
      "source": [
        "class Solution:\n",
        "    def minMeetingRooms(self, intervals: List[List[int]]) -> int:\n",
        "        expand_list = [(index,val) for interval in intervals for index,val in enumerate(interval) ]\n",
        "        expand_list.sort(key = lambda x: (x[1],-x[0]))\n",
        "        rooms = 0\n",
        "        max_rooms = 0\n",
        "        for t in expand_list:\n",
        "            rooms += 2*(t[0]==0)-1\n",
        "            max_rooms = rooms if max_rooms<rooms else max_rooms\n",
        "        return(max_rooms)"
      ],
      "execution_count": null,
      "outputs": []
    },
    {
      "cell_type": "code",
      "metadata": {
        "id": "13srQDBmTGJk",
        "colab_type": "code",
        "colab": {
          "base_uri": "https://localhost:8080/",
          "height": 34
        },
        "outputId": "1241884e-09b4-47fc-e7c6-9cce8d6f1e11"
      },
      "source": [
        "intervals = [[1,13],[12,15]]\n",
        "test = Solution() \n",
        "test.minMeetingRooms(intervals = intervals)"
      ],
      "execution_count": null,
      "outputs": [
        {
          "output_type": "execute_result",
          "data": {
            "text/plain": [
              "2"
            ]
          },
          "metadata": {
            "tags": []
          },
          "execution_count": 24
        }
      ]
    },
    {
      "cell_type": "markdown",
      "metadata": {
        "id": "KtIqwoqHWnoJ",
        "colab_type": "text"
      },
      "source": [
        "257. Binary Tree Paths\n"
      ]
    },
    {
      "cell_type": "code",
      "metadata": {
        "id": "ovNc1VvGWoZP",
        "colab_type": "code",
        "colab": {}
      },
      "source": [
        "# Definition for a binary tree node.\n",
        "# class TreeNode:\n",
        "#     def __init__(self, val=0, left=None, right=None):\n",
        "#         self.val = val\n",
        "#         self.left = left\n",
        "#         self.right = right\n",
        "class Solution:\n",
        "    def binaryTreePaths(self, root):\n",
        "        \"\"\"\n",
        "        :type root: TreeNode\n",
        "        :rtype: List[str]\n",
        "        \"\"\"\n",
        "        def construct_paths(root, path):\n",
        "            if not root: return\n",
        "            path += str(root.val)\n",
        "            if not root.left and not root.right:  # if reach a leaf\n",
        "                paths.append(path)  # update paths  \n",
        "            else:\n",
        "                path += '->'  # extend the current path\n",
        "                construct_paths(root.left, path)\n",
        "                construct_paths(root.right, path)\n",
        "\n",
        "        paths = []\n",
        "        construct_paths(root, '')\n",
        "        return paths"
      ],
      "execution_count": null,
      "outputs": []
    },
    {
      "cell_type": "code",
      "metadata": {
        "id": "cisAPI1KW2Qe",
        "colab_type": "code",
        "colab": {
          "base_uri": "https://localhost:8080/",
          "height": 34
        },
        "outputId": "bb7b53a7-a158-49ad-f3c1-bddb9e8c2c4c"
      },
      "source": [
        "test = Solution() # This solution go backward post order!\n",
        "test.binaryTreePaths(t3)"
      ],
      "execution_count": null,
      "outputs": [
        {
          "output_type": "execute_result",
          "data": {
            "text/plain": [
              "['3->5->6', '3->5->2->7', '3->5->2->4', '3->1->0', '3->1->8']"
            ]
          },
          "metadata": {
            "tags": []
          },
          "execution_count": 41
        }
      ]
    },
    {
      "cell_type": "markdown",
      "metadata": {
        "id": "vGSzgvp6lWYm",
        "colab_type": "text"
      },
      "source": [
        "273. Integer to English Words"
      ]
    },
    {
      "cell_type": "code",
      "metadata": {
        "id": "9Jj5LFZO8J0-",
        "colab_type": "code",
        "colab": {}
      },
      "source": [
        "class Solution:\n",
        "    def numberToWords(self, num):\n",
        "        to19 = 'One Two Three Four Five Six Seven Eight Nine Ten Eleven Twelve ' \\\n",
        "            'Thirteen Fourteen Fifteen Sixteen Seventeen Eighteen Nineteen'.split()\n",
        "        tens = 'Twenty Thirty Forty Fifty Sixty Seventy Eighty Ninety'.split()\n",
        "        def words(n):\n",
        "            if n < 20:\n",
        "                return to19[n-1:n]\n",
        "            if n < 100:\n",
        "                return [tens[n//10-2]] + words(n%10)\n",
        "            if n < 1000:\n",
        "                return [to19[n//100-1]] + ['Hundred'] + words(n%100)\n",
        "            for p, w in enumerate(('Thousand', 'Million', 'Billion'), 1):\n",
        "                if n < 1000**(p+1):\n",
        "                    return words(n//1000**p) + [w] + words(n%1000**p)\n",
        "        return ' '.join(words(num)) or 'Zero'"
      ],
      "execution_count": null,
      "outputs": []
    },
    {
      "cell_type": "code",
      "metadata": {
        "id": "cUsvZyculV4n",
        "colab_type": "code",
        "colab": {}
      },
      "source": [
        "class Solution:\n",
        "    def numberToWords(self, num):\n",
        "        to19 = '_ One Two Three Four Five Six Seven Eight Nine Ten Eleven Twelve ' \\\n",
        "            'Thirteen Fourteen Fifteen Sixteen Seventeen Eighteen Nineteen'.split()\n",
        "        tens = '_ _ Twenty Thirty Forty Fifty Sixty Seventy Eighty Ninety'.split()\n",
        "        seperator = [\"Thousand\", \"Million\", \"Billion\", \"Trillion\"]\n",
        "        seperator_set = set(seperator)\n",
        "        def words(n):\n",
        "            # termination cases\n",
        "            if n < 20:\n",
        "                return to19[n:n+1]\n",
        "            if n < 100 and n>20:\n",
        "                return [tens[n//10]] + words(n%10)\n",
        "            if n < 1000 and n>100:\n",
        "                return [to19[n//100]] + ['Hundred'] + words(n%100)\n",
        "            # for p, w in enumerate(('Thousand', 'Million', 'Billion'), 1):\n",
        "            #     if n < 1000**(p+1):\n",
        "            return words(n//1000) + [','] + words(n%1000)\n",
        "        results = words(num)\n",
        "        # deal with seperator\n",
        "        count = 0\n",
        "        for i in range(len(results)-1,-1,-1):\n",
        "            if i != len(results)-1 and results[i+1] in seperator_set and results[i] == ',':\n",
        "                results.pop(i+1)\n",
        "            if results[i] ==',':\n",
        "                results[i] = seperator[count]\n",
        "                count +=1\n",
        "\n",
        "        return ' '.join(results) or 'Zero'"
      ],
      "execution_count": null,
      "outputs": []
    },
    {
      "cell_type": "code",
      "metadata": {
        "id": "veBe6rUP5Cgh",
        "colab_type": "code",
        "colab": {
          "base_uri": "https://localhost:8080/",
          "height": 35
        },
        "outputId": "736c0f56-92a6-461f-cb53-6a1d22b1108b"
      },
      "source": [
        "test = Solution()\n",
        "test.numberToWords(123123)"
      ],
      "execution_count": null,
      "outputs": [
        {
          "output_type": "execute_result",
          "data": {
            "text/plain": [
              "'One Hundred Twenty Three Thousand One Hundred Twenty Three'"
            ]
          },
          "metadata": {
            "tags": []
          },
          "execution_count": 20
        }
      ]
    },
    {
      "cell_type": "markdown",
      "metadata": {
        "id": "1qmdOqj5GSGE",
        "colab_type": "text"
      },
      "source": [
        "277. Find the Celebrity\n"
      ]
    },
    {
      "cell_type": "code",
      "metadata": {
        "id": "0843mTdmGTVl",
        "colab_type": "code",
        "colab": {}
      },
      "source": [
        "# The knows API is already defined for you.\n",
        "# return a bool, whether a knows b\n",
        "# def knows(a: int, b: int) -> bool:\n",
        "\n",
        "class Solution:\n",
        "    def findCelebrity(self, n: int) -> int:\n",
        "        # target is i\n",
        "        candidates = [i for i in range(n)]\n",
        "        for i in range(n):\n",
        "            for j in range(n):\n",
        "                if knows(i,j):\n",
        "                    # i is not \n",
        "                    candidates[i]\n",
        "                "
      ],
      "execution_count": null,
      "outputs": []
    },
    {
      "cell_type": "code",
      "metadata": {
        "id": "p-CgsFWtGSY3",
        "colab_type": "code",
        "colab": {}
      },
      "source": [
        "c = set([1,2,3,4]); d = set([2,4])\n",
        "c.discard(d)"
      ],
      "execution_count": null,
      "outputs": []
    },
    {
      "cell_type": "code",
      "metadata": {
        "id": "zzc1kb5xOPJO",
        "colab_type": "code",
        "colab": {
          "base_uri": "https://localhost:8080/",
          "height": 35
        },
        "outputId": "3a3fb63d-b468-428a-ad6e-c0a39e4dba6d"
      },
      "source": [
        "list(c)"
      ],
      "execution_count": null,
      "outputs": [
        {
          "output_type": "execute_result",
          "data": {
            "text/plain": [
              "[1, 3]"
            ]
          },
          "metadata": {
            "tags": []
          },
          "execution_count": 14
        }
      ]
    },
    {
      "cell_type": "markdown",
      "metadata": {
        "id": "5eLwvgiyuCWS",
        "colab_type": "text"
      },
      "source": [
        "278. First Bad Version\n"
      ]
    },
    {
      "cell_type": "code",
      "metadata": {
        "id": "D_5bTdLluDhJ",
        "colab_type": "code",
        "colab": {}
      },
      "source": [
        "class Solution:\n",
        "    def firstBadVersion(self, n):\n",
        "        \"\"\"\n",
        "        :type n: int\n",
        "        :rtype: int\n",
        "        \"\"\"\n",
        "        l = 1 \n",
        "        r = n\n",
        "        while l<r:\n",
        "            mid = int(l + (r-l)/2)\n",
        "            if isBadVersion(mid):\n",
        "                r = mid\n",
        "            else:\n",
        "                l = mid +1 # modification since we don't return mid, but the first non-bad version\n",
        "        return l # return first non-bad version"
      ],
      "execution_count": null,
      "outputs": []
    },
    {
      "cell_type": "markdown",
      "metadata": {
        "id": "dWsRhD8YvbX0",
        "colab_type": "text"
      },
      "source": [
        "283. Move Zeroes\n"
      ]
    },
    {
      "cell_type": "code",
      "metadata": {
        "id": "U8KFTfEzvb7M",
        "colab_type": "code",
        "colab": {}
      },
      "source": [
        "class Solution:\n",
        "    def moveZeroes(self, nums: List[int]) -> None:\n",
        "        \"\"\"\n",
        "        Do not return anything, modify nums in-place instead.\n",
        "        \"\"\"\n",
        "        i=0\n",
        "        while i <len(nums):\n",
        "            if nums[i] ==0:\n",
        "                break\n",
        "            i+=1\n",
        "        j = i\n",
        "        while i< len(nums)-1:\n",
        "            if nums[i+1] == 0:\n",
        "                i +=1\n",
        "                continue\n",
        "            else:\n",
        "                nums[j], nums[i+1] = nums[i+1], nums[j]\n",
        "                j = j+1\n",
        "                i +=1\n",
        "        return nums\n",
        "\n",
        "                \n",
        "            \n",
        "\n",
        "        "
      ],
      "execution_count": null,
      "outputs": []
    },
    {
      "cell_type": "code",
      "metadata": {
        "id": "o1c0rMpDvb-E",
        "colab_type": "code",
        "colab": {
          "base_uri": "https://localhost:8080/",
          "height": 34
        },
        "outputId": "30b47ed3-60fe-48e4-aa74-a532189181f5"
      },
      "source": [
        "test = Solution()\n",
        "nums = [0,1,0,3,12]\n",
        "test.moveZeroes(nums)\n",
        "\n"
      ],
      "execution_count": null,
      "outputs": [
        {
          "output_type": "execute_result",
          "data": {
            "text/plain": [
              "[1, 3, 12, 0, 0]"
            ]
          },
          "metadata": {
            "tags": []
          },
          "execution_count": 178
        }
      ]
    },
    {
      "cell_type": "markdown",
      "metadata": {
        "id": "uGYnJ0f-mLfx",
        "colab_type": "text"
      },
      "source": [
        "297. Serialize and Deserialize Binary Tree\n"
      ]
    },
    {
      "cell_type": "code",
      "metadata": {
        "id": "48KGMOGPmOW3",
        "colab_type": "code",
        "colab": {}
      },
      "source": [
        "# Definition for a binary tree node.\n",
        "# class TreeNode(object):\n",
        "#     def __init__(self, x):\n",
        "#         self.val = x\n",
        "#         self.left = None\n",
        "#         self.right = None\n",
        "\n",
        "class Codec:\n",
        "\n",
        "    def serialize(self, root):\n",
        "        \"\"\"Encodes a tree to a single string.\n",
        "        \n",
        "        :type root: TreeNode\n",
        "        :rtype: str\n",
        "        \"\"\"\n",
        "        def helper(root):\n",
        "            nonlocal path\n",
        "            if not root:\n",
        "                path += \"None,\"\n",
        "                return path\n",
        "            path = path + f\"{root.val},\"\n",
        "            helper(root.left)\n",
        "            helper(root.right)\n",
        "\n",
        "        path = \"\"\n",
        "        helper(root)\n",
        "        return path[:-1].split(',')\n",
        "\n",
        "            \n",
        "\n",
        "        \n",
        "\n",
        "    def deserialize(self, data):\n",
        "        \"\"\"Decodes your encoded data to tree.\n",
        "        \n",
        "        :type data: str\n",
        "        :rtype: TreeNode\n",
        "        \"\"\"\n",
        "        def helper(data):\n",
        "            if data==[]: # termination\n",
        "                return root\n",
        "            current = data.pop(0)\n",
        "            if current == \"None\": # reach leaf\n",
        "                return None\n",
        "            root = TreeNode(int(current))\n",
        "            root.left = helper(data)\n",
        "            root.right = helper(data)\n",
        "            return root\n",
        "        root = helper(data)\n",
        "        return root\n",
        "        \n",
        "        \n",
        "\n",
        "# Your Codec object will be instantiated and called as such:\n",
        "# codec = Codec()\n",
        "# codec.deserialize(codec.serialize(root))"
      ],
      "execution_count": null,
      "outputs": []
    },
    {
      "cell_type": "code",
      "metadata": {
        "id": "I_h88wBaJ2yj",
        "colab_type": "code",
        "colab": {}
      },
      "source": [
        "# Definition for a binary tree node.\n",
        "# class TreeNode(object):\n",
        "#     def __init__(self, x):\n",
        "#         self.val = x\n",
        "#         self.left = None\n",
        "#         self.right = None\n",
        "\n",
        "# tre post order\n",
        "class Codec:\n",
        "\n",
        "    def serialize(self, root):\n",
        "        \"\"\"Encodes a tree to a single string.\n",
        "        \n",
        "        :type root: TreeNode\n",
        "        :rtype: str\n",
        "        \"\"\"\n",
        "        def helper(root):\n",
        "            nonlocal path\n",
        "            if not root:\n",
        "                path += \"None,\"\n",
        "                return path\n",
        "            helper(root.left)\n",
        "            helper(root.right)\n",
        "            path = path + f\"{root.val},\"\n",
        "        path = \"\"\n",
        "        helper(root)\n",
        "        return path[:-1].split(',')\n",
        "\n",
        "            \n",
        "\n",
        "        \n",
        "\n",
        "    def deserialize(self, data):\n",
        "        \"\"\"Decodes your encoded data to tree.\n",
        "        \n",
        "        :type data: str\n",
        "        :rtype: TreeNode\n",
        "        \"\"\"\n",
        "        def helper(data):\n",
        "            if data==[]: # termination\n",
        "                return root\n",
        "            current = data.pop()\n",
        "            if current == \"None\": # reach leaf\n",
        "                return None\n",
        "            root = TreeNode(int(current))\n",
        "            root.right = helper(data)\n",
        "            root.left = helper(data)\n",
        "            return root\n",
        "        root = helper(data)\n",
        "        return root\n",
        "        \n",
        "        \n",
        "\n",
        "# Your Codec object will be instantiated and called as such:\n",
        "# codec = Codec()\n",
        "# codec.deserialize(codec.serialize(root))"
      ],
      "execution_count": null,
      "outputs": []
    },
    {
      "cell_type": "code",
      "metadata": {
        "id": "rwRfwhDnmP1y",
        "colab_type": "code",
        "colab": {
          "base_uri": "https://localhost:8080/",
          "height": 35
        },
        "outputId": "4325d2b3-10db-4d97-e6c6-746170dcf911"
      },
      "source": [
        "test = Codec()\n",
        "d = test.serialize(t)\n",
        "d"
      ],
      "execution_count": null,
      "outputs": [
        {
          "output_type": "execute_result",
          "data": {
            "text/plain": [
              "['None', 'None', 'None', '5', 'None', '4', '2', 'None', 'None', '3', '1']"
            ]
          },
          "metadata": {
            "tags": []
          },
          "execution_count": 33
        }
      ]
    },
    {
      "cell_type": "code",
      "metadata": {
        "id": "X_pl5sYvpJGm",
        "colab_type": "code",
        "colab": {}
      },
      "source": [
        "r = test.deserialize(d)"
      ],
      "execution_count": null,
      "outputs": []
    },
    {
      "cell_type": "code",
      "metadata": {
        "id": "9uKyo7X-pv5R",
        "colab_type": "code",
        "colab": {
          "base_uri": "https://localhost:8080/",
          "height": 35
        },
        "outputId": "e49917c6-2a50-4c5c-f924-4e4a6de18f0c"
      },
      "source": [
        "codec = Codec()\n",
        "codec.serialize(codec.deserialize(codec.serialize(t)))"
      ],
      "execution_count": null,
      "outputs": [
        {
          "output_type": "execute_result",
          "data": {
            "text/plain": [
              "['None', 'None', 'None', '5', 'None', '4', '2', 'None', 'None', '3', '1']"
            ]
          },
          "metadata": {
            "tags": []
          },
          "execution_count": 35
        }
      ]
    },
    {
      "cell_type": "markdown",
      "metadata": {
        "id": "aDic1id6Nv7O",
        "colab_type": "text"
      },
      "source": [
        "301. Remove Invalid Parentheses\n"
      ]
    },
    {
      "cell_type": "code",
      "metadata": {
        "id": "pzb8rUqdRGcR",
        "colab_type": "code",
        "colab": {}
      },
      "source": [
        "# First design is_valid function\n",
        "# check how many '(' and ')' to remove\n",
        "# DFS remove ) first and then (\n",
        "\n",
        "class Solution:\n",
        "    def __init__(self):\n",
        "        self.results = []\n",
        "\n",
        "    def isValid(self, s):\n",
        "        count = 0\n",
        "        for st in s:\n",
        "            count += (st == '(')\n",
        "            count -= (st == ')')\n",
        "            if count<0:\n",
        "                return False\n",
        "        return True if count ==0 else False\n",
        "\n",
        "    def calInvalid(self, s):\n",
        "        l = 0\n",
        "        r = 0\n",
        "        for st in s:\n",
        "            l += (st == '(')\n",
        "            if l ==0:\n",
        "                r += (st==')')\n",
        "            else:\n",
        "                l -= (st==')')\n",
        "        return l, r\n",
        "\n",
        "    def dfs(self, s, start, l, r):\n",
        "        print(s)\n",
        "        # termination\n",
        "        if l ==0 and r ==0:\n",
        "            if self.isValid(s):\n",
        "                self.results.append(s)\n",
        "            return\n",
        "        # permutation all possible deleting combination\n",
        "        for i in range(start,len(s),1):\n",
        "            # consecutive parathesis only delete one\n",
        "            if i !=start and s[i-1] == s[i]:\n",
        "                continue\n",
        "            # dfs\n",
        "            if s[i] == '(' and l>0:\n",
        "                # delete i position \"(\"\n",
        "                self.dfs(s[:i]+s[i+1:], i, l-1, r)\n",
        "            if s[i] == ')' and r>0:\n",
        "                # delete i position \")\"\n",
        "                self.dfs(s[:i]+s[i+1:], i, l, r-1)\n",
        "\n",
        "\n",
        "    def removeInvalidParentheses(self, s):\n",
        "        l, r = self.calInvalid(s)\n",
        "        self.dfs(s, 0, l, r)\n",
        "        \n",
        "        return self.results\n",
        "\n",
        "\n",
        "\n"
      ],
      "execution_count": null,
      "outputs": []
    },
    {
      "cell_type": "code",
      "metadata": {
        "id": "eWmKEYuGXwZQ",
        "colab_type": "code",
        "colab": {
          "base_uri": "https://localhost:8080/",
          "height": 108
        },
        "outputId": "9ed3cd25-0f50-43d5-a882-f4e42e1af328"
      },
      "source": [
        "test = Solution()\n",
        "test.removeInvalidParentheses(\"()())()\")"
      ],
      "execution_count": null,
      "outputs": [
        {
          "output_type": "stream",
          "text": [
            "()())()\n",
            "(())()\n",
            "()()()\n",
            "()())(\n"
          ],
          "name": "stdout"
        },
        {
          "output_type": "execute_result",
          "data": {
            "text/plain": [
              "['(())()', '()()()']"
            ]
          },
          "metadata": {
            "tags": []
          },
          "execution_count": 30
        }
      ]
    },
    {
      "cell_type": "markdown",
      "metadata": {
        "id": "LcIXlm-I-j5h",
        "colab_type": "text"
      },
      "source": [
        "314. Binary Tree Vertical Order Traversal\n"
      ]
    },
    {
      "cell_type": "code",
      "metadata": {
        "id": "SDUkp2YW-k6h",
        "colab_type": "code",
        "colab": {}
      },
      "source": [
        "# Definition for a binary tree node.\n",
        "# class TreeNode:\n",
        "#     def __init__(self, val=0, left=None, right=None):\n",
        "#         self.val = val\n",
        "#         self.left = left\n",
        "#         self.right = right\n",
        "class Solution:\n",
        "    def verticalOrder(self, root: TreeNode) -> List[List[int]]:\n",
        "        #BFS to keep the vertical orders, so we only need to track left->right orders\n",
        "        if not root:\n",
        "            return []\n",
        "        q = [(root,0)]\n",
        "        results = {}\n",
        "        while q:\n",
        "            q_len = len(q)\n",
        "            # current_level = []\n",
        "            for i in range(q_len):\n",
        "                node_tuple = q.pop(0)\n",
        "                node = node_tuple[0]\n",
        "                node_col = node_tuple[1]\n",
        "                if results.get(node_col):\n",
        "                    results[node_col].append(node.val)\n",
        "                else:\n",
        "                    results[node_col] = [node.val]\n",
        "                # current_level.append(node_tuple)\n",
        "                if node.left:\n",
        "                    q.append((node.left,node_col-1))\n",
        "                if node.right:\n",
        "                    q.append((node.right,node_col+1))\n",
        "        return [ v for k,v in sorted(results.items())]\n",
        "            \n",
        "        "
      ],
      "execution_count": null,
      "outputs": []
    },
    {
      "cell_type": "code",
      "metadata": {
        "id": "5JaKBERr-mem",
        "colab_type": "code",
        "colab": {
          "base_uri": "https://localhost:8080/",
          "height": 51
        },
        "outputId": "dd9941f7-e453-4001-a397-903d6ceba67a"
      },
      "source": [
        "test = Solution()\n",
        "test.verticalOrder(t3)"
      ],
      "execution_count": null,
      "outputs": [
        {
          "output_type": "stream",
          "text": [
            "{0: [3, 2, 0], -1: [5, 7], 1: [1, 4], -2: [6], 2: [8]}\n"
          ],
          "name": "stdout"
        },
        {
          "output_type": "execute_result",
          "data": {
            "text/plain": [
              "[[6], [5, 7], [3, 2, 0], [1, 4], [8]]"
            ]
          },
          "metadata": {
            "tags": []
          },
          "execution_count": 26
        }
      ]
    },
    {
      "cell_type": "markdown",
      "metadata": {
        "id": "l7cyNR49_fvD",
        "colab_type": "text"
      },
      "source": [
        "322. Coin Change\n"
      ]
    },
    {
      "cell_type": "code",
      "metadata": {
        "id": "6NwP6NJmOK6A",
        "colab_type": "code",
        "colab": {}
      },
      "source": [
        "# class Solution(object):\n",
        "#     def coinChange(self, coins, amount):\n",
        "#         MAX = float('inf')\n",
        "#         dp = [0] + [MAX] * amount\n",
        "\n",
        "#         for i in range(1, amount + 1):\n",
        "#             dp[i] = min([dp[i - c] if i - c >= 0 else MAX for c in coins]) + 1\n",
        "\n",
        "#         return [dp[amount], -1][dp[amount] == MAX]\n",
        "\n",
        "\n",
        "class Solution():\n",
        "    def coinChange(self, coins, amount):\n",
        "        if amount==0: return 0\n",
        "        max_value = float(\"inf\")\n",
        "        dp = [0] + [max_value] * amount\n",
        "        for i in range(1,amount + 1):\n",
        "            min_value = max_value\n",
        "            for coin in coins:\n",
        "                if i-coin >=0:\n",
        "                    min_value = min(dp[i-coin], min_value)\n",
        "            dp[i] = min_value + 1\n",
        "        return dp[amount] if dp[amount] != max_value else -1\n",
        "\n",
        "\n"
      ],
      "execution_count": null,
      "outputs": []
    },
    {
      "cell_type": "code",
      "metadata": {
        "id": "Tp2rT3Gx_giu",
        "colab_type": "code",
        "colab": {}
      },
      "source": [
        "class Solution:\n",
        "    def coinChange(self, coins: List[int], amount: int) -> int:\n",
        "        if amount ==0 : return 0\n",
        "        dp = {}\n",
        "        def helper(coins, amount):\n",
        "            nonlocal dp\n",
        "            # termination\n",
        "            if amount==0:\n",
        "                return 0\n",
        "            if amount <0:\n",
        "                return -1\n",
        "            if amount in dp:\n",
        "                return dp[amount]\n",
        "            # At each step, return the min amount\n",
        "            min_amount = float(\"inf\")\n",
        "            for coin in coins:\n",
        "                result = helper(coins, amount - coin)\n",
        "                if result >=0 and result < min_amount:\n",
        "                    min_amount = result +1\n",
        "            dp[amount] = min_amount\n",
        "            return min_amount\n",
        "        helper(coins, amount)\n",
        "        return dp[amount] if dp[amount] != float(\"inf\") else -1"
      ],
      "execution_count": null,
      "outputs": []
    },
    {
      "cell_type": "code",
      "metadata": {
        "id": "f6MixWul_gtc",
        "colab_type": "code",
        "colab": {
          "base_uri": "https://localhost:8080/",
          "height": 35
        },
        "outputId": "a467f143-d976-4979-9a3a-6dc076920b02"
      },
      "source": [
        "test = Solution()\n",
        "coins = [10,7]; amount = 27\n",
        "# [186,419,83,408]\n",
        "# 6249\n",
        "test.coinChange(coins, amount)"
      ],
      "execution_count": null,
      "outputs": [
        {
          "output_type": "execute_result",
          "data": {
            "text/plain": [
              "3"
            ]
          },
          "metadata": {
            "tags": []
          },
          "execution_count": 121
        }
      ]
    },
    {
      "cell_type": "code",
      "metadata": {
        "id": "j5nW6W0cE7la",
        "colab_type": "code",
        "colab": {}
      },
      "source": [
        ""
      ],
      "execution_count": null,
      "outputs": []
    },
    {
      "cell_type": "markdown",
      "metadata": {
        "id": "3GrZFY5BV8Ui",
        "colab_type": "text"
      },
      "source": [
        "325. Maximum Size Subarray Sum Equals k\n"
      ]
    },
    {
      "cell_type": "code",
      "metadata": {
        "id": "Porr1-4XV9DM",
        "colab_type": "code",
        "colab": {}
      },
      "source": [
        "class Solution:\n",
        "    def maxSubArrayLen(self, nums: List[int], k: int) -> int:\n",
        "        if nums == []: return 0\n",
        "        nums.insert(0,0)\n",
        "        cum_sum = 0\n",
        "        max_length = 0\n",
        "        stored = {}\n",
        "        for i, num in enumerate(nums):\n",
        "            cum_sum = cum_sum + num\n",
        "            if cum_sum not in stored:\n",
        "                stored[cum_sum] = i\n",
        "            # found subarray\n",
        "            if (cum_sum - k) in stored:\n",
        "                max_length = max(max_length, i - stored.get(cum_sum - k))\n",
        "        return max_length"
      ],
      "execution_count": null,
      "outputs": []
    },
    {
      "cell_type": "code",
      "metadata": {
        "id": "7IHVX8_hV9GW",
        "colab_type": "code",
        "colab": {
          "base_uri": "https://localhost:8080/",
          "height": 34
        },
        "outputId": "7fb8b826-e072-4775-8d04-0a1287b387b5"
      },
      "source": [
        "nums = [1,-1,5,-2,3]\n",
        "k = 3\n",
        "test = Solution()\n",
        "test.maxSubArrayLen(nums, k)"
      ],
      "execution_count": null,
      "outputs": [
        {
          "output_type": "execute_result",
          "data": {
            "text/plain": [
              "4"
            ]
          },
          "metadata": {
            "tags": []
          },
          "execution_count": 17
        }
      ]
    },
    {
      "cell_type": "markdown",
      "metadata": {
        "id": "ghVXacDzHTt8",
        "colab_type": "text"
      },
      "source": [
        "340. Longest Substring with At Most K Distinct Characters\n"
      ]
    },
    {
      "cell_type": "code",
      "metadata": {
        "id": "W5AvmcEgHUsB",
        "colab_type": "code",
        "colab": {}
      },
      "source": [
        "from collections import defaultdict\n",
        "class Solution:\n",
        "    def lengthOfLongestSubstringKDistinct(self, s: 'str', k: 'int') -> 'int':\n",
        "        n = len(s) \n",
        "        if k == 0 or n == 0:\n",
        "            return 0\n",
        "        \n",
        "        # sliding window left and right pointers\n",
        "        left, right = 0, 0\n",
        "        # hashmap character -> its rightmost position \n",
        "        # in the sliding window\n",
        "        hashmap = dict()\n",
        "\n",
        "        max_len = 1\n",
        "        \n",
        "        while right < n:\n",
        "            # add new character and move right pointer\n",
        "            hashmap[s[right]] = right\n",
        "            right += 1\n",
        "            # slidewindow contains 3 characters\n",
        "            if len(hashmap) == k + 1:\n",
        "                print(hashmap,left,right)\n",
        "                # delete the leftmost character !!  kind of like a backward thinking, leftmost index of all rightmost indexes..\n",
        "                del_idx = min(hashmap.values())\n",
        "                del hashmap[s[del_idx]]\n",
        "                # move left pointer of the slidewindow\n",
        "                left = del_idx + 1\n",
        "\n",
        "            max_len = max(max_len, right - left)\n",
        "\n",
        "        return max_len"
      ],
      "execution_count": null,
      "outputs": []
    },
    {
      "cell_type": "code",
      "metadata": {
        "id": "rcfZeYXJHUu8",
        "colab_type": "code",
        "colab": {
          "base_uri": "https://localhost:8080/",
          "height": 72
        },
        "outputId": "658595e7-3a0b-4d84-8279-d172020cb67f"
      },
      "source": [
        "s = \"eceba\";k = 2\n",
        "test = Solution()\n",
        "test.lengthOfLongestSubstringKDistinct(s,k)"
      ],
      "execution_count": null,
      "outputs": [
        {
          "output_type": "stream",
          "text": [
            "{'e': 2, 'c': 1, 'b': 3} 0 4\n",
            "{'e': 2, 'b': 3, 'a': 4} 2 5\n"
          ],
          "name": "stdout"
        },
        {
          "output_type": "execute_result",
          "data": {
            "text/plain": [
              "3"
            ]
          },
          "metadata": {
            "tags": []
          },
          "execution_count": 30
        }
      ]
    },
    {
      "cell_type": "markdown",
      "metadata": {
        "id": "a6o5rPszRGMh",
        "colab_type": "text"
      },
      "source": [
        "415. Add Strings\n"
      ]
    },
    {
      "cell_type": "code",
      "metadata": {
        "id": "D2O76mfKRHnt",
        "colab_type": "code",
        "colab": {}
      },
      "source": [
        "# most straight forward way\n",
        "class Solution:\n",
        "    def addStrings(self, num1: str, num2: str) -> str:\n",
        "        n = max(len(num1), len(num2))\n",
        "        num1, num2 = num1.zfill(n), num2.zfill(n) # fill zero, ljust rjust etc\n",
        "        carry = 0\n",
        "        answer = []\n",
        "        # print(num1,num2)\n",
        "        for i in range(n - 1, -1, -1):\n",
        "            current_sum = ord(num1[i]) - ord('0') + ord(num2[i]) - ord('0')  + carry\n",
        "            # print(current_sum)\n",
        "            current_digit = current_sum % 10\n",
        "            carry = current_sum // 10\n",
        "            answer.append(str(current_digit))\n",
        "        if carry == 1:\n",
        "            answer.append('1')\n",
        "        answer.reverse()\n",
        "        \n",
        "        return ''.join(answer)"
      ],
      "execution_count": null,
      "outputs": []
    },
    {
      "cell_type": "code",
      "metadata": {
        "id": "uBvl1AO8wJJS",
        "colab_type": "code",
        "colab": {}
      },
      "source": [
        "# another.. way\n",
        "class Solution:\n",
        "    def addStrings(self, num1: str, num2: str) -> str:\n",
        "        n = max(len(num1), len(num2))\n",
        "        num1, num2 = num1.zfill(n), num2.zfill(n) # fill zero, ljust rjust etc\n",
        "        answer = [0] * (len(num1)+1)\n",
        "        # print(num1,num2)\n",
        "        for i in range(n - 1, -1, -1):\n",
        "            answer[i+1] += ord(num1[i]) - ord('0') + ord(num2[i]) - ord('0')\n",
        "            answer[i] = answer[i+1] // 10\n",
        "            answer[i+1] %= 10\n",
        "            # print(answer)\n",
        "        answer = answer[1:] if answer[0] == 0 else answer\n",
        "        return ''.join(map(str,answer))\n",
        "\n",
        "                # product[tempPos] += int(n1) * int(n2)\n",
        "                # product[tempPos-1] += product[tempPos]//10\n",
        "                # product[tempPos] %= 10"
      ],
      "execution_count": null,
      "outputs": []
    },
    {
      "cell_type": "code",
      "metadata": {
        "id": "3RJcJVG6ePh1",
        "colab_type": "code",
        "colab": {}
      },
      "source": [
        "## add strings with decimal\n",
        "\n",
        "# Solution with digits\n",
        "class Solution:\n",
        "    def addStrings(self, num1:str, num2: str) -> str:\n",
        "        # the goal of the first step is to align two num1 together,\n",
        "        if '.' not in num1:\n",
        "            num1 = num1 + '.0'\n",
        "        if '.' not in num2:\n",
        "            num2 = num2 + '.0'\n",
        "        num1_l = num1.find('.')\n",
        "        num2_l = num2.find('.')\n",
        "        left_paddings = max(num1_l,num2_l)\n",
        "        num1_r = len(num1)-1-num1_l\n",
        "        num2_r = len(num2)-1-num2_l\n",
        "        right_paddings = max(num1_r,num2_r)\n",
        "        num1, num2 = num1.rjust(left_paddings - num1_l + len(num1), '0'), num2.rjust(left_paddings - num2_l + len(num2), '0')\n",
        "        num1, num2 = num1.ljust(right_paddings - num1_r + len(num1), '0'), num2.ljust(right_paddings - num2_r + len(num2), '0')\n",
        "        num1 = num1.replace('.','')\n",
        "        num2 = num2.replace('.','')\n",
        "\n",
        "        carry = 0\n",
        "        answer = []\n",
        "        assert len(num1) == len(num2)\n",
        "        for i in range(len(num1)-1,-1,-1):\n",
        "            sums = ord(num1[i]) - ord('0') + ord(num2[i]) - ord('0')  + carry\n",
        "            current_digit = sums % 10\n",
        "            carry = sums//10\n",
        "            answer.append(str(current_digit))\n",
        "        if carry == 1:\n",
        "            answer.append('1')\n",
        "        answer.insert(right_paddings,'.')\n",
        "\n",
        "        return ''.join(answer[::-1])"
      ],
      "execution_count": null,
      "outputs": []
    },
    {
      "cell_type": "code",
      "metadata": {
        "id": "wBKVTGtwR800",
        "colab_type": "code",
        "colab": {
          "base_uri": "https://localhost:8080/",
          "height": 35
        },
        "outputId": "87eaa24e-7131-4a6d-f678-d657e906c026"
      },
      "source": [
        "test = Solution()\n",
        "test.addStrings('584','18')"
      ],
      "execution_count": null,
      "outputs": [
        {
          "output_type": "execute_result",
          "data": {
            "text/plain": [
              "'602.0'"
            ]
          },
          "metadata": {
            "tags": []
          },
          "execution_count": 2
        }
      ]
    },
    {
      "cell_type": "markdown",
      "metadata": {
        "id": "t-J2IYiO8rwo",
        "colab_type": "text"
      },
      "source": [
        "438. Find All Anagrams in a String\n"
      ]
    },
    {
      "cell_type": "code",
      "metadata": {
        "id": "d35QCTn78sIP",
        "colab_type": "code",
        "colab": {}
      },
      "source": [
        "from collections import Counter\n",
        "class Solution:\n",
        "    def findAnagrams(self, s: str, p: str) -> List[int]:\n",
        "        if len(s)<len(p):\n",
        "            return []\n",
        "        p_length = len(p)\n",
        "        s_length = len(s)\n",
        "        p_counter = Counter(p)\n",
        "        s_counter = Counter()\n",
        "        ans = []\n",
        "        for i in range(s_length):\n",
        "            # add\n",
        "            s_counter[s[i]] = s_counter.get(s[i],0) + 1\n",
        "            if i>p_length-1:\n",
        "                s_counter[s[i-p_length]] = s_counter.get(s[i-p_length]) - 1\n",
        "                s_counter += Counter() # remove 0 counter\n",
        "            if s_counter == p_counter:\n",
        "                ans.append(i-p_length+1)\n",
        "        return ans\n",
        "\n",
        "        "
      ],
      "execution_count": null,
      "outputs": []
    },
    {
      "cell_type": "code",
      "metadata": {
        "id": "49KJh_VJ-rsv",
        "colab_type": "code",
        "colab": {
          "base_uri": "https://localhost:8080/",
          "height": 34
        },
        "outputId": "f1c88204-1407-4b45-da2d-0d02366d93b9"
      },
      "source": [
        "s=\"cbaebabacd\";p=\"abc\"\n",
        "test = Solution()\n",
        "test. findAnagrams(s,p)"
      ],
      "execution_count": null,
      "outputs": [
        {
          "output_type": "execute_result",
          "data": {
            "text/plain": [
              "[0, 6]"
            ]
          },
          "metadata": {
            "tags": []
          },
          "execution_count": 22
        }
      ]
    },
    {
      "cell_type": "markdown",
      "metadata": {
        "id": "zIvndmFtXHCX",
        "colab_type": "text"
      },
      "source": [
        "523. Continuous Subarray Sum\n"
      ]
    },
    {
      "cell_type": "code",
      "metadata": {
        "id": "UoOKbKnqXGEL",
        "colab_type": "code",
        "colab": {}
      },
      "source": [
        "# class Solution:\n",
        "#     def checkSubarraySum(self, nums: List[int], k: int) -> bool:\n",
        "#         if k == 0:\n",
        "#             return any(nums[i] == 0 and nums[i + 1] == 0 for i in xrange(len(nums) - 1))\n",
        "#         d = {0:1}\n",
        "#         sums = 0\n",
        "#         for num in nums:\n",
        "#             sums = sums + num\n",
        "#             if d.get(sums%k):\n",
        "#                 return True\n",
        "#             else:\n",
        "#                 d[sums%k] = 1\n",
        "#         return False\n",
        "\n",
        "class Solution():\n",
        "    def checkSubarraySum(self, nums, k):\n",
        "        \"\"\"\n",
        "        :type nums: List[int]\n",
        "        :type k: int\n",
        "        :rtype: bool\n",
        "        \"\"\"\n",
        "        dic = {0:-1}\n",
        "        summ = 0\n",
        "        for i, n in enumerate(nums):\n",
        "            if k != 0:\n",
        "                summ = (summ + n) % k\n",
        "            else:\n",
        "                summ += n\n",
        "            if summ not in dic:\n",
        "                dic[summ] = i\n",
        "            else:\n",
        "                if i - dic[summ] >= 2:\n",
        "                    return True\n",
        "        return False"
      ],
      "execution_count": null,
      "outputs": []
    },
    {
      "cell_type": "code",
      "metadata": {
        "id": "ivWGpZlZYTkf",
        "colab_type": "code",
        "colab": {
          "base_uri": "https://localhost:8080/",
          "height": 34
        },
        "outputId": "6502a9c1-c6d3-4941-c4c3-2ef36637b2e9"
      },
      "source": [
        "nums = [1, 0, 0];  k=2\n",
        "test = Solution()\n",
        "test.checkSubarraySum(nums,k)"
      ],
      "execution_count": null,
      "outputs": [
        {
          "output_type": "execute_result",
          "data": {
            "text/plain": [
              "True"
            ]
          },
          "metadata": {
            "tags": []
          },
          "execution_count": 16
        }
      ]
    },
    {
      "cell_type": "markdown",
      "metadata": {
        "id": "7NpbWUyH1jEa",
        "colab_type": "text"
      },
      "source": [
        "621. Task Scheduler\n"
      ]
    },
    {
      "cell_type": "code",
      "metadata": {
        "id": "0etFqUm6Tb_m",
        "colab_type": "code",
        "colab": {}
      },
      "source": [
        "class Solution:\n",
        "    def leastInterval(self, tasks: List[str], n: int) -> int:\n",
        "        tasks_dict = Counter(tasks)\n",
        "        max_freq = tasks_dict.most_common(1)[0][1]\n",
        "        num_max_freq_elements = sum([(i==max_freq)*1 for i in list(tasks_dict.values())])\n",
        "        ans = (n+1)*(max_freq-1) + num_max_freq_elements \n",
        "        tasks_length = len(tasks)\n",
        "        return max(ans,tasks_length)\n",
        "\n",
        "        "
      ],
      "execution_count": null,
      "outputs": []
    },
    {
      "cell_type": "code",
      "metadata": {
        "id": "665H-_Fx4WvC",
        "colab_type": "code",
        "colab": {
          "base_uri": "https://localhost:8080/",
          "height": 34
        },
        "outputId": "575fe576-6d4e-4fb6-dd99-443834679c3a"
      },
      "source": [
        "tasks = [\"A\",\"A\",\"A\",\"B\",\"B\",\"B\"];n = 2\n",
        "test = Solution() \n",
        "test.leastInterval(tasks,n)"
      ],
      "execution_count": null,
      "outputs": [
        {
          "output_type": "execute_result",
          "data": {
            "text/plain": [
              "8"
            ]
          },
          "metadata": {
            "tags": []
          },
          "execution_count": 38
        }
      ]
    },
    {
      "cell_type": "markdown",
      "metadata": {
        "id": "yudlhu_oNVy6",
        "colab_type": "text"
      },
      "source": [
        "670. Maximum Swap\n"
      ]
    },
    {
      "cell_type": "code",
      "metadata": {
        "id": "bnauqoGVNchS",
        "colab_type": "code",
        "colab": {}
      },
      "source": [
        "class Solution(object):\n",
        "    def maximumSwap(self, num):\n",
        "        A = [int(i) for i in str(num)]\n",
        "        last = {x: i for i, x in enumerate(A)} # store value:index\n",
        "        for i, x in enumerate(A):\n",
        "            # start with first digit\n",
        "            for d in range(9, x, -1):\n",
        "                if last.get(d, None) and last[d]> i: # if there is a largest later\n",
        "                    A[i], A[last[d]] = A[last[d]], A[i]\n",
        "                    return int(\"\".join(map(str, A)))\n",
        "        return num"
      ],
      "execution_count": null,
      "outputs": []
    },
    {
      "cell_type": "code",
      "metadata": {
        "id": "NMDFKb0FNf80",
        "colab_type": "code",
        "colab": {
          "base_uri": "https://localhost:8080/",
          "height": 35
        },
        "outputId": "508902eb-aebe-4c82-db2e-4e3c485f832b"
      },
      "source": [
        "test = Solution()\n",
        "test.maximumSwap(2736)"
      ],
      "execution_count": null,
      "outputs": [
        {
          "output_type": "execute_result",
          "data": {
            "text/plain": [
              "7236"
            ]
          },
          "metadata": {
            "tags": []
          },
          "execution_count": 40
        }
      ]
    },
    {
      "cell_type": "markdown",
      "metadata": {
        "id": "gjklUwMVz6LL",
        "colab_type": "text"
      },
      "source": [
        "1044. Longest Duplicate Substring\n"
      ]
    },
    {
      "cell_type": "code",
      "metadata": {
        "id": "FOR93RsBz7AY",
        "colab_type": "code",
        "colab": {}
      },
      "source": [
        "class Solution:\n",
        "    def longestDupSubstring(self, S: str) -> str:\n",
        "        r = len(S)\n",
        "        l = 0\n",
        "        result = \"\"\n",
        "        while l<r:\n",
        "            mid = int(l + (r-l)/2)\n",
        "            current_result = self.findDup(mid, S)\n",
        "            if current_result:\n",
        "                result = current_result\n",
        "                l = mid+1\n",
        "            else:\n",
        "                r = mid\n",
        "        return result\n",
        "            \n",
        "    def findDup(self, l, S):\n",
        "        comp = [S[i:i+l] for i in range(len(S)-l+1)]\n",
        "        for i, substr in enumerate(comp):\n",
        "            subhash = collections.Counter(substr)\n",
        "            for j, substr2 in enumerate(comp):\n",
        "                if i == j:\n",
        "                    continue\n",
        "                subhash2 = collections.Counter(substr2)\n",
        "                if subhash == subhash2:\n",
        "                    if substr == substr2:\n",
        "                        return substr\n",
        "                    else:\n",
        "                        continue\n",
        "        return \"\"\n",
        "\n",
        "        \n",
        "        \n",
        "        "
      ],
      "execution_count": null,
      "outputs": []
    },
    {
      "cell_type": "code",
      "metadata": {
        "id": "aUf4ZA_0z8fv",
        "colab_type": "code",
        "colab": {
          "base_uri": "https://localhost:8080/",
          "height": 35
        },
        "outputId": "e7737ba7-24a3-46fd-e2f3-3a111575344b"
      },
      "source": [
        "S = \"abcbcd\"\n",
        "test = Solution()\n",
        "test.longestDupSubstring(S)"
      ],
      "execution_count": null,
      "outputs": [
        {
          "output_type": "execute_result",
          "data": {
            "text/plain": [
              "'bc'"
            ]
          },
          "metadata": {
            "tags": []
          },
          "execution_count": 39
        }
      ]
    },
    {
      "cell_type": "markdown",
      "metadata": {
        "id": "j5ssIZLUKYuY",
        "colab_type": "text"
      },
      "source": [
        "1249. Minimum Remove to Make Valid Parentheses\n"
      ]
    },
    {
      "cell_type": "code",
      "metadata": {
        "id": "kOMFane95L-c",
        "colab_type": "code",
        "colab": {}
      },
      "source": [
        "class Solution:\n",
        "    def minRemoveToMakeValid(self, s: str) -> str:\n",
        "        stack = []\n",
        "        ans = []\n",
        "        for i,v in enumerate(s):\n",
        "            if v!='(' and v!=')':\n",
        "                continue\n",
        "            if v=='(':\n",
        "                stack.append(i)\n",
        "                continue\n",
        "            else:\n",
        "                if stack:\n",
        "                    stack.pop()\n",
        "                else:\n",
        "                    # stack is empty, so we have invalid\n",
        "                    ans.append(i)\n",
        "        removed_lst = ans + stack\n",
        "        j = 0\n",
        "        for i in sorted(removed_lst):\n",
        "            s = s[:i-j] + s[i+1-j:]\n",
        "            j +=1\n",
        "        return s\n",
        "        \n",
        "\n",
        "\n",
        "            "
      ],
      "execution_count": null,
      "outputs": []
    },
    {
      "cell_type": "code",
      "metadata": {
        "id": "nuPDiWb0KdLQ",
        "colab_type": "code",
        "colab": {
          "base_uri": "https://localhost:8080/",
          "height": 34
        },
        "outputId": "0d999f73-dcc0-42c0-de5e-cb8c209495c2"
      },
      "source": [
        "s = \"lee(t(c)o)de)\"\n",
        "test = Solution() \n",
        "test.minRemoveToMakeValid(s)"
      ],
      "execution_count": null,
      "outputs": [
        {
          "output_type": "execute_result",
          "data": {
            "text/plain": [
              "'lee(t(c)o)de'"
            ]
          },
          "metadata": {
            "tags": []
          },
          "execution_count": 28
        }
      ]
    },
    {
      "cell_type": "markdown",
      "metadata": {
        "id": "0w4r-9ESQL88",
        "colab_type": "text"
      },
      "source": [
        "560. Subarray Sum Equals K\n"
      ]
    },
    {
      "cell_type": "code",
      "metadata": {
        "id": "FJNsCKFPMr7k",
        "colab_type": "code",
        "colab": {}
      },
      "source": [
        "class Solution:\n",
        "    def subarraySum(self, nums: List[int], k: int) -> int:\n",
        "        d = {0:1}\n",
        "        sums = 0\n",
        "        count = 0\n",
        "        for i in nums:\n",
        "            sums = sums + i\n",
        "            count = count + d.get(sums-k,0)\n",
        "            d[sums] = d.get(sums,0) + 1\n",
        "        return count\n",
        "\n",
        "        "
      ],
      "execution_count": null,
      "outputs": []
    },
    {
      "cell_type": "code",
      "metadata": {
        "id": "CJuAJmPxQRC6",
        "colab_type": "code",
        "colab": {
          "base_uri": "https://localhost:8080/",
          "height": 34
        },
        "outputId": "c2e12dbe-d22f-494e-fdbf-f9bbc63da42a"
      },
      "source": [
        "nums = [1]; k = 0\n",
        "test = Solution() \n",
        "test.subarraySum(nums, k)"
      ],
      "execution_count": null,
      "outputs": [
        {
          "output_type": "execute_result",
          "data": {
            "text/plain": [
              "0"
            ]
          },
          "metadata": {
            "tags": []
          },
          "execution_count": 47
        }
      ]
    },
    {
      "cell_type": "markdown",
      "metadata": {
        "id": "_RfoYpltq2cK",
        "colab_type": "text"
      },
      "source": [
        "658. Find K Closest Elements\n"
      ]
    },
    {
      "cell_type": "code",
      "metadata": {
        "id": "fYvXNe_gq2zQ",
        "colab_type": "code",
        "colab": {}
      },
      "source": [
        "class Solution:\n",
        "    def findClosestElements(self, arr: List[int], k: int, x: int) -> List[int]:\n",
        "        arr_abs = [abs(i-x) for i in arr]\n",
        "        start_index = arr_abs.index(min(arr_abs))\n",
        "        l = start_index-1; r=start_index+1\n",
        "        count = 0\n",
        "        results = [arr[start_index]]\n",
        "        while count <k-1:\n",
        "            #add left\n",
        "            # print(l,r)\n",
        "            if r>len(arr)-1 or arr_abs[l]<=arr_abs[r]:\n",
        "                results.insert(0,arr[l])\n",
        "                l = l-1\n",
        "                count +=1\n",
        "                continue\n",
        "            if l<0 or arr_abs[l]>arr_abs[r]:\n",
        "                results.append(arr[r])\n",
        "                r = r+1\n",
        "                count +=1\n",
        "                continue\n",
        "            print(\"error\")\n",
        "        return results"
      ],
      "execution_count": null,
      "outputs": []
    },
    {
      "cell_type": "code",
      "metadata": {
        "id": "zjFKwe2Qq8rq",
        "colab_type": "code",
        "colab": {
          "base_uri": "https://localhost:8080/",
          "height": 35
        },
        "outputId": "47e80f72-66a5-412f-c3a3-f754089c2d8e"
      },
      "source": [
        "arr = [1,2,3,4,5]\n",
        "test = Solution() \n",
        "test.findClosestElements(arr,3,3)"
      ],
      "execution_count": null,
      "outputs": [
        {
          "output_type": "execute_result",
          "data": {
            "text/plain": [
              "[2, 3, 4]"
            ]
          },
          "metadata": {
            "tags": []
          },
          "execution_count": 44
        }
      ]
    },
    {
      "cell_type": "markdown",
      "metadata": {
        "id": "9mrgw9CYwLMx",
        "colab_type": "text"
      },
      "source": [
        "973. K Closest Points to Origin\n"
      ]
    },
    {
      "cell_type": "code",
      "metadata": {
        "id": "OLi5Mc6qwK31",
        "colab_type": "code",
        "colab": {}
      },
      "source": [
        "# class Solution:\n",
        "#     def kClosest(self, points: List[List[int]], K: int) -> List[List[int]]:\n",
        "#         points.sort(key = lambda P: P[0]**2 + P[1]**2)\n",
        "#         return points[:K]\n",
        "\n",
        "\n",
        "# use heap (priority q)\n",
        "class Solution:\n",
        "    def kClosest(self, points: List[List[int]], K: int) -> List[List[int]]:\n",
        "        h = []\n",
        "        for p in points:\n",
        "            d = - (p[0]**2 + p[1]**2)\n",
        "            if len(h)>=K:\n",
        "                heapq.heappushpop(h, (d,p[0],p[1]))\n",
        "            else:\n",
        "                heapq.heappush(h, (d,p[0],p[1]))\n",
        "        return [[x,y] for d,x,y in h]\n"
      ],
      "execution_count": null,
      "outputs": []
    },
    {
      "cell_type": "code",
      "metadata": {
        "id": "iGzSXlbRQXU8",
        "colab_type": "code",
        "colab": {
          "base_uri": "https://localhost:8080/",
          "height": 34
        },
        "outputId": "a2ea5cdd-8c59-4250-9120-7b9b02d33359"
      },
      "source": [
        "points = [[1,3],[-2,2]]; K = 1\n",
        "test = Solution() \n",
        "test.kClosest(points, K)"
      ],
      "execution_count": null,
      "outputs": [
        {
          "output_type": "execute_result",
          "data": {
            "text/plain": [
              "[[-2, 2]]"
            ]
          },
          "metadata": {
            "tags": []
          },
          "execution_count": 76
        }
      ]
    },
    {
      "cell_type": "markdown",
      "metadata": {
        "id": "LCOtN6qXriE4",
        "colab_type": "text"
      },
      "source": [
        "953. Verifying an Alien Dictionary\n"
      ]
    },
    {
      "cell_type": "code",
      "metadata": {
        "id": "J9Aa763g1waQ",
        "colab_type": "code",
        "colab": {}
      },
      "source": [
        "class Solution:\n",
        "    def compare(self, w1, w2, d):\n",
        "        for s1,s2 in zip(w1,w2):\n",
        "            if d[s1]<d[s2]:\n",
        "                return True\n",
        "            elif d[s1]>d[s2]:\n",
        "                return False\n",
        "        if len(w1)<=len(w2):\n",
        "            return True\n",
        "        else:\n",
        "            return False\n",
        "\n",
        "    def isAlienSorted(self, words: List[str], order: str) -> bool:\n",
        "        d = {}\n",
        "        for i, v in enumerate(order):\n",
        "            d[v] = i\n",
        "        for w1, w2 in zip(words,words[1:]):\n",
        "            if not self.compare(w1, w2, d):\n",
        "                return False\n",
        "        return True\n"
      ],
      "execution_count": null,
      "outputs": []
    },
    {
      "cell_type": "code",
      "metadata": {
        "id": "AcfaxoQA1xdA",
        "colab_type": "code",
        "colab": {
          "base_uri": "https://localhost:8080/",
          "height": 34
        },
        "outputId": "4fec558b-dc2e-4d54-c252-9155c3c267ed"
      },
      "source": [
        "words = [\"apple\",\"app\"] ;order =\"abcdefghijklmnopqrstuvwxyz\"\n",
        "test = Solution() \n",
        "test.isAlienSorted(words, order)"
      ],
      "execution_count": null,
      "outputs": [
        {
          "output_type": "execute_result",
          "data": {
            "text/plain": [
              "False"
            ]
          },
          "metadata": {
            "tags": []
          },
          "execution_count": 35
        }
      ]
    },
    {
      "cell_type": "markdown",
      "metadata": {
        "id": "5H0zNpqU80-i",
        "colab_type": "text"
      },
      "source": [
        "238. Product of Array Except Self\n"
      ]
    },
    {
      "cell_type": "code",
      "metadata": {
        "id": "jKMFhW0Q8z9v",
        "colab_type": "code",
        "colab": {}
      },
      "source": [
        "from functools import reduce \n",
        "class Solution:\n",
        "    def productExceptSelf(self, nums: List[int]) -> List[int]:\n",
        "        ans = []\n",
        "        left = []\n",
        "        right = []\n",
        "        l = 1\n",
        "        r = 1\n",
        "        nums.append(1)\n",
        "        nums.insert(0,1)\n",
        "        for num in nums:\n",
        "            l = l * num\n",
        "            left.append(l)\n",
        "        for num in nums[::-1]:\n",
        "            r = r * num\n",
        "            right.append(r)\n",
        "        print(left)\n",
        "        print(right)\n",
        "        for i in range(1,len(nums)-1,1):\n",
        "            ans.append(left[i-1]*right[len(nums)-2-i])\n",
        "        return ans  "
      ],
      "execution_count": null,
      "outputs": []
    },
    {
      "cell_type": "code",
      "metadata": {
        "id": "qaWvu4p4N5hp",
        "colab_type": "code",
        "colab": {
          "base_uri": "https://localhost:8080/",
          "height": 68
        },
        "outputId": "e0e7ebf2-b4c7-4adb-83d8-fe166954a1f9"
      },
      "source": [
        "test = Solution() \n",
        "test.productExceptSelf([1,2,3,4])"
      ],
      "execution_count": null,
      "outputs": [
        {
          "output_type": "stream",
          "text": [
            "[1, 1, 2, 6, 24, 24]\n",
            "[1, 4, 12, 24, 24, 24]\n"
          ],
          "name": "stdout"
        },
        {
          "output_type": "execute_result",
          "data": {
            "text/plain": [
              "[24, 12, 8, 6]"
            ]
          },
          "metadata": {
            "tags": []
          },
          "execution_count": 105
        }
      ]
    },
    {
      "cell_type": "markdown",
      "metadata": {
        "id": "yseTMjxhR1kH",
        "colab_type": "text"
      },
      "source": [
        "269. Alien Dictionary\n"
      ]
    },
    {
      "cell_type": "code",
      "metadata": {
        "id": "RnJLZrNkTW5c",
        "colab_type": "code",
        "colab": {}
      },
      "source": [
        "from collections import defaultdict, Counter, deque\n",
        "class Solution():\n",
        "    def alienOrder(self, words: List[str]) -> str:\n",
        "        \n",
        "        # Step 0: create data structures + the in_degree of each unique letter to 0.\n",
        "        adj_list = defaultdict(set)\n",
        "        in_degree = Counter({c : 0 for word in words for c in word})\n",
        "                \n",
        "        # Step 1: We need to populate adj_list and in_degree.\n",
        "        # For each pair of adjacent words...\n",
        "        for first_word, second_word in zip(words, words[1:]):\n",
        "            for c, d in zip(first_word, second_word):\n",
        "                if c != d:\n",
        "                    if d not in adj_list[c]:\n",
        "                        adj_list[c].add(d)\n",
        "                        in_degree[d] += 1\n",
        "                    break\n",
        "            else:\n",
        "                # for/else..! \n",
        "                # Check that second word isn't a prefix of first word. \n",
        "                  # This part is same of valid alean word, after \n",
        "                if len(second_word) < len(first_word): return \"\"\n",
        "        \n",
        "        # Step 2: We need to repeatedly pick off nodes with an indegree of 0. BFS? a node with 0 in_degree will always be the first!\n",
        "        output = []\n",
        "        queue = deque([c for c in in_degree if in_degree[c] == 0])\n",
        "        while queue:\n",
        "            c = queue.popleft()\n",
        "            output.append(c)\n",
        "            # get rid of edge \n",
        "            for d in adj_list[c]:\n",
        "                in_degree[d] -= 1\n",
        "                if in_degree[d] == 0:\n",
        "                    queue.append(d)\n",
        "                    \n",
        "        # If not all letters are in output, that means there was a cycle and so\n",
        "        # no valid ordering. Return \"\" as per the problem description.\n",
        "        if len(output) < len(in_degree):\n",
        "            return \"\"\n",
        "        # Otherwise, convert the ordering we found into a string and return it.\n",
        "        return \"\".join(output)\n",
        "        # return adj_list"
      ],
      "execution_count": null,
      "outputs": []
    },
    {
      "cell_type": "code",
      "metadata": {
        "id": "1qqLN_Z_R3l9",
        "colab_type": "code",
        "colab": {}
      },
      "source": [
        "test = Solution() \n",
        "test.alienOrder([\n",
        "  \"wrt\",\n",
        "  \"wrf\",\n",
        "  \"er\",\n",
        "  \"ett\",\n",
        "  \"rftt\"\n",
        "])"
      ],
      "execution_count": null,
      "outputs": []
    },
    {
      "cell_type": "markdown",
      "metadata": {
        "id": "91dOUeuYFD1R",
        "colab_type": "text"
      },
      "source": [
        "199. Binary Tree Right Side View\n"
      ]
    },
    {
      "cell_type": "code",
      "metadata": {
        "id": "B5tl3N_3Tdhp",
        "colab_type": "code",
        "colab": {}
      },
      "source": [
        "# Definition for a binary tree node.\n",
        "# class TreeNode:\n",
        "#     def __init__(self, val=0, left=None, right=None):\n",
        "#         self.val = val\n",
        "#         self.left = left\n",
        "#         self.right = right\n",
        "class Solution:\n",
        "    def rightSideView(self, root: TreeNode) -> List[int]:\n",
        "        d = dict()\n",
        "        def helper(root, depth, d):\n",
        "            if not root:\n",
        "                return \n",
        "            d[depth] =  d.get(depth,root.val)\n",
        "            helper(root.right, depth+1, d)\n",
        "            helper(root.left, depth+1, d)\n",
        "        helper(root, 0 ,d)\n",
        "        return [v for k, v in d.items()]"
      ],
      "execution_count": null,
      "outputs": []
    },
    {
      "cell_type": "code",
      "metadata": {
        "id": "Hc0wAty1GdVD",
        "colab_type": "code",
        "colab": {
          "base_uri": "https://localhost:8080/",
          "height": 34
        },
        "outputId": "e851e912-9258-4f65-ed9b-9fffd1b7e118"
      },
      "source": [
        "t4 = deserialize('[1,2,3,null,5,null,4]')\n",
        "test = Solution() \n",
        "test.rightSideView(t4)"
      ],
      "execution_count": null,
      "outputs": [
        {
          "output_type": "execute_result",
          "data": {
            "text/plain": [
              "[1, 3, 4]"
            ]
          },
          "metadata": {
            "tags": []
          },
          "execution_count": 13
        }
      ]
    },
    {
      "cell_type": "markdown",
      "metadata": {
        "id": "XyNzyubgxZFx",
        "colab_type": "text"
      },
      "source": [
        "680. Valid Palindrome II\n"
      ]
    },
    {
      "cell_type": "code",
      "metadata": {
        "id": "zv6ldW_xGfBv",
        "colab_type": "code",
        "colab": {}
      },
      "source": [
        "class Solution:\n",
        "    def validPalindrome(self, s: str) -> bool:\n",
        "        n = len(s)\n",
        "        l = 0\n",
        "        r = n-1\n",
        "        while l<=r:\n",
        "            # print(l,r)\n",
        "            if s[l] != s[r]:\n",
        "                break\n",
        "            l =l+1; r=r-1\n",
        "        if l>=r: return True\n",
        "        s1 = s[l:r]\n",
        "        s2 = s[l+1:r+1]\n",
        "        if s1 == s1[::-1] or s2 == s2[::-1]:\n",
        "            return True\n",
        "        else:\n",
        "            return False"
      ],
      "execution_count": null,
      "outputs": []
    },
    {
      "cell_type": "code",
      "metadata": {
        "id": "zlPpeC9CxbH8",
        "colab_type": "code",
        "colab": {}
      },
      "source": [
        "s = 'abcdcbFa'"
      ],
      "execution_count": null,
      "outputs": []
    },
    {
      "cell_type": "code",
      "metadata": {
        "id": "_WZYCe03yz5l",
        "colab_type": "code",
        "colab": {
          "base_uri": "https://localhost:8080/",
          "height": 34
        },
        "outputId": "b6498193-f34e-445a-9c9c-e0ec206e9e67"
      },
      "source": [
        "test = Solution() \n",
        "test.validPalindrome(s)"
      ],
      "execution_count": null,
      "outputs": [
        {
          "output_type": "execute_result",
          "data": {
            "text/plain": [
              "True"
            ]
          },
          "metadata": {
            "tags": []
          },
          "execution_count": 7
        }
      ]
    },
    {
      "cell_type": "markdown",
      "metadata": {
        "id": "3fpw1Xys-uHE",
        "colab_type": "text"
      },
      "source": [
        "A/B Test"
      ]
    },
    {
      "cell_type": "code",
      "metadata": {
        "id": "uFs-msk7-3KM",
        "colab_type": "code",
        "colab": {}
      },
      "source": [
        "p = 0.4\n",
        "D = 10\n",
        "s0 = (1-p) * 10\n",
        "results = [s0]\n",
        "s = s0\n",
        "for i in range(1,20):\n",
        "    s1 = (1-p)*s0 + p * min(i,s0)\n",
        "    s0 = s1\n",
        "    results.append(s1)"
      ],
      "execution_count": null,
      "outputs": []
    },
    {
      "cell_type": "code",
      "metadata": {
        "id": "xyM9MUf_hpet",
        "colab_type": "code",
        "colab": {}
      },
      "source": [
        "# # Inputs:\n",
        "# #   The desired alpha for a two-tailed test\n",
        "# # Returns: The z-critical value\n",
        "# get_z_star = function(alpha) {\n",
        "#     return(-qnorm(alpha / 2))\n",
        "# }\n",
        "# # Inputs:\n",
        "# #   z-star: The z-critical value\n",
        "# #   s: The standard error of the metric at N=1\n",
        "# #   d_min: The practical significance level\n",
        "# #   N: The sample size of each group of the experiment\n",
        "# # Returns: The beta value of the two-tailed test\n",
        "# get_beta = function(z_star, s, d_min, N) {\n",
        "#     SE = s /  sqrt(N)\n",
        "#     return(pnorm(z_star * SE, mean=d_min, sd=SE))\n",
        "# }\n",
        "\n",
        "# # Inputs:\n",
        "# #   s: The standard error of the metric with N=1 in each group\n",
        "# #   d_min: The practical significance level\n",
        "# #   Ns: The sample sizes to try\n",
        "# #   alpha: The desired alpha level of the test\n",
        "# #   beta: The desired beta level of the test\n",
        "# # Returns: The smallest N out of the given Ns that will achieve the desired\n",
        "# #          beta. There should be at least N samples in each group of the experiment.\n",
        "# #          If none of the given Ns will work, returns -1. N is the number of\n",
        "# #          samples in each group.\n",
        "\n",
        "# required_size = function(s, d_min, Ns=1:20000, alpha=0.05, beta=0.2) {\n",
        "#     for (N in Ns) {\n",
        "#         if (get_beta(get_z_star(alpha), s, d_min, N) <= beta) {\n",
        "#             return(N)\n",
        "#         }\n",
        "#     }\n",
        "    \n",
        "#     return(-1)\n",
        "# }"
      ],
      "execution_count": null,
      "outputs": []
    },
    {
      "cell_type": "code",
      "metadata": {
        "id": "Mf9V7ygMEZmb",
        "colab_type": "code",
        "colab": {}
      },
      "source": [
        "from scipy.stats import norm\n",
        "\n",
        "class abTest():\n",
        "    def __init__(self, \n",
        "                 alpha=0.05, \n",
        "                 beta=0.2, \n",
        "                 d_min = 0.01,\n",
        "                 s = None):\n",
        "        self.alpha = alpha\n",
        "        self.beta = beta\n",
        "        self.d_min = d_min\n",
        "        self._Ns = 100000\n",
        "        if s:\n",
        "            self.sample_size = self._required_size(s, self.d_min, self.alpha, self.beta)\n",
        "    \n",
        "    def _required_size(self,\n",
        "                      s,\n",
        "                      d_min, \n",
        "                       alpha,\n",
        "                       beta\n",
        "                      ):\n",
        "        z_star = -norm.ppf(alpha/2)\n",
        "        for i in range(1,self._Ns):\n",
        "            se = s/ i**(0.5)\n",
        "            beta_i = norm.cdf(z_star * se, loc=d_min, scale=se)\n",
        "            if i %1000 ==0 :\n",
        "                print(i,beta_i)\n",
        "            if beta_i <=beta:\n",
        "                return i\n",
        "            "
      ],
      "execution_count": null,
      "outputs": []
    },
    {
      "cell_type": "code",
      "metadata": {
        "id": "wYXlKkz0IkZK",
        "colab_type": "code",
        "colab": {}
      },
      "source": [
        " p = 0.1093125"
      ],
      "execution_count": null,
      "outputs": []
    },
    {
      "cell_type": "markdown",
      "metadata": {
        "id": "-Bzg9oE_toIn",
        "colab_type": "text"
      },
      "source": [
        "Generate matrix, google interview\n",
        "\n",
        "Coding. 生成 1000*2 矩阵: 第一列是按一定概率分布的categorical variables，第二列是正态分布的随机数。然后去除所有第二列小于1的行，再把第二列的数按第一列的categorical variable分类做归一化。不涉及算法，楼主用python写的感觉不难。中间有一个function不知道，面试官说不要紧，就假设一个名字回头谷歌接着往下写就行。"
      ]
    },
    {
      "cell_type": "code",
      "metadata": {
        "id": "AQEsK-2bSGWe",
        "colab_type": "code",
        "colab": {
          "base_uri": "https://localhost:8080/",
          "height": 198
        },
        "outputId": "89c15cf0-ba11-4aca-f3e5-7df6b3c53560"
      },
      "source": [
        " import numpy as np\n",
        " import pandas as pd\n",
        " np.random.seed(0)\n",
        "\n",
        " n = 1000; m = 2\n",
        " col1 = np.random.choice(  \n",
        "    a=['blue', 'red', 'yellow'],  \n",
        "     size=n,  \n",
        "    p=[0.5, 0.3, 0.2]  \n",
        ")   \n",
        "col2 = np.random.normal(size=n)\n",
        "\n",
        "matrix = [[col1[j] if i ==0 else col2[j] for i in range(m)]for j in range(n)]\n",
        "matrix[0]\n",
        "\n",
        "matrix_2 =[row for row in matrix if row[1]>=1 ]\n",
        "df = pd.DataFrame(matrix_2,columns=[\"cat\",\"norm\"])\n",
        "df.groupby(\"cat\").agg(['sum','mean'])"
      ],
      "execution_count": null,
      "outputs": [
        {
          "output_type": "execute_result",
          "data": {
            "text/html": [
              "<div>\n",
              "<style scoped>\n",
              "    .dataframe tbody tr th:only-of-type {\n",
              "        vertical-align: middle;\n",
              "    }\n",
              "\n",
              "    .dataframe tbody tr th {\n",
              "        vertical-align: top;\n",
              "    }\n",
              "\n",
              "    .dataframe thead tr th {\n",
              "        text-align: left;\n",
              "    }\n",
              "\n",
              "    .dataframe thead tr:last-of-type th {\n",
              "        text-align: right;\n",
              "    }\n",
              "</style>\n",
              "<table border=\"1\" class=\"dataframe\">\n",
              "  <thead>\n",
              "    <tr>\n",
              "      <th></th>\n",
              "      <th colspan=\"2\" halign=\"left\">norm</th>\n",
              "    </tr>\n",
              "    <tr>\n",
              "      <th></th>\n",
              "      <th>sum</th>\n",
              "      <th>mean</th>\n",
              "    </tr>\n",
              "    <tr>\n",
              "      <th>cat</th>\n",
              "      <th></th>\n",
              "      <th></th>\n",
              "    </tr>\n",
              "  </thead>\n",
              "  <tbody>\n",
              "    <tr>\n",
              "      <th>blue</th>\n",
              "      <td>134.226707</td>\n",
              "      <td>1.579138</td>\n",
              "    </tr>\n",
              "    <tr>\n",
              "      <th>red</th>\n",
              "      <td>49.964133</td>\n",
              "      <td>1.561379</td>\n",
              "    </tr>\n",
              "    <tr>\n",
              "      <th>yellow</th>\n",
              "      <td>52.053059</td>\n",
              "      <td>1.530972</td>\n",
              "    </tr>\n",
              "  </tbody>\n",
              "</table>\n",
              "</div>"
            ],
            "text/plain": [
              "              norm          \n",
              "               sum      mean\n",
              "cat                         \n",
              "blue    134.226707  1.579138\n",
              "red      49.964133  1.561379\n",
              "yellow   52.053059  1.530972"
            ]
          },
          "metadata": {
            "tags": []
          },
          "execution_count": 4
        }
      ]
    },
    {
      "cell_type": "markdown",
      "metadata": {
        "id": "VpNR6IgVk5kM",
        "colab_type": "text"
      },
      "source": [
        ""
      ]
    },
    {
      "cell_type": "code",
      "metadata": {
        "id": "jGy-B3IjlDX-",
        "colab_type": "code",
        "colab": {}
      },
      "source": [
        "p_se = np.sqrt(0.5 * 0.5 /1000)"
      ],
      "execution_count": null,
      "outputs": []
    },
    {
      "cell_type": "code",
      "metadata": {
        "id": "1_mRMg-_xR9f",
        "colab_type": "code",
        "colab": {}
      },
      "source": [
        "i=0\n",
        "results = []\n",
        "\n",
        "while i<=1000:\n",
        "    rand = np.random.randint(0,2,1000)\n",
        "    p = rand.mean()\n",
        "    s_norm = (p-0.5)/p_se\n",
        "    if s_norm >= 0.5:\n",
        "        i += 1\n",
        "        results.append(s_norm)"
      ],
      "execution_count": null,
      "outputs": []
    },
    {
      "cell_type": "code",
      "metadata": {
        "id": "M0d812osbbdc",
        "colab_type": "code",
        "colab": {
          "base_uri": "https://localhost:8080/",
          "height": 355
        },
        "outputId": "ad2bebaa-d05c-4412-d28e-5fd78247b23e"
      },
      "source": [
        "import matplotlib.pyplot as plt\n",
        "plt.hist(results)"
      ],
      "execution_count": null,
      "outputs": [
        {
          "output_type": "execute_result",
          "data": {
            "text/plain": [
              "(array([363., 258., 194.,  81.,  57.,  24.,  15.,   6.,   1.,   2.]),\n",
              " array([0.50596443, 0.84749041, 1.1890164 , 1.53054239, 1.87206837,\n",
              "        2.21359436, 2.55512035, 2.89664634, 3.23817232, 3.57969831,\n",
              "        3.9212243 ]),\n",
              " <a list of 10 Patch objects>)"
            ]
          },
          "metadata": {
            "tags": []
          },
          "execution_count": 31
        },
        {
          "output_type": "display_data",
          "data": {
            "image/png": "[encoded data removed]",
            "text/plain": [
              "<Figure size 432x288 with 1 Axes>"
            ]
          },
          "metadata": {
            "tags": [],
            "needs_background": "light"
          }
        }
      ]
    },
    {
      "cell_type": "code",
      "metadata": {
        "id": "nt38miWDkoX1",
        "colab_type": "code",
        "colab": {
          "base_uri": "https://localhost:8080/",
          "height": 467
        },
        "outputId": "e010c0ef-0257-41ae-c831-ddf195be668a"
      },
      "source": [
        "from scipy.stats import norm\n",
        "i =0\n",
        "results = []\n",
        "while i <=1000:\n",
        "    u = np.random.uniform(0,1)\n",
        "    sn = norm.ppf(u)\n",
        "    if sn>=4 and sn<=5:\n",
        "        i +=1\n",
        "        results.append(sn)"
      ],
      "execution_count": null,
      "outputs": [
        {
          "output_type": "error",
          "ename": "KeyboardInterrupt",
          "evalue": "ignored",
          "traceback": [
            "\u001b[0;31m---------------------------------------------------------------------------\u001b[0m",
            "\u001b[0;31mKeyboardInterrupt\u001b[0m                         Traceback (most recent call last)",
            "\u001b[0;32m<ipython-input-38-c36fe750bf1d>\u001b[0m in \u001b[0;36m<module>\u001b[0;34m()\u001b[0m\n\u001b[1;32m      4\u001b[0m \u001b[0;32mwhile\u001b[0m \u001b[0mi\u001b[0m \u001b[0;34m<=\u001b[0m\u001b[0;36m1000\u001b[0m\u001b[0;34m:\u001b[0m\u001b[0;34m\u001b[0m\u001b[0;34m\u001b[0m\u001b[0m\n\u001b[1;32m      5\u001b[0m     \u001b[0mu\u001b[0m \u001b[0;34m=\u001b[0m \u001b[0mnp\u001b[0m\u001b[0;34m.\u001b[0m\u001b[0mrandom\u001b[0m\u001b[0;34m.\u001b[0m\u001b[0muniform\u001b[0m\u001b[0;34m(\u001b[0m\u001b[0;36m0\u001b[0m\u001b[0;34m,\u001b[0m\u001b[0;36m1\u001b[0m\u001b[0;34m)\u001b[0m\u001b[0;34m\u001b[0m\u001b[0;34m\u001b[0m\u001b[0m\n\u001b[0;32m----> 6\u001b[0;31m     \u001b[0msn\u001b[0m \u001b[0;34m=\u001b[0m \u001b[0mnorm\u001b[0m\u001b[0;34m.\u001b[0m\u001b[0mppf\u001b[0m\u001b[0;34m(\u001b[0m\u001b[0mu\u001b[0m\u001b[0;34m)\u001b[0m\u001b[0;34m\u001b[0m\u001b[0;34m\u001b[0m\u001b[0m\n\u001b[0m\u001b[1;32m      7\u001b[0m     \u001b[0;32mif\u001b[0m \u001b[0msn\u001b[0m\u001b[0;34m>=\u001b[0m\u001b[0;36m4\u001b[0m \u001b[0;32mand\u001b[0m \u001b[0msn\u001b[0m\u001b[0;34m<=\u001b[0m\u001b[0;36m5\u001b[0m\u001b[0;34m:\u001b[0m\u001b[0;34m\u001b[0m\u001b[0;34m\u001b[0m\u001b[0m\n\u001b[1;32m      8\u001b[0m         \u001b[0mi\u001b[0m \u001b[0;34m+=\u001b[0m\u001b[0;36m1\u001b[0m\u001b[0;34m\u001b[0m\u001b[0;34m\u001b[0m\u001b[0m\n",
            "\u001b[0;32m/usr/local/lib/python3.6/dist-packages/scipy/stats/_distn_infrastructure.py\u001b[0m in \u001b[0;36mppf\u001b[0;34m(self, q, *args, **kwds)\u001b[0m\n\u001b[1;32m   2007\u001b[0m \u001b[0;34m\u001b[0m\u001b[0m\n\u001b[1;32m   2008\u001b[0m         \u001b[0;32mif\u001b[0m \u001b[0mnp\u001b[0m\u001b[0;34m.\u001b[0m\u001b[0many\u001b[0m\u001b[0;34m(\u001b[0m\u001b[0mcond\u001b[0m\u001b[0;34m)\u001b[0m\u001b[0;34m:\u001b[0m  \u001b[0;31m# call only if at least 1 entry\u001b[0m\u001b[0;34m\u001b[0m\u001b[0;34m\u001b[0m\u001b[0m\n\u001b[0;32m-> 2009\u001b[0;31m             \u001b[0mgoodargs\u001b[0m \u001b[0;34m=\u001b[0m \u001b[0margsreduce\u001b[0m\u001b[0;34m(\u001b[0m\u001b[0mcond\u001b[0m\u001b[0;34m,\u001b[0m \u001b[0;34m*\u001b[0m\u001b[0;34m(\u001b[0m\u001b[0;34m(\u001b[0m\u001b[0mq\u001b[0m\u001b[0;34m,\u001b[0m\u001b[0;34m)\u001b[0m\u001b[0;34m+\u001b[0m\u001b[0margs\u001b[0m\u001b[0;34m+\u001b[0m\u001b[0;34m(\u001b[0m\u001b[0mscale\u001b[0m\u001b[0;34m,\u001b[0m \u001b[0mloc\u001b[0m\u001b[0;34m)\u001b[0m\u001b[0;34m)\u001b[0m\u001b[0;34m)\u001b[0m\u001b[0;34m\u001b[0m\u001b[0;34m\u001b[0m\u001b[0m\n\u001b[0m\u001b[1;32m   2010\u001b[0m             \u001b[0mscale\u001b[0m\u001b[0;34m,\u001b[0m \u001b[0mloc\u001b[0m\u001b[0;34m,\u001b[0m \u001b[0mgoodargs\u001b[0m \u001b[0;34m=\u001b[0m \u001b[0mgoodargs\u001b[0m\u001b[0;34m[\u001b[0m\u001b[0;34m-\u001b[0m\u001b[0;36m2\u001b[0m\u001b[0;34m]\u001b[0m\u001b[0;34m,\u001b[0m \u001b[0mgoodargs\u001b[0m\u001b[0;34m[\u001b[0m\u001b[0;34m-\u001b[0m\u001b[0;36m1\u001b[0m\u001b[0;34m]\u001b[0m\u001b[0;34m,\u001b[0m \u001b[0mgoodargs\u001b[0m\u001b[0;34m[\u001b[0m\u001b[0;34m:\u001b[0m\u001b[0;34m-\u001b[0m\u001b[0;36m2\u001b[0m\u001b[0;34m]\u001b[0m\u001b[0;34m\u001b[0m\u001b[0;34m\u001b[0m\u001b[0m\n\u001b[1;32m   2011\u001b[0m             \u001b[0mplace\u001b[0m\u001b[0;34m(\u001b[0m\u001b[0moutput\u001b[0m\u001b[0;34m,\u001b[0m \u001b[0mcond\u001b[0m\u001b[0;34m,\u001b[0m \u001b[0mself\u001b[0m\u001b[0;34m.\u001b[0m\u001b[0m_ppf\u001b[0m\u001b[0;34m(\u001b[0m\u001b[0;34m*\u001b[0m\u001b[0mgoodargs\u001b[0m\u001b[0;34m)\u001b[0m \u001b[0;34m*\u001b[0m \u001b[0mscale\u001b[0m \u001b[0;34m+\u001b[0m \u001b[0mloc\u001b[0m\u001b[0;34m)\u001b[0m\u001b[0;34m\u001b[0m\u001b[0;34m\u001b[0m\u001b[0m\n",
            "\u001b[0;32m/usr/local/lib/python3.6/dist-packages/scipy/stats/_distn_infrastructure.py\u001b[0m in \u001b[0;36margsreduce\u001b[0;34m(cond, *args)\u001b[0m\n\u001b[1;32m    543\u001b[0m         \u001b[0mnewargs\u001b[0m \u001b[0;34m=\u001b[0m \u001b[0;34m[\u001b[0m\u001b[0mnewargs\u001b[0m\u001b[0;34m,\u001b[0m \u001b[0;34m]\u001b[0m\u001b[0;34m\u001b[0m\u001b[0;34m\u001b[0m\u001b[0m\n\u001b[1;32m    544\u001b[0m     \u001b[0mexpand_arr\u001b[0m \u001b[0;34m=\u001b[0m \u001b[0;34m(\u001b[0m\u001b[0mcond\u001b[0m \u001b[0;34m==\u001b[0m \u001b[0mcond\u001b[0m\u001b[0;34m)\u001b[0m\u001b[0;34m\u001b[0m\u001b[0;34m\u001b[0m\u001b[0m\n\u001b[0;32m--> 545\u001b[0;31m     \u001b[0;32mreturn\u001b[0m \u001b[0;34m[\u001b[0m\u001b[0mnp\u001b[0m\u001b[0;34m.\u001b[0m\u001b[0mextract\u001b[0m\u001b[0;34m(\u001b[0m\u001b[0mcond\u001b[0m\u001b[0;34m,\u001b[0m \u001b[0marr1\u001b[0m \u001b[0;34m*\u001b[0m \u001b[0mexpand_arr\u001b[0m\u001b[0;34m)\u001b[0m \u001b[0;32mfor\u001b[0m \u001b[0marr1\u001b[0m \u001b[0;32min\u001b[0m \u001b[0mnewargs\u001b[0m\u001b[0;34m]\u001b[0m\u001b[0;34m\u001b[0m\u001b[0;34m\u001b[0m\u001b[0m\n\u001b[0m\u001b[1;32m    546\u001b[0m \u001b[0;34m\u001b[0m\u001b[0m\n\u001b[1;32m    547\u001b[0m \u001b[0;34m\u001b[0m\u001b[0m\n",
            "\u001b[0;32m/usr/local/lib/python3.6/dist-packages/scipy/stats/_distn_infrastructure.py\u001b[0m in \u001b[0;36m<listcomp>\u001b[0;34m(.0)\u001b[0m\n\u001b[1;32m    543\u001b[0m         \u001b[0mnewargs\u001b[0m \u001b[0;34m=\u001b[0m \u001b[0;34m[\u001b[0m\u001b[0mnewargs\u001b[0m\u001b[0;34m,\u001b[0m \u001b[0;34m]\u001b[0m\u001b[0;34m\u001b[0m\u001b[0;34m\u001b[0m\u001b[0m\n\u001b[1;32m    544\u001b[0m     \u001b[0mexpand_arr\u001b[0m \u001b[0;34m=\u001b[0m \u001b[0;34m(\u001b[0m\u001b[0mcond\u001b[0m \u001b[0;34m==\u001b[0m \u001b[0mcond\u001b[0m\u001b[0;34m)\u001b[0m\u001b[0;34m\u001b[0m\u001b[0;34m\u001b[0m\u001b[0m\n\u001b[0;32m--> 545\u001b[0;31m     \u001b[0;32mreturn\u001b[0m \u001b[0;34m[\u001b[0m\u001b[0mnp\u001b[0m\u001b[0;34m.\u001b[0m\u001b[0mextract\u001b[0m\u001b[0;34m(\u001b[0m\u001b[0mcond\u001b[0m\u001b[0;34m,\u001b[0m \u001b[0marr1\u001b[0m \u001b[0;34m*\u001b[0m \u001b[0mexpand_arr\u001b[0m\u001b[0;34m)\u001b[0m \u001b[0;32mfor\u001b[0m \u001b[0marr1\u001b[0m \u001b[0;32min\u001b[0m \u001b[0mnewargs\u001b[0m\u001b[0;34m]\u001b[0m\u001b[0;34m\u001b[0m\u001b[0;34m\u001b[0m\u001b[0m\n\u001b[0m\u001b[1;32m    546\u001b[0m \u001b[0;34m\u001b[0m\u001b[0m\n\u001b[1;32m    547\u001b[0m \u001b[0;34m\u001b[0m\u001b[0m\n",
            "\u001b[0;32m<__array_function__ internals>\u001b[0m in \u001b[0;36mextract\u001b[0;34m(*args, **kwargs)\u001b[0m\n",
            "\u001b[0;32m/usr/local/lib/python3.6/dist-packages/numpy/lib/function_base.py\u001b[0m in \u001b[0;36mextract\u001b[0;34m(condition, arr)\u001b[0m\n\u001b[1;32m   1675\u001b[0m \u001b[0;34m\u001b[0m\u001b[0m\n\u001b[1;32m   1676\u001b[0m     \"\"\"\n\u001b[0;32m-> 1677\u001b[0;31m     \u001b[0;32mreturn\u001b[0m \u001b[0m_nx\u001b[0m\u001b[0;34m.\u001b[0m\u001b[0mtake\u001b[0m\u001b[0;34m(\u001b[0m\u001b[0mravel\u001b[0m\u001b[0;34m(\u001b[0m\u001b[0marr\u001b[0m\u001b[0;34m)\u001b[0m\u001b[0;34m,\u001b[0m \u001b[0mnonzero\u001b[0m\u001b[0;34m(\u001b[0m\u001b[0mravel\u001b[0m\u001b[0;34m(\u001b[0m\u001b[0mcondition\u001b[0m\u001b[0;34m)\u001b[0m\u001b[0;34m)\u001b[0m\u001b[0;34m[\u001b[0m\u001b[0;36m0\u001b[0m\u001b[0;34m]\u001b[0m\u001b[0;34m)\u001b[0m\u001b[0;34m\u001b[0m\u001b[0;34m\u001b[0m\u001b[0m\n\u001b[0m\u001b[1;32m   1678\u001b[0m \u001b[0;34m\u001b[0m\u001b[0m\n\u001b[1;32m   1679\u001b[0m \u001b[0;34m\u001b[0m\u001b[0m\n",
            "\u001b[0;32m<__array_function__ internals>\u001b[0m in \u001b[0;36mravel\u001b[0;34m(*args, **kwargs)\u001b[0m\n",
            "\u001b[0;32m/usr/local/lib/python3.6/dist-packages/numpy/core/fromnumeric.py\u001b[0m in \u001b[0;36mravel\u001b[0;34m(a, order)\u001b[0m\n\u001b[1;32m   1795\u001b[0m         \u001b[0;32mreturn\u001b[0m \u001b[0masarray\u001b[0m\u001b[0;34m(\u001b[0m\u001b[0ma\u001b[0m\u001b[0;34m)\u001b[0m\u001b[0;34m.\u001b[0m\u001b[0mravel\u001b[0m\u001b[0;34m(\u001b[0m\u001b[0morder\u001b[0m\u001b[0;34m=\u001b[0m\u001b[0morder\u001b[0m\u001b[0;34m)\u001b[0m\u001b[0;34m\u001b[0m\u001b[0;34m\u001b[0m\u001b[0m\n\u001b[1;32m   1796\u001b[0m     \u001b[0;32melse\u001b[0m\u001b[0;34m:\u001b[0m\u001b[0;34m\u001b[0m\u001b[0;34m\u001b[0m\u001b[0m\n\u001b[0;32m-> 1797\u001b[0;31m         \u001b[0;32mreturn\u001b[0m \u001b[0masanyarray\u001b[0m\u001b[0;34m(\u001b[0m\u001b[0ma\u001b[0m\u001b[0;34m)\u001b[0m\u001b[0;34m.\u001b[0m\u001b[0mravel\u001b[0m\u001b[0;34m(\u001b[0m\u001b[0morder\u001b[0m\u001b[0;34m=\u001b[0m\u001b[0morder\u001b[0m\u001b[0;34m)\u001b[0m\u001b[0;34m\u001b[0m\u001b[0;34m\u001b[0m\u001b[0m\n\u001b[0m\u001b[1;32m   1798\u001b[0m \u001b[0;34m\u001b[0m\u001b[0m\n\u001b[1;32m   1799\u001b[0m \u001b[0;34m\u001b[0m\u001b[0m\n",
            "\u001b[0;32m/usr/local/lib/python3.6/dist-packages/numpy/core/_asarray.py\u001b[0m in \u001b[0;36masanyarray\u001b[0;34m(a, dtype, order)\u001b[0m\n\u001b[1;32m    136\u001b[0m \u001b[0;34m\u001b[0m\u001b[0m\n\u001b[1;32m    137\u001b[0m     \"\"\"\n\u001b[0;32m--> 138\u001b[0;31m     \u001b[0;32mreturn\u001b[0m \u001b[0marray\u001b[0m\u001b[0;34m(\u001b[0m\u001b[0ma\u001b[0m\u001b[0;34m,\u001b[0m \u001b[0mdtype\u001b[0m\u001b[0;34m,\u001b[0m \u001b[0mcopy\u001b[0m\u001b[0;34m=\u001b[0m\u001b[0;32mFalse\u001b[0m\u001b[0;34m,\u001b[0m \u001b[0morder\u001b[0m\u001b[0;34m=\u001b[0m\u001b[0morder\u001b[0m\u001b[0;34m,\u001b[0m \u001b[0msubok\u001b[0m\u001b[0;34m=\u001b[0m\u001b[0;32mTrue\u001b[0m\u001b[0;34m)\u001b[0m\u001b[0;34m\u001b[0m\u001b[0;34m\u001b[0m\u001b[0m\n\u001b[0m\u001b[1;32m    139\u001b[0m \u001b[0;34m\u001b[0m\u001b[0m\n\u001b[1;32m    140\u001b[0m \u001b[0;34m\u001b[0m\u001b[0m\n",
            "\u001b[0;31mKeyboardInterrupt\u001b[0m: "
          ]
        }
      ]
    },
    {
      "cell_type": "code",
      "metadata": {
        "id": "5T53agUwobfc",
        "colab_type": "code",
        "colab": {
          "base_uri": "https://localhost:8080/",
          "height": 181
        },
        "outputId": "235c79da-31f3-4738-b565-92cb3b7b135d"
      },
      "source": [
        "results"
      ],
      "execution_count": null,
      "outputs": [
        {
          "output_type": "execute_result",
          "data": {
            "text/plain": [
              "[4.200143557617926,\n",
              " 4.682519956065282,\n",
              " 4.154248990613746,\n",
              " 4.060953934188397,\n",
              " 4.1808653087334084,\n",
              " 4.319841798498801,\n",
              " 4.308181060439416,\n",
              " 4.2147272335134724,\n",
              " 4.192113229648546]"
            ]
          },
          "metadata": {
            "tags": []
          },
          "execution_count": 39
        }
      ]
    },
    {
      "cell_type": "code",
      "metadata": {
        "id": "3jtKqwMioeR3",
        "colab_type": "code",
        "colab": {
          "base_uri": "https://localhost:8080/",
          "height": 35
        },
        "outputId": "fcdfdc6b-d341-463f-c8d1-ed48a7f8c34e"
      },
      "source": [
        "bool('sss')"
      ],
      "execution_count": null,
      "outputs": [
        {
          "output_type": "execute_result",
          "data": {
            "text/plain": [
              "True"
            ]
          },
          "metadata": {
            "tags": []
          },
          "execution_count": 4
        }
      ]
    },
    {
      "cell_type": "code",
      "metadata": {
        "id": "SLsF9-GJ5j9h",
        "colab_type": "code",
        "colab": {}
      },
      "source": [
        ""
      ],
      "execution_count": null,
      "outputs": []
    }
  ]
}